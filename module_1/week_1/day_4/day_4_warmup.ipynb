{
 "cells": [
  {
   "cell_type": "markdown",
   "metadata": {},
   "source": [
    "FOR loops"
   ]
  },
  {
   "cell_type": "code",
   "execution_count": 1,
   "metadata": {},
   "outputs": [],
   "source": [
    "#Create a for loop to print out the elements of this list\n",
    "\n",
    "list1 = ['This', 'is', 'how', 'you', 'print', 'out', 'a', 'list']\n",
    "\n"
   ]
  },
  {
   "cell_type": "code",
   "execution_count": 2,
   "metadata": {},
   "outputs": [],
   "source": [
    "#Use a for loop to find the sum of the integers in this string:\n",
    "\n",
    "num_string = '1234'\n",
    "\n"
   ]
  },
  {
   "cell_type": "markdown",
   "metadata": {},
   "source": [
    "IF-Else statements"
   ]
  },
  {
   "cell_type": "code",
   "execution_count": 3,
   "metadata": {},
   "outputs": [],
   "source": [
    "#Write an if statement that prints out a word if it begins with a vowel\n",
    "\n",
    "sentc = \"This is a sentence of various words!\"\n",
    "\n"
   ]
  },
  {
   "cell_type": "code",
   "execution_count": 4,
   "metadata": {},
   "outputs": [],
   "source": [
    "#Find a way to print out a word if it begins with a vowel, but print 'BANG' otherwise\n"
   ]
  },
  {
   "cell_type": "markdown",
   "metadata": {},
   "source": [
    "Advanced Loops"
   ]
  },
  {
   "cell_type": "markdown",
   "metadata": {},
   "source": [
    "Write a program that allows a user to find the average of a specific number of integers/float\n",
    "It should:\n",
    "\n",
    "1. Ask for the number of integers/floats you wish to find the average of\n",
    "2. Users should be ble to enter in numbers following a prompt.\n",
    "3. If the average is greater than 100, the program shoultd print out \n",
    "  \"WOW, that's a great average!\". If it's between 100 and 50, print 'That's an okay average.'\n",
    "    Otherwise, it should print 'Eh, not a great average'\n",
    "4. If the initial input is 0, the program shoudl immediately exit."
   ]
  },
  {
   "cell_type": "code",
   "execution_count": null,
   "metadata": {},
   "outputs": [],
   "source": [
    "num_of_num = int(input(\"How many numbers will you be summming up?  --> \"))\n",
    "\n"
   ]
  },
  {
   "cell_type": "markdown",
   "metadata": {},
   "source": [
    "Lists "
   ]
  },
  {
   "cell_type": "markdown",
   "metadata": {},
   "source": [
    "Amend the last program so that it stores the numbers in a list as opposed to adding each succesive number to the sum. Often, we want to hold the our data for later use. Try calculating the sum of the list's elements without using the sum() method. Your program's  out should look something like this:\n",
    "\n",
    "'The average of:\n",
    "1\n",
    "2\n",
    "3\n",
    "7\n",
    "is 3.25.'"
   ]
  },
  {
   "cell_type": "code",
   "execution_count": null,
   "metadata": {},
   "outputs": [],
   "source": [
    "num_of_num = int(input(\"How many numbers will you be summming up?  --> \"))\n",
    "num_list = []\n",
    "\n"
   ]
  }
 ],
 "metadata": {
  "kernelspec": {
   "display_name": "Python 3",
   "language": "python",
   "name": "python3"
  },
  "language_info": {
   "codemirror_mode": {
    "name": "ipython",
    "version": 3
   },
   "file_extension": ".py",
   "mimetype": "text/x-python",
   "name": "python",
   "nbconvert_exporter": "python",
   "pygments_lexer": "ipython3",
   "version": "3.7.3"
  }
 },
 "nbformat": 4,
 "nbformat_minor": 4
}
