{
 "cells": [
  {
   "cell_type": "markdown",
   "metadata": {},
   "source": [
    "# Quality data science deliverables\n",
    "\n",
    "After this notebook, you will be given your **first project assignment**. Many questions will be answered then. \n",
    "\n",
    "But it is safe to assume that a **presentation** and a **jupyter notebook** will be involved.\n",
    "I'm sure we've all seen.... *questionable* presentations.\n",
    "\n",
    "![gif-powerpoint](https://media1.giphy.com/media/94iS62lx8CRQA/giphy.gif?cid=790b76115ccb171b6b7a426359453df9&rid=giphy.gif)"
   ]
  },
  {
   "cell_type": "markdown",
   "metadata": {},
   "source": [
    "## Learning goals:\n",
    "\n",
    "- Assess a few presentation decks and generate a list of best practices\n",
    "- Practice formating text in markdown\n",
    "- Identify the differences between jupyter notebooks in different stages of analysis\n",
    "- Identify your growth area in presentations and generate a list of steps\n"
   ]
  },
  {
   "cell_type": "markdown",
   "metadata": {},
   "source": [
    "## Goal 1: Presentations and decks\n",
    "\n",
    "[Article 1](https://24slides.com/presentbetter/seven-worst-presentations-time-went-wrong/), [Article 2](https://blog.lemonadestand.org/bad-powerpoint-presentations/), [Article 3](https://elearningindustry.com/creating-powerpoint-presentations-5-mistakes-avoid), [Article 4](https://www.makeuseof.com/tag/powerpoint-presentation-mistakes/)\n",
    "\n",
    "### Best practices review!!!!\n",
    "\n",
    "###  Task: fill doc\n",
    "[group article review doc](https://docs.google.com/document/d/1OTCdeehN2T6WMjVu3_2OwqYZg9mFH_TT6ui7AHBlPhw/edit)"
   ]
  },
  {
   "cell_type": "markdown",
   "metadata": {},
   "source": [
    "### Content and Format\n",
    "\n",
    "**Content**:\n",
    "- Does your deck tell a story\n",
    "- Is your story in three parts?\n",
    "- What is your text?\n",
    "- What are your titles?\n",
    "\n",
    "**Format**:\n",
    "- Grammar\n",
    "- Whitespace\n",
    "- Transitions"
   ]
  },
  {
   "cell_type": "markdown",
   "metadata": {},
   "source": [
    "### Task:\n",
    "\n",
    "Review these two decks: [V2](https://docs.google.com/presentation/d/1i2_9VSOeX78UK6EGrUNnI9j4b7PPt_hia_8z1DWYju0/edit?usp=sharing) and [V1](https://docs.google.com/presentation/d/1Vvnya28jwm7EBWDImB-easLgUZuW3Uj_gJSpTeITYnw/edit?usp=sharing)\n",
    "- Which is \"better\"?\n",
    "- What could be improved in each?"
   ]
  },
  {
   "cell_type": "markdown",
   "metadata": {},
   "source": [
    "## Goal 2: Practice formatting text in markdown\n",
    "\n",
    "***\n",
    "\n",
    "Which of these two is easier to read?\n",
    "\n",
    "[Doc 1](markdown-test/no-markdown/README.md) vs [Doc 2](markdown-test/README.md)\n",
    "\n",
    "\n",
    "### Task: update Doc 1 to match the style of Doc 2\n",
    "\n",
    "[markdown cheat sheet](https://guides.github.com/pdfs/markdown-cheatsheet-online.pdf)"
   ]
  },
  {
   "cell_type": "markdown",
   "metadata": {},
   "source": []
  },
  {
   "cell_type": "markdown",
   "metadata": {},
   "source": [
    "## Goal 3: Identify the differences between jupyter notebooks in different stages of analysis\n",
    "\n",
    "When you write a paper or a report, what version do you share with your boss or your audience? Does it look different than when you started?\n",
    "\n",
    "### Task: order notebooks\n",
    "- We have three notebooks and note their differences and similarities\n",
    "- please review them and order them from lowest to highest 1 being just for your eyes and 3 being for an audience\n"
   ]
  },
  {
   "cell_type": "markdown",
   "metadata": {},
   "source": [
    "## Integration:\n",
    "Will happen and be demonstrated during your presentations and over the next few weeks. This is a growth curve for most. We want you to have a *quality* presentation.\n",
    "\n",
    "![baby](https://media2.giphy.com/media/l0HeqCXn1qjs8dqKs/giphy.gif?cid=790b76115ccb226549494475368e0b72&rid=giphy.gif)"
   ]
  }
 ],
 "metadata": {
  "kernelspec": {
   "display_name": "Python 3",
   "language": "python",
   "name": "python3"
  },
  "language_info": {
   "codemirror_mode": {
    "name": "ipython",
    "version": 3
   },
   "file_extension": ".py",
   "mimetype": "text/x-python",
   "name": "python",
   "nbconvert_exporter": "python",
   "pygments_lexer": "ipython3",
   "version": "3.6.9"
  }
 },
 "nbformat": 4,
 "nbformat_minor": 4
}
