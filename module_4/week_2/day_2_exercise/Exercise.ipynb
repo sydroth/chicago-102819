{
 "cells": [
  {
   "cell_type": "markdown",
   "metadata": {},
   "source": [
    "## Exercise\n"
   ]
  },
  {
   "cell_type": "code",
   "execution_count": 1,
   "metadata": {},
   "outputs": [],
   "source": [
    "import pandas as pd\n",
    "%matplotlib inline\n",
    "import seaborn as sns\n",
    "import matplotlib.pyplot as plt\n",
    "from scipy import stats\n",
    "\n",
    "data = pd.read_csv(\"data.csv\" )"
   ]
  },
  {
   "cell_type": "code",
   "execution_count": null,
   "metadata": {},
   "outputs": [],
   "source": [
    "### Notes from Sucheta\n",
    "\n",
    "# 1. Create new column called order_count, in this add order count for the customer\n",
    "# 2. Create new column called recent_date, pull most recent purchase date\n",
    "# 3. Display top ten rows, sorting customer by ID\n",
    "# \n",
    "\n",
    "data.head()"
   ]
  },
  {
   "cell_type": "markdown",
   "metadata": {},
   "source": [
    "### A) Assemble a dataframe with one row per customer and the following columns:\n",
    "    * customer_id\n",
    "    * gender\n",
    "    * most_recent_order_date\n",
    "    * order_count (number of orders placed by this customer)\n",
    "   Sort the dataframe by customer_id ascending and display the first 10 rows.\n"
   ]
  },
  {
   "cell_type": "code",
   "execution_count": 2,
   "metadata": {},
   "outputs": [
    {
     "data": {
      "text/html": [
       "<div>\n",
       "<style scoped>\n",
       "    .dataframe tbody tr th:only-of-type {\n",
       "        vertical-align: middle;\n",
       "    }\n",
       "\n",
       "    .dataframe tbody tr th {\n",
       "        vertical-align: top;\n",
       "    }\n",
       "\n",
       "    .dataframe thead th {\n",
       "        text-align: right;\n",
       "    }\n",
       "</style>\n",
       "<table border=\"1\" class=\"dataframe\">\n",
       "  <thead>\n",
       "    <tr style=\"text-align: right;\">\n",
       "      <th></th>\n",
       "      <th>customer_id</th>\n",
       "      <th>gender</th>\n",
       "      <th>date</th>\n",
       "      <th>value</th>\n",
       "      <th>predicted_gender</th>\n",
       "    </tr>\n",
       "  </thead>\n",
       "  <tbody>\n",
       "    <tr>\n",
       "      <td>0</td>\n",
       "      <td>1000</td>\n",
       "      <td>0</td>\n",
       "      <td>2017-01-01 00:11:31</td>\n",
       "      <td>198.50</td>\n",
       "      <td>1</td>\n",
       "    </tr>\n",
       "    <tr>\n",
       "      <td>1</td>\n",
       "      <td>1001</td>\n",
       "      <td>0</td>\n",
       "      <td>2017-01-01 00:29:56</td>\n",
       "      <td>338.00</td>\n",
       "      <td>1</td>\n",
       "    </tr>\n",
       "    <tr>\n",
       "      <td>2</td>\n",
       "      <td>1002</td>\n",
       "      <td>1</td>\n",
       "      <td>2017-02-19 21:35:31</td>\n",
       "      <td>733.00</td>\n",
       "      <td>1</td>\n",
       "    </tr>\n",
       "    <tr>\n",
       "      <td>3</td>\n",
       "      <td>1003</td>\n",
       "      <td>1</td>\n",
       "      <td>2017-04-26 02:37:20</td>\n",
       "      <td>772.00</td>\n",
       "      <td>1</td>\n",
       "    </tr>\n",
       "    <tr>\n",
       "      <td>4</td>\n",
       "      <td>1004</td>\n",
       "      <td>0</td>\n",
       "      <td>2017-01-01 03:11:54</td>\n",
       "      <td>508.00</td>\n",
       "      <td>1</td>\n",
       "    </tr>\n",
       "    <tr>\n",
       "      <td>...</td>\n",
       "      <td>...</td>\n",
       "      <td>...</td>\n",
       "      <td>...</td>\n",
       "      <td>...</td>\n",
       "      <td>...</td>\n",
       "    </tr>\n",
       "    <tr>\n",
       "      <td>8809</td>\n",
       "      <td>9809</td>\n",
       "      <td>1</td>\n",
       "      <td>2017-12-31 21:39:33</td>\n",
       "      <td>606.40</td>\n",
       "      <td>1</td>\n",
       "    </tr>\n",
       "    <tr>\n",
       "      <td>8810</td>\n",
       "      <td>9810</td>\n",
       "      <td>1</td>\n",
       "      <td>2017-12-31 22:16:20</td>\n",
       "      <td>794.44</td>\n",
       "      <td>0</td>\n",
       "    </tr>\n",
       "    <tr>\n",
       "      <td>8811</td>\n",
       "      <td>9811</td>\n",
       "      <td>1</td>\n",
       "      <td>2017-12-31 22:24:06</td>\n",
       "      <td>148.60</td>\n",
       "      <td>0</td>\n",
       "    </tr>\n",
       "    <tr>\n",
       "      <td>8812</td>\n",
       "      <td>9812</td>\n",
       "      <td>0</td>\n",
       "      <td>2017-12-31 23:01:10</td>\n",
       "      <td>153.00</td>\n",
       "      <td>1</td>\n",
       "    </tr>\n",
       "    <tr>\n",
       "      <td>8813</td>\n",
       "      <td>9813</td>\n",
       "      <td>0</td>\n",
       "      <td>2017-12-31 23:11:02</td>\n",
       "      <td>534.00</td>\n",
       "      <td>1</td>\n",
       "    </tr>\n",
       "  </tbody>\n",
       "</table>\n",
       "<p>8814 rows × 5 columns</p>\n",
       "</div>"
      ],
      "text/plain": [
       "      customer_id  gender                date   value  predicted_gender\n",
       "0            1000       0 2017-01-01 00:11:31  198.50                 1\n",
       "1            1001       0 2017-01-01 00:29:56  338.00                 1\n",
       "2            1002       1 2017-02-19 21:35:31  733.00                 1\n",
       "3            1003       1 2017-04-26 02:37:20  772.00                 1\n",
       "4            1004       0 2017-01-01 03:11:54  508.00                 1\n",
       "...           ...     ...                 ...     ...               ...\n",
       "8809         9809       1 2017-12-31 21:39:33  606.40                 1\n",
       "8810         9810       1 2017-12-31 22:16:20  794.44                 0\n",
       "8811         9811       1 2017-12-31 22:24:06  148.60                 0\n",
       "8812         9812       0 2017-12-31 23:01:10  153.00                 1\n",
       "8813         9813       0 2017-12-31 23:11:02  534.00                 1\n",
       "\n",
       "[8814 rows x 5 columns]"
      ]
     },
     "execution_count": 2,
     "metadata": {},
     "output_type": "execute_result"
    }
   ],
   "source": [
    "df = pd.DataFrame(data)\n",
    "df['date'] = pd.to_datetime(df.date)\n",
    "\n",
    "#Find most recent date by customer id\n",
    "\n",
    "df = df.groupby('customer_id').agg('max')\n",
    "df = df.reset_index()\n",
    "\n",
    "#Get number of orders placed per customer\n",
    "\n",
    "#sort the dataframe by customer id\n",
    "\n",
    "#Add the order count to the dataframe\n",
    "\n",
    "#Top 10 rows \n",
    "df"
   ]
  },
  {
   "cell_type": "code",
   "execution_count": null,
   "metadata": {},
   "outputs": [],
   "source": [
    "df"
   ]
  },
  {
   "cell_type": "code",
   "execution_count": null,
   "metadata": {},
   "outputs": [],
   "source": [
    "df = df.sort(['customer_id'])\n",
    "df"
   ]
  },
  {
   "cell_type": "code",
   "execution_count": null,
   "metadata": {},
   "outputs": [],
   "source": [
    "df['order_count'] = df['customer_id'].value_counts(normalize=True)\n",
    "\n",
    "df"
   ]
  },
  {
   "cell_type": "markdown",
   "metadata": {},
   "source": [
    "### B) Plot the count of orders per week."
   ]
  },
  {
   "cell_type": "code",
   "execution_count": null,
   "metadata": {
    "scrolled": true
   },
   "outputs": [],
   "source": [
    "df['week number'] = pd.to_datetime(df['date']).dt.strftime('%U')\n",
    "                                                           \n",
    "df.head()                                                           "
   ]
  },
  {
   "cell_type": "markdown",
   "metadata": {},
   "source": [
    "### C) Compute the mean order value for gender 0 and for gender 1. Do you think the difference is significant? \n",
    "Hint: use approptiate test to find out the difference is significant or not."
   ]
  },
  {
   "cell_type": "code",
   "execution_count": 3,
   "metadata": {},
   "outputs": [
    {
     "data": {
      "text/plain": [
       "gender\n",
       "0    363.890006\n",
       "1    350.708361\n",
       "Name: value, dtype: float64"
      ]
     },
     "execution_count": 3,
     "metadata": {},
     "output_type": "execute_result"
    }
   ],
   "source": [
    "data.groupby('gender')['value'].mean()"
   ]
  },
  {
   "cell_type": "code",
   "execution_count": 4,
   "metadata": {},
   "outputs": [
    {
     "data": {
      "text/plain": [
       "Ttest_indResult(statistic=1.9757691572170935, pvalue=0.04820130539124317)"
      ]
     },
     "execution_count": 4,
     "metadata": {},
     "output_type": "execute_result"
    }
   ],
   "source": [
    "gender_0 = data[data['gender']== 0]['value']\n",
    "gender_1 = data[data['gender']== 1]['value']\n",
    "stats.ttest_ind(gender_0, gender_1)"
   ]
  },
  {
   "cell_type": "code",
   "execution_count": null,
   "metadata": {},
   "outputs": [],
   "source": []
  }
 ],
 "metadata": {
  "kernelspec": {
   "display_name": "Python 3",
   "language": "python",
   "name": "python3"
  },
  "language_info": {
   "codemirror_mode": {
    "name": "ipython",
    "version": 3
   },
   "file_extension": ".py",
   "mimetype": "text/x-python",
   "name": "python",
   "nbconvert_exporter": "python",
   "pygments_lexer": "ipython3",
   "version": "3.6.9"
  }
 },
 "nbformat": 4,
 "nbformat_minor": 4
}
