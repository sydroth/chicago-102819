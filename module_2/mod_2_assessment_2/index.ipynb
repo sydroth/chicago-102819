{
 "cells": [
  {
   "cell_type": "markdown",
   "metadata": {
    "ein.tags": "worksheet-0",
    "slideshow": {
     "slide_type": "-"
    }
   },
   "source": [
    "# Module 2 Assessment\n",
    "\n",
    "Welcome to your Mod 2 Assessment. You will be tested for your understanding of concepts and ability to solve problems that have been covered in class and in the curriculum.\n",
    "\n",
    "Use any libraries you want to solve the problems in the assessment.\n",
    "\n",
    "The sections of the assessment are:\n",
    "\n",
    "- Accessing Data Through APIs\n",
    "- Object Oriented Programming\n",
    "- SQL and Relational Databases\n",
    "- Web Scraping\n",
    "\n",
    "In this assessment you will primarily be exploring a Pokemon dataset. Pokemon are fictional creatures from the [Nintendo franchise](https://en.wikipedia.org/wiki/Pok%C3%A9mon) of the same name.\n",
    "\n",
    "Some Pokemon facts that might be useful:\n",
    "* The word \"pokemon\" is both singular and plural. You may refer to \"one pokemon\" or \"many pokemon\".\n",
    "* Pokemon have attributes such as a name, weight, and height.\n",
    "* Pokemon have one or multiple \"types\". A type is something like \"electric\", \"water\", \"ghost\", or \"normal\" that indicates the abilities that pokemon may possess.\n",
    "* The humans who collect pokemon are called \"trainers\"."
   ]
  },
  {
   "cell_type": "code",
   "execution_count": null,
   "metadata": {
    "autoscroll": false,
    "ein.hycell": false,
    "ein.tags": "worksheet-0",
    "jupyter": {
     "outputs_hidden": false
    },
    "slideshow": {
     "slide_type": "-"
    }
   },
   "outputs": [],
   "source": [
    "# import the necessary libraries\n",
    "import requests\n",
    "import json\n",
    "import pandas as pd\n",
    "import sqlite3"
   ]
  },
  {
   "cell_type": "markdown",
   "metadata": {
    "ein.tags": "worksheet-0",
    "slideshow": {
     "slide_type": "-"
    }
   },
   "source": [
    "## Part 1: Accessing Data Through APIs [Suggested Time: 25 minutes]\n",
    "\n",
    "In this section we'll be using PokeAPI to get data on Pokemon. \n",
    "\n",
    "[Consult the documentation here](https://pokeapi.co/docs/v2.html) for information on obtaining data from this API."
   ]
  },
  {
   "cell_type": "markdown",
   "metadata": {
    "ein.tags": "worksheet-0",
    "slideshow": {
     "slide_type": "-"
    }
   },
   "source": [
    "### 1. Get the \"types\"\n",
    "We want to know the \"types\" of any particular pokemon given it's name. Complete the `get_pokemon_types` function below. It should return a `list` of all the names of the \"types\" that pokemon has\n",
    "\n",
    "Make a request to `\"https://pokeapi.co/api/v2/pokemon/<add-name-of-pokemon-here>\"`. Inspect the API response and extract the names of the types. Here are the [docs for this specific API route](https://pokeapi.co/docs/v2.html/#pokemon).\n",
    "\n",
    "```python\n",
    "# Examples: \n",
    "get_pokemon_types(\"pikachu\")   # returns [\"electric\"]\n",
    "get_pokemon_types(\"bulbasaur\") # returns [\"poison\", \"grass\"]\n",
    "get_pokemon_types(\"snorlax\")   # returns [\"normal\"]\n",
    "get_pokemon_types(\"moltres\")   # returns [\"flying\", \"fire\"]\n",
    "```"
   ]
  },
  {
   "cell_type": "code",
   "execution_count": null,
   "metadata": {
    "autoscroll": false,
    "ein.hycell": false,
    "ein.tags": "worksheet-0",
    "jupyter": {
     "outputs_hidden": false
    },
    "scrolled": true,
    "slideshow": {
     "slide_type": "-"
    }
   },
   "outputs": [],
   "source": [
    "def get_pokemon_types(name):\n",
    "    '''\n",
    "    input: name - a string of the pokemon's name\n",
    "    \n",
    "    return: a list of strings of the one or more types belonging to the pokemon\n",
    "    '''\n",
    "    pass"
   ]
  },
  {
   "cell_type": "code",
   "execution_count": null,
   "metadata": {
    "autoscroll": false,
    "ein.hycell": false,
    "ein.tags": "worksheet-0",
    "jupyter": {
     "outputs_hidden": false
    },
    "slideshow": {
     "slide_type": "-"
    }
   },
   "outputs": [],
   "source": [
    "get_pokemon_types(\"bulbasaur\")"
   ]
  },
  {
   "cell_type": "markdown",
   "metadata": {
    "ein.tags": "worksheet-0",
    "slideshow": {
     "slide_type": "-"
    }
   },
   "source": [
    "## Part 2: Object Oriented Programming [Suggested Time: 20 minutes]\n",
    "\n",
    "As a pokemon trainer we want to make sure our pokemon are performing at their peak. To measure this, we want to calculate a pokemon's Body Mass Index (or BMI). This is a statistic calculated using the pokemon's height and weight. \n",
    "\n",
    "To help with this task we we will create Pokemon objects that methods can be called on. \n",
    "\n",
    "You'll be working with following dictionaries to create the `Pokemon` objects"
   ]
  },
  {
   "cell_type": "code",
   "execution_count": null,
   "metadata": {
    "autoscroll": false,
    "ein.hycell": false,
    "ein.tags": "worksheet-0",
    "jupyter": {
     "outputs_hidden": false
    },
    "slideshow": {
     "slide_type": "-"
    }
   },
   "outputs": [],
   "source": [
    "# Use the following data\n",
    "bulbasaur_data = {\"name\": 'bulbasaur', \"weight\": 69, \"height\": 7, \"base_experience\": 64, \"types\": [\"grass\", \"poison\"]}\n",
    "charmander_data = {\"name\": 'charmander', \"weight\": 85, \"height\": 6, \"base_experience\": 62, \"types\": [\"fire\"]}\n",
    "squirtle_data = {\"name\": 'squirtle', \"weight\": 90, \"height\": 5, \"base_experience\": 63, \"types\": [\"water\"]}"
   ]
  },
  {
   "cell_type": "markdown",
   "metadata": {
    "ein.tags": "worksheet-0",
    "slideshow": {
     "slide_type": "-"
    }
   },
   "source": [
    "### 1. Creating a Class\n",
    "\n",
    "Create a class called `Pokemon` with an `__init__` method. Every `Pokemon` instance should have the following attributes:\n",
    "* `name`\n",
    "* `weight`\n",
    "* `height`"
   ]
  },
  {
   "cell_type": "code",
   "execution_count": null,
   "metadata": {
    "autoscroll": false,
    "ein.hycell": false,
    "ein.tags": "worksheet-0",
    "jupyter": {
     "outputs_hidden": false
    },
    "slideshow": {
     "slide_type": "-"
    }
   },
   "outputs": [],
   "source": [
    "# Create your class below with the correct syntax, including an __init__ method."
   ]
  },
  {
   "cell_type": "markdown",
   "metadata": {
    "ein.tags": "worksheet-0",
    "slideshow": {
     "slide_type": "-"
    }
   },
   "source": [
    "    \n",
    "### 2. Instantiating Objects\n",
    "\n",
    "Using the `bulbasaur_data`, `charmander_data` and `squirtle_data` variables, create the corresponding pokemon objects."
   ]
  },
  {
   "cell_type": "code",
   "execution_count": null,
   "metadata": {
    "autoscroll": false,
    "ein.hycell": false,
    "ein.tags": "worksheet-0",
    "jupyter": {
     "outputs_hidden": false
    },
    "slideshow": {
     "slide_type": "-"
    }
   },
   "outputs": [],
   "source": [
    "# Your code here\n",
    "bulbasaur = pass\n",
    "charmander = pass\n",
    "squirtle = pass"
   ]
  },
  {
   "cell_type": "code",
   "execution_count": null,
   "metadata": {
    "autoscroll": false,
    "ein.hycell": false,
    "ein.tags": "worksheet-0",
    "jupyter": {
     "outputs_hidden": false
    },
    "slideshow": {
     "slide_type": "-"
    }
   },
   "outputs": [],
   "source": [
    "# run this cell to test and check your code\n",
    "# you may need to edit the attribute variable names if you named them differently!\n",
    "\n",
    "def print_pokeinfo(pkmn):\n",
    "    print('Name: ' + pkmn.name)\n",
    "    print('Weight: ' + str(pkmn.weight))\n",
    "    print('Height: ' + str(pkmn.height))\n",
    "    print('\\n')\n",
    "    \n",
    "print_pokeinfo(bulbasaur)\n",
    "print_pokeinfo(ivysaur)\n",
    "print_pokeinfo(venusaur)"
   ]
  },
  {
   "cell_type": "markdown",
   "metadata": {
    "ein.tags": "worksheet-0",
    "slideshow": {
     "slide_type": "-"
    }
   },
   "source": [
    "### 3. Instance Methods\n",
    "\n",
    "Write an instance method called `bmi` within the class `Pokemon` defined above to calculate the BMI of a Pokemon. \n",
    "\n",
    "BMI is defined by the formula: $\\frac{weight}{height^{2}}$ \n",
    "\n",
    "The BMI should be calculated with weight in **kilograms** and height in **meters**. \n",
    "\n",
    "\n",
    "The height and weight data of Pokemon from the API is in **decimeters** and **hectograms** respectively. Here are the conversions:\n",
    "\n",
    "```\n",
    "1 decimeter = 0.1 meters\n",
    "1 hectogram = 0.1 kilograms\n",
    "```"
   ]
  },
  {
   "cell_type": "code",
   "execution_count": null,
   "metadata": {
    "autoscroll": false,
    "ein.hycell": false,
    "ein.tags": "worksheet-0",
    "jupyter": {
     "outputs_hidden": false
    },
    "slideshow": {
     "slide_type": "-"
    }
   },
   "outputs": [],
   "source": [
    "# run this cell to test and check your code\n",
    "\n",
    "# After defining a new instance method on the class, \n",
    "# you will have to rerun the code instantiating your objects\n",
    "\n",
    "print(bulbasaur.bmi()) # 14.08\n",
    "print(charmander.bmi()) # 23.61\n",
    "print(squirtle.bmi()) # 36.0"
   ]
  },
  {
   "cell_type": "markdown",
   "metadata": {
    "ein.tags": "worksheet-0",
    "slideshow": {
     "slide_type": "-"
    }
   },
   "source": [
    "## Part 3: SQL and Relational Databases [Suggested Time: 30 minutes]\n",
    "\n",
    "For this section, we've put the Pokemon data into SQL tables. You won't need to use your list of dictionaries or the JSON file for this section. The schema of `pokemon.db` is as follows:\n",
    "\n",
    "<img src=\"data/pokemon_db.png\" alt=\"db schema\" style=\"width:500px;\"/>\n",
    "\n",
    "Assign your SQL queries as strings to the variables `q1`, `q2`, etc. and run the cells at the end of this section to print your results as Pandas DataFrames.\n",
    "\n",
    "- q1: Find all the pokemon on the \"pokemon\" table. Display all columns.  \n",
    "\n",
    "  \n",
    "- q2: Find all the rows from the \"pokemon_types\" table where the type_id is 3.\n",
    "\n",
    "\n",
    "- q3: Find all the rows from the \"pokemon_types\" table where the associated type is \"water\". Do so without hard-coding the id of the \"water\" type, using only the name.\n",
    "\n",
    "\n",
    "- q4: Find the names of all pokemon that have the \"psychic\" type.\n",
    "\n",
    "\n",
    "- q5: Find the average weight for each type. Order the results from highest weight to lowest weight. Display the type name next to the average weight.\n",
    "\n",
    "\n",
    "- q6: Find the names and ids of all the pokemon that have more than 1 type.\n",
    "\n",
    "\n",
    "- q7: Find the id of the type that has the most pokemon. Display type_id next to the number of pokemon having that type. \n",
    "\n",
    "\n",
    "**Important note on syntax**: use `double quotes \"\"` when quoting strings **within** your query and wrap the entire query in `single quotes ''`."
   ]
  },
  {
   "cell_type": "code",
   "execution_count": null,
   "metadata": {
    "autoscroll": false,
    "ein.hycell": false,
    "ein.tags": "worksheet-0",
    "jupyter": {
     "outputs_hidden": false
    },
    "slideshow": {
     "slide_type": "-"
    }
   },
   "outputs": [],
   "source": [
    "cnx = sqlite3.connect('data/pokemon.db')"
   ]
  },
  {
   "cell_type": "code",
   "execution_count": null,
   "metadata": {
    "autoscroll": false,
    "ein.hycell": false,
    "ein.tags": "worksheet-0",
    "jupyter": {
     "outputs_hidden": false
    },
    "scrolled": true,
    "slideshow": {
     "slide_type": "-"
    }
   },
   "outputs": [],
   "source": [
    "# q1: Find all the pokemon on the \"pokemon\" table. Display all columns. \n",
    "q1 = ''\n",
    "pd.read_sql(q1, cnx)"
   ]
  },
  {
   "cell_type": "code",
   "execution_count": null,
   "metadata": {
    "autoscroll": false,
    "ein.hycell": false,
    "ein.tags": "worksheet-0",
    "jupyter": {
     "outputs_hidden": false
    },
    "scrolled": true,
    "slideshow": {
     "slide_type": "-"
    }
   },
   "outputs": [],
   "source": [
    "# q2: Find all the rows from the \"pokemon_types\" table where the type_id is 3.\n",
    "q2 = ''\n",
    "pd.read_sql(q2, cnx)"
   ]
  },
  {
   "cell_type": "code",
   "execution_count": null,
   "metadata": {
    "autoscroll": false,
    "ein.hycell": false,
    "ein.tags": "worksheet-0",
    "jupyter": {
     "outputs_hidden": false
    },
    "scrolled": true,
    "slideshow": {
     "slide_type": "-"
    }
   },
   "outputs": [],
   "source": [
    "# q3: Find all the rows from the \"pokemon_types\" table where the associated type is \"water\". Do so without hard-coding the id of the \"water\" type, using only the name.\n",
    "q3 = ''\n",
    "pd.read_sql(q3, cnx)"
   ]
  },
  {
   "cell_type": "code",
   "execution_count": null,
   "metadata": {
    "autoscroll": false,
    "ein.hycell": false,
    "ein.tags": "worksheet-0",
    "jupyter": {
     "outputs_hidden": false
    },
    "scrolled": true,
    "slideshow": {
     "slide_type": "-"
    }
   },
   "outputs": [],
   "source": [
    "# q4: Find the names of all pokemon that have the \"psychic\" type.\n",
    "q4 = ''\n",
    "# pd.read_sql(q4, cnx)"
   ]
  },
  {
   "cell_type": "code",
   "execution_count": null,
   "metadata": {
    "autoscroll": false,
    "ein.hycell": false,
    "ein.tags": "worksheet-0",
    "jupyter": {
     "outputs_hidden": false
    },
    "scrolled": true,
    "slideshow": {
     "slide_type": "-"
    }
   },
   "outputs": [],
   "source": [
    "# q5: Find the average weight for each type. Order the results from highest weight to lowest weight. Display the type name next to the average weight.\n",
    "q5 = ''\n",
    "pd.read_sql(q5, cnx)"
   ]
  },
  {
   "cell_type": "code",
   "execution_count": null,
   "metadata": {
    "autoscroll": false,
    "ein.hycell": false,
    "ein.tags": "worksheet-0",
    "jupyter": {
     "outputs_hidden": false
    },
    "slideshow": {
     "slide_type": "-"
    }
   },
   "outputs": [],
   "source": [
    "# q6: Find the names and ids of all the pokemon that have more than 1 type. \n",
    "q6 = ''\n",
    "pd.read_sql(q6, cnx)"
   ]
  },
  {
   "cell_type": "code",
   "execution_count": null,
   "metadata": {
    "autoscroll": false,
    "ein.hycell": false,
    "ein.tags": "worksheet-0",
    "jupyter": {
     "outputs_hidden": false
    },
    "slideshow": {
     "slide_type": "-"
    }
   },
   "outputs": [],
   "source": [
    "# q7: Find the id of the type that has the most pokemon. Display type_id next to the number of pokemon having that type. \n",
    "q7 = ''\n",
    "pd.read_sql(q7, cnx)"
   ]
  },
  {
   "cell_type": "markdown",
   "metadata": {
    "ein.tags": "worksheet-0",
    "slideshow": {
     "slide_type": "-"
    }
   },
   "source": [
    "## Part 4: Web Scraping"
   ]
  },
  {
   "cell_type": "markdown",
   "metadata": {
    "ein.tags": "worksheet-0",
    "slideshow": {
     "slide_type": "-"
    }
   },
   "source": [
    "### Accessing Data Using BeautifulSoup [suggested time: 15 minutes]\n",
    "\n",
    "Use BeautifulSoup to get quotes, authors, and tags from [Quotes to Read](http://quotes.toscrape.com/).\n",
    "\n",
    "Before answering these questions, go to the site and inspect the page. Make sure to look at what links there are and how the site is structured."
   ]
  },
  {
   "cell_type": "markdown",
   "metadata": {
    "ein.tags": "worksheet-0",
    "slideshow": {
     "slide_type": "-"
    }
   },
   "source": [
    "1. Get the first author and the path for the author's page as a tuple from the [homepage](http://quotes.toscrape.com/)."
   ]
  },
  {
   "cell_type": "code",
   "execution_count": null,
   "metadata": {
    "autoscroll": false,
    "ein.hycell": false,
    "ein.tags": "worksheet-0",
    "slideshow": {
     "slide_type": "-"
    }
   },
   "outputs": [],
   "source": [
    "# Make a get request to retrieve the page\n",
    "html_page = requests.get('http://quotes.toscrape.com/') \n",
    "# Pass the page contents to beautiful soup for parsing\n",
    "soup = BeautifulSoup(html_page.content, 'html.parser')\n",
    "\n",
    "# Your code here\n"
   ]
  },
  {
   "cell_type": "markdown",
   "metadata": {
    "ein.tags": "worksheet-0",
    "slideshow": {
     "slide_type": "-"
    }
   },
   "source": [
    "2. Write a function to get **all** the authors and href links for the authors from the [homepage](http://quotes.toscrape.com/)"
   ]
  },
  {
   "cell_type": "code",
   "execution_count": null,
   "metadata": {
    "autoscroll": false,
    "ein.hycell": false,
    "ein.tags": "worksheet-0",
    "slideshow": {
     "slide_type": "-"
    }
   },
   "outputs": [],
   "source": [
    "def authors(url):\n",
    "    '''\n",
    "    input: url\n",
    "    \n",
    "    return: a dictionary of of authors and their urls\n",
    "            {'author_1':'url_of_author_1', 'author_2':'url_of_author_2' ...}\n",
    "    '''\n",
    "    pass"
   ]
  },
  {
   "cell_type": "code",
   "execution_count": null,
   "metadata": {
    "autoscroll": false,
    "ein.hycell": false,
    "ein.tags": "worksheet-0",
    "slideshow": {
     "slide_type": "-"
    }
   },
   "outputs": [],
   "source": [
    "# run this cell to test the function\n",
    "print(authors('http://quotes.toscrape.com/'))\n",
    "print('\\n')\n",
    "print(authors('http://quotes.toscrape.com/page/3'))"
   ]
  }
 ],
 "metadata": {
  "kernelspec": {
   "display_name": "Python 3",
   "language": "python",
   "name": "python3"
  },
  "language_info": {
   "codemirror_mode": {
    "name": "ipython",
    "version": 3
   },
   "file_extension": ".py",
   "mimetype": "text/x-python",
   "name": "python",
   "nbconvert_exporter": "python",
   "pygments_lexer": "ipython3",
   "version": "3.7.3"
  },
  "name": "index.ipynb"
 },
 "nbformat": 4,
 "nbformat_minor": 4
}
