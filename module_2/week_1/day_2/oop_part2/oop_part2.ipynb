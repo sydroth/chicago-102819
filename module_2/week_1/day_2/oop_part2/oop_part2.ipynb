{
 "cells": [
  {
   "cell_type": "markdown",
   "metadata": {},
   "source": [
    "# Object Oriented Programming Part 2:\n",
    "\n",
    "Learning goals\n",
    "* Inheritance\n",
    "* decorators \n",
    "* getters/setters\n",
    "* static/class methods"
   ]
  },
  {
   "cell_type": "code",
   "execution_count": 7,
   "metadata": {},
   "outputs": [],
   "source": [
    "import pandas as pd"
   ]
  },
  {
   "cell_type": "markdown",
   "metadata": {},
   "source": [
    "## Activation\n",
    "\n",
    "Make a plan for a stock class\n",
    "\n",
    "- What would you want it to take when instantiated?\n",
    "- what methods would you want it to have?\n",
    "- for predicting, would you want it to default to one modeling technique? or would you be able to specify?\n",
    "- What input data would it take?\n",
    "- What attributes would you want to be able to reference?\n",
    "\n",
    "![](stocks.jpeg)"
   ]
  },
  {
   "cell_type": "markdown",
   "metadata": {},
   "source": [
    "# Inheritance\n",
    "Let's make a Pet class which will be the blue print \n",
    "for more specific subclasses.\n",
    "The Pet class is the parent class,\n",
    "and all methods we define in the parent class will be accessible when subclasses are instantiated\n"
   ]
  },
  {
   "cell_type": "code",
   "execution_count": 34,
   "metadata": {},
   "outputs": [],
   "source": [
    "# Pet is the parent class or superclass as related to \n",
    "# the specific types of pets.\n",
    "class Pet:\n",
    "    \n",
    "    def __init__(self, vocalization,\n",
    "                 happiness_communicator,\n",
    "                    natural_enemy, animal_type = 'mammal'):\n",
    "        \n",
    "        self.vocalization = vocalization\n",
    "        self.happiness_communicator = happiness_communicator\n",
    "        self.natural_enemy = natural_enemy\n",
    "        self.animal_type = animal_type\n",
    "        \n",
    "    def vocalize(self):\n",
    "        print(self.vocalization)\n",
    "        \n",
    "    def express_happiness(self):\n",
    "        print(self.happiness_communicator)\n",
    "        \n",
    "    def feelings(self):\n",
    "        print(f\"I hate {self.natural_enemy}\")\n",
    "    \n",
    "    def animal_type(self):\n",
    "        print(self.animal_type)\n",
    "        \n",
    "    def is_happy(self):\n",
    "        print (f\"The {self.animal_type} made a {self.vocalization} and a {self.happiness_communicator}, it is joyus!\")\n",
    "    "
   ]
  },
  {
   "cell_type": "code",
   "execution_count": 5,
   "metadata": {},
   "outputs": [],
   "source": [
    "dog = Pet('woof', 'wag', 'mailman')"
   ]
  },
  {
   "cell_type": "code",
   "execution_count": 33,
   "metadata": {},
   "outputs": [
    {
     "name": "stdout",
     "output_type": "stream",
     "text": [
      "I hate mailman\n"
     ]
    }
   ],
   "source": [
    "dog.feelings()"
   ]
  },
  {
   "cell_type": "code",
   "execution_count": 37,
   "metadata": {},
   "outputs": [
    {
     "ename": "AttributeError",
     "evalue": "'Pet' object has no attribute 'is_happy'",
     "output_type": "error",
     "traceback": [
      "\u001b[0;31m---------------------------------------------------------------------------\u001b[0m",
      "\u001b[0;31mAttributeError\u001b[0m                            Traceback (most recent call last)",
      "\u001b[0;32m<ipython-input-37-2cae82590a00>\u001b[0m in \u001b[0;36m<module>\u001b[0;34m\u001b[0m\n\u001b[0;32m----> 1\u001b[0;31m \u001b[0mdog\u001b[0m\u001b[0;34m.\u001b[0m\u001b[0mis_happy\u001b[0m\u001b[0;34m(\u001b[0m\u001b[0;34m)\u001b[0m\u001b[0;34m\u001b[0m\u001b[0;34m\u001b[0m\u001b[0m\n\u001b[0m",
      "\u001b[0;31mAttributeError\u001b[0m: 'Pet' object has no attribute 'is_happy'"
     ]
    }
   ],
   "source": [
    "dog.is_happy()"
   ]
  },
  {
   "cell_type": "code",
   "execution_count": null,
   "metadata": {},
   "outputs": [],
   "source": []
  },
  {
   "cell_type": "markdown",
   "metadata": {},
   "source": [
    "![](https://media.giphy.com/media/101kC6OJncUhi0/giphy.gif)"
   ]
  },
  {
   "cell_type": "markdown",
   "metadata": {},
   "source": [
    "### Short Activity \n",
    "Create a new attribute and a new method to associate with all of our pets\n"
   ]
  },
  {
   "cell_type": "markdown",
   "metadata": {},
   "source": [
    "Cat is the subclass or child class.\n",
    "it inherits the methods of the parent class.\n",
    "We can initialize the parent class with paramaters \n",
    "using super."
   ]
  },
  {
   "cell_type": "code",
   "execution_count": 22,
   "metadata": {},
   "outputs": [
    {
     "data": {
      "text/plain": [
       "{'vocalization': 'meow',\n",
       " 'happiness_communicator': 'purr',\n",
       " 'natural_enemy': 'dog',\n",
       " 'animal_type': 'mammal',\n",
       " 'name': 'Garfield',\n",
       " 'age': 10,\n",
       " 'declawed': False,\n",
       " 'likes_dry_food': True}"
      ]
     },
     "execution_count": 22,
     "metadata": {},
     "output_type": "execute_result"
    }
   ],
   "source": [
    "class Cat(Pet):\n",
    "    \n",
    "    def __init__(self, name, age, declawed, \n",
    "                 likes_dry_food):\n",
    "        \n",
    "        super().__init__('meow','purr', 'dog')\n",
    "     \n",
    "        self.name = name\n",
    "        self.age = age\n",
    "        self.declawed = declawed\n",
    "        self.likes_dry_food = likes_dry_food\n",
    "    \n",
    "    def jump_in_box(self):\n",
    "        print(f\"{self.name} jumped in a box\")\n",
    "        \n",
    "Garfield = Cat('Garfield', 10, False, True )\n",
    "Garfield.__dict__"
   ]
  },
  {
   "cell_type": "code",
   "execution_count": 23,
   "metadata": {},
   "outputs": [],
   "source": [
    "# We can also overwrite the parent class methods without any problems\n",
    "    \n",
    "class Cat(Pet):\n",
    "    \n",
    "    def __init__(self, name, age, declawed, \n",
    "                 likes_dry_food):\n",
    "        \n",
    "        super().__init__('meow','purr', 'dog')\n",
    "     \n",
    "        self.name = name\n",
    "        self.age = age\n",
    "        self.declawed = declawed\n",
    "        self.likes_dry_food = likes_dry_food\n",
    "    \n",
    "    def jump_in_box(self):\n",
    "        print(f\"{self.name} jumped in a box\")\n",
    "        \n",
    "    def vocalize(self):\n",
    "        print(f\"{self.vocalization}, {self.happiness_communicator}\")\n"
   ]
  },
  {
   "cell_type": "code",
   "execution_count": 24,
   "metadata": {},
   "outputs": [
    {
     "name": "stdout",
     "output_type": "stream",
     "text": [
      "meow, purr\n"
     ]
    }
   ],
   "source": [
    "grumpy_cat = Cat('Grumpy Cat', 12, True, True)\n",
    "grumpy_cat.vocalize()"
   ]
  },
  {
   "cell_type": "code",
   "execution_count": 25,
   "metadata": {},
   "outputs": [],
   "source": [
    "# Let's create a dog subclass\n",
    "class Dog(Pet):\n",
    "    \n",
    "    def __init__(self, name, age, hates_mailperson):\n",
    "        super().__init__('woof', 'wag tail', 'cat')\n",
    "        \n",
    "        self.name = name\n",
    "        self.age = age\n",
    "        self.hates_mailperson = hates_mailperson\n",
    "        \n",
    "    def mail_delivery(self):\n",
    "        if self.hates_mailperson == True:\n",
    "            print('Snarls at mail slot')\n",
    "        else:\n",
    "            print('Continues sleeping')\n",
    "    \n"
   ]
  },
  {
   "cell_type": "code",
   "execution_count": 28,
   "metadata": {},
   "outputs": [],
   "source": [
    "scooby_doo = Dog('Scooby', 4, True)"
   ]
  },
  {
   "cell_type": "code",
   "execution_count": 29,
   "metadata": {},
   "outputs": [
    {
     "name": "stdout",
     "output_type": "stream",
     "text": [
      "purr\n"
     ]
    }
   ],
   "source": [
    "Garfield.express_happiness()"
   ]
  },
  {
   "cell_type": "markdown",
   "metadata": {},
   "source": [
    "## Activity: \n",
    "Create a third pet class, which is a subclass of Pet\n"
   ]
  },
  {
   "cell_type": "markdown",
   "metadata": {},
   "source": [
    "# Intro to decorators\n",
    "A decorator take another function as an input\n",
    "\n",
    "using a decorator on a function definition is like:\n",
    "\n",
    "function = decorator(function)"
   ]
  },
  {
   "cell_type": "code",
   "execution_count": 40,
   "metadata": {},
   "outputs": [],
   "source": [
    "# Let's create a boring story decorator\n",
    "import numpy as np \n",
    "def example_decorator(func):\n",
    "    \n",
    "    def boring_story_enhancer():\n",
    "        \n",
    "        cool_beginnings = ['It was a dark and stormy night.', \n",
    "                          'Once upon a time, in a kingdom far, far away.',\n",
    "                          'It was the best of times, it was the worst of times.']\n",
    "        print(np.random.choice(cool_beginnings))\n",
    "        \n",
    "        # Here is the input function\n",
    "        func()\n",
    "        \n",
    "        cool_endings = ['And then I found twenty dollars.', \n",
    "                       'And then I saw a blimp.']\n",
    "        print(np.random.choice(cool_endings))\n",
    "     \n",
    "    # Why is this necessary???\n",
    "    return boring_story_enhancer\n",
    "\n"
   ]
  },
  {
   "cell_type": "code",
   "execution_count": 46,
   "metadata": {},
   "outputs": [
    {
     "name": "stdout",
     "output_type": "stream",
     "text": [
      "Once upon a time, in a kingdom far, far away.\n",
      "I went to the grocery store on Sunday, to get basil, but they were out.\n",
      "And then I found twenty dollars.\n"
     ]
    }
   ],
   "source": [
    "def story():\n",
    "    \n",
    "    new_story = '''I went to the grocery store on Sunday, to get basil, but they were out.'''\n",
    "\n",
    "    print(new_story)\n",
    "    \n",
    "story = example_decorator(story)\n",
    "story()"
   ]
  },
  {
   "cell_type": "code",
   "execution_count": 54,
   "metadata": {},
   "outputs": [
    {
     "name": "stdout",
     "output_type": "stream",
     "text": [
      "It was the best of times, it was the worst of times.\n",
      "My dog drools a lot.  He drooled \n",
      "                all over my couch yesterday.\n",
      "And then I found twenty dollars.\n"
     ]
    }
   ],
   "source": [
    "# Or, we could use this syntax\n",
    "\n",
    "@example_decorator\n",
    "def new_story():\n",
    "    \n",
    "    new_story = '''My dog drools a lot.  He drooled \n",
    "                all over my couch yesterday.'''\n",
    "\n",
    "    print(new_story)\n",
    "    \n",
    "new_story()"
   ]
  },
  {
   "cell_type": "code",
   "execution_count": 48,
   "metadata": {},
   "outputs": [],
   "source": [
    "class Pizza:\n",
    "    \n",
    "    def __init__(self, toppings, size):\n",
    "        \n",
    "        self.toppings = [toppings]\n",
    "        self.size = size\n",
    "        \n",
    "    def add_toppings(self, new_topping):\n",
    "        \n",
    "        self.toppings.append(new_topping)\n",
    "        \n",
    "        "
   ]
  },
  {
   "cell_type": "code",
   "execution_count": 49,
   "metadata": {},
   "outputs": [],
   "source": [
    "giordonos = Pizza('pepperoni', 'L')"
   ]
  },
  {
   "cell_type": "markdown",
   "metadata": {},
   "source": [
    "## What if we want to restrict the way a pizza can be described\n"
   ]
  },
  {
   "cell_type": "code",
   "execution_count": 51,
   "metadata": {},
   "outputs": [],
   "source": [
    "# We can put logic into __init__\n",
    "class Pizza:\n",
    "    \n",
    "    def __init__(self, toppings, size):\n",
    "        \n",
    "        if type(toppings) != list:\n",
    "            self.toppings = [toppings]\n",
    "        else:\n",
    "            self.toppings = toppings\n",
    "        \n",
    "        __acceptable_sizes = ['s', 'm', 'l', 'xl']\n",
    "        if size.lower() in __acceptable_sizes:\n",
    "            self.size = size.lower()\n",
    "        else:\n",
    "            print(\"That's not an acceptable size\")\n",
    "    def add_toppings(self, new_topping):\n",
    "        \n",
    "        self.toppings.append(new_topping)\n",
    "        \n",
    "        "
   ]
  },
  {
   "cell_type": "code",
   "execution_count": 52,
   "metadata": {},
   "outputs": [],
   "source": [
    "hri = Pizza('pepperoni', 'S') #hri = home run inn"
   ]
  },
  {
   "cell_type": "code",
   "execution_count": 53,
   "metadata": {},
   "outputs": [
    {
     "data": {
      "text/plain": [
       "{'toppings': ['pepperoni'], 'size': 's'}"
      ]
     },
     "execution_count": 53,
     "metadata": {},
     "output_type": "execute_result"
    }
   ],
   "source": [
    "hri.__dict__"
   ]
  },
  {
   "cell_type": "code",
   "execution_count": 55,
   "metadata": {},
   "outputs": [],
   "source": [
    "#But what if I come along and change it to an unacceptable size later?\n",
    "hri.size = 'XXXL'"
   ]
  },
  {
   "cell_type": "code",
   "execution_count": 56,
   "metadata": {},
   "outputs": [
    {
     "data": {
      "text/plain": [
       "'XXXL'"
      ]
     },
     "execution_count": 56,
     "metadata": {},
     "output_type": "execute_result"
    }
   ],
   "source": [
    "hri.size"
   ]
  },
  {
   "cell_type": "code",
   "execution_count": 57,
   "metadata": {},
   "outputs": [],
   "source": [
    "#One underscore denotes internal use\n",
    "class Pizza(object):\n",
    "    \n",
    "    def __init__(self, size, toppings):\n",
    "        self._toppings = toppings\n",
    "        self._size = size"
   ]
  },
  {
   "cell_type": "code",
   "execution_count": 58,
   "metadata": {},
   "outputs": [],
   "source": [
    "\n",
    "cheese = Pizza('l', 'cheese')"
   ]
  },
  {
   "cell_type": "code",
   "execution_count": 59,
   "metadata": {},
   "outputs": [
    {
     "data": {
      "text/plain": [
       "'s'"
      ]
     },
     "execution_count": 59,
     "metadata": {},
     "output_type": "execute_result"
    }
   ],
   "source": [
    "# but it can still be changed\n",
    "cheese._size = 's'\n",
    "cheese._size"
   ]
  },
  {
   "cell_type": "code",
   "execution_count": 52,
   "metadata": {},
   "outputs": [],
   "source": [
    "# Note: one underscore before a function name in module\n",
    "# will make it so the function will not be imported"
   ]
  },
  {
   "cell_type": "code",
   "execution_count": 60,
   "metadata": {},
   "outputs": [],
   "source": [
    "%load_ext autoreload\n",
    "%autoreload 2\n",
    "from no_import import *"
   ]
  },
  {
   "cell_type": "code",
   "execution_count": 61,
   "metadata": {},
   "outputs": [
    {
     "name": "stdout",
     "output_type": "stream",
     "text": [
      "see, it was imported\n"
     ]
    }
   ],
   "source": [
    "this_will_be_imported()"
   ]
  },
  {
   "cell_type": "code",
   "execution_count": 62,
   "metadata": {},
   "outputs": [
    {
     "ename": "NameError",
     "evalue": "name '_this_will_not_be_imported' is not defined",
     "output_type": "error",
     "traceback": [
      "\u001b[0;31m---------------------------------------------------------------------------\u001b[0m",
      "\u001b[0;31mNameError\u001b[0m                                 Traceback (most recent call last)",
      "\u001b[0;32m<ipython-input-62-1d5e98521beb>\u001b[0m in \u001b[0;36m<module>\u001b[0;34m\u001b[0m\n\u001b[0;32m----> 1\u001b[0;31m \u001b[0m_this_will_not_be_imported\u001b[0m\u001b[0;34m(\u001b[0m\u001b[0;34m)\u001b[0m\u001b[0;34m\u001b[0m\u001b[0;34m\u001b[0m\u001b[0m\n\u001b[0m",
      "\u001b[0;31mNameError\u001b[0m: name '_this_will_not_be_imported' is not defined"
     ]
    }
   ],
   "source": [
    "_this_will_not_be_imported()"
   ]
  },
  {
   "cell_type": "code",
   "execution_count": 63,
   "metadata": {},
   "outputs": [],
   "source": [
    "## dunderscores before parameters change how one accesses the parameters\n",
    "\n",
    "# Two underscores changes the behavior of the parameters\n",
    "class Pizza(object):\n",
    "    \n",
    "    def __init__(self, size, toppings):\n",
    "        self.__toppings = toppings\n",
    "        self.__size = size\n"
   ]
  },
  {
   "cell_type": "code",
   "execution_count": 64,
   "metadata": {},
   "outputs": [
    {
     "ename": "AttributeError",
     "evalue": "'Pizza' object has no attribute '__size'",
     "output_type": "error",
     "traceback": [
      "\u001b[0;31m---------------------------------------------------------------------------\u001b[0m",
      "\u001b[0;31mAttributeError\u001b[0m                            Traceback (most recent call last)",
      "\u001b[0;32m<ipython-input-64-92daab1d8f32>\u001b[0m in \u001b[0;36m<module>\u001b[0;34m\u001b[0m\n\u001b[1;32m      1\u001b[0m \u001b[0mhri\u001b[0m \u001b[0;34m=\u001b[0m \u001b[0mPizza\u001b[0m\u001b[0;34m(\u001b[0m\u001b[0;34m'l'\u001b[0m\u001b[0;34m,\u001b[0m \u001b[0;34m[\u001b[0m\u001b[0;34m'cheese'\u001b[0m\u001b[0;34m,\u001b[0m \u001b[0;34m'pepperoni'\u001b[0m\u001b[0;34m]\u001b[0m\u001b[0;34m)\u001b[0m\u001b[0;34m\u001b[0m\u001b[0;34m\u001b[0m\u001b[0m\n\u001b[0;32m----> 2\u001b[0;31m \u001b[0mhri\u001b[0m\u001b[0;34m.\u001b[0m\u001b[0m__size\u001b[0m\u001b[0;34m\u001b[0m\u001b[0;34m\u001b[0m\u001b[0m\n\u001b[0m",
      "\u001b[0;31mAttributeError\u001b[0m: 'Pizza' object has no attribute '__size'"
     ]
    }
   ],
   "source": [
    "hri = Pizza('l', ['cheese', 'pepperoni'])\n",
    "hri.__size"
   ]
  },
  {
   "cell_type": "code",
   "execution_count": 59,
   "metadata": {},
   "outputs": [
    {
     "data": {
      "text/plain": [
       "{'_Pizza__toppings': ['cheese', 'pepperoni'], '_Pizza__size': 'l'}"
      ]
     },
     "execution_count": 59,
     "metadata": {},
     "output_type": "execute_result"
    }
   ],
   "source": [
    "# Can still be accessed, if we look at __dict__\n",
    "hri.__dict__"
   ]
  },
  {
   "cell_type": "code",
   "execution_count": 66,
   "metadata": {},
   "outputs": [
    {
     "name": "stdout",
     "output_type": "stream",
     "text": [
      "Getting size\n"
     ]
    },
    {
     "data": {
      "text/plain": [
       "'l'"
      ]
     },
     "execution_count": 66,
     "metadata": {},
     "output_type": "execute_result"
    }
   ],
   "source": [
    "# We can then use a set of decorators (setters/getters) \n",
    "# to restrict the user towards correct parameters\n",
    "\n",
    "class Pizza(object):\n",
    "    \n",
    "    def __init__(self, size, toppings):\n",
    "        self.__toppings = toppings\n",
    "        self.__size = size\n",
    "        \n",
    "    @property\n",
    "    def size(self):\n",
    "        print('Getting size')\n",
    "        return self.__size\n",
    "        \n",
    "hri = Pizza('l', 'sausage')\n",
    "hri.size"
   ]
  },
  {
   "cell_type": "code",
   "execution_count": 65,
   "metadata": {},
   "outputs": [],
   "source": [
    "class Pizza(object):\n",
    "    \n",
    "    def __init__(self, size, toppings):\n",
    "        self.__toppings = toppings\n",
    "        self.__size = size\n",
    "    \n",
    "    \n",
    "    @property\n",
    "    def size(self):\n",
    "        print('Getting size')\n",
    "        return self.__size\n",
    "    \n",
    "\n",
    "    @size.setter\n",
    "    def size(self, value):\n",
    "        _acceptible_sizes = ['s', 'm', 'l', 'xl']\n",
    "\n",
    "        if value.lower() in _acceptible_sizes:\n",
    "            self.__size = value.lower()\n",
    "        else:\n",
    "            print('not an acceptable size')"
   ]
  },
  {
   "cell_type": "code",
   "execution_count": 66,
   "metadata": {},
   "outputs": [],
   "source": [
    "hri = Pizza('xxxxl', 'cheese')"
   ]
  },
  {
   "cell_type": "code",
   "execution_count": 67,
   "metadata": {},
   "outputs": [
    {
     "name": "stdout",
     "output_type": "stream",
     "text": [
      "not an acceptable size\n"
     ]
    },
    {
     "data": {
      "text/plain": [
       "{'_Pizza__toppings': 'cheese', '_Pizza__size': 'xxxxl'}"
      ]
     },
     "execution_count": 67,
     "metadata": {},
     "output_type": "execute_result"
    }
   ],
   "source": [
    "hri.size = 'XXXl'\n",
    "\n",
    "hri.__dict__"
   ]
  },
  {
   "cell_type": "code",
   "execution_count": 71,
   "metadata": {},
   "outputs": [],
   "source": [
    "# Static methods and class methods:\n",
    "# brief overview so you are familiar"
   ]
  },
  {
   "cell_type": "code",
   "execution_count": 68,
   "metadata": {},
   "outputs": [],
   "source": [
    "class Pizza(object):\n",
    "    \n",
    "    _all_pizzas = []\n",
    "    \n",
    "    def __init__(self, name, size, toppings):\n",
    "        \n",
    "        self.name = name\n",
    "        self.__toppings = toppings\n",
    "        \n",
    "        Pizza._all_pizzas.append(self.name)\n",
    "    \n",
    "    # static method can be called without instantiating\n",
    "    # a class\n",
    "    @staticmethod\n",
    "    def pizza_is_tasty():\n",
    "        print('Pizza tastes good to me')\n",
    "    \n",
    "    # So can a class method\n",
    "    @classmethod\n",
    "    def all(cls):\n",
    "        return Pizza._all_pizzas\n",
    "    \n",
    "    @property\n",
    "    def size(self):\n",
    "        print('Getting size')\n",
    "        return self.__size\n",
    "    \n",
    "    @size.setter\n",
    "    def size(self, value):\n",
    "        _acceptible_sizes = ['s', 'm', 'l', 'xl']\n",
    "\n",
    "        if value.lower() in _acceptible_sizes:\n",
    "            self.__size = value.lower()\n",
    "        else:\n",
    "            print('not an acceptable size')"
   ]
  },
  {
   "cell_type": "code",
   "execution_count": 69,
   "metadata": {},
   "outputs": [],
   "source": [
    "digiorno = Pizza('digiornos','s', 'cheese')"
   ]
  },
  {
   "cell_type": "code",
   "execution_count": 74,
   "metadata": {},
   "outputs": [
    {
     "name": "stdout",
     "output_type": "stream",
     "text": [
      "Pizza tastes good to me\n"
     ]
    }
   ],
   "source": [
    "digiorno.pizza_is_tasty()"
   ]
  },
  {
   "cell_type": "code",
   "execution_count": 71,
   "metadata": {},
   "outputs": [
    {
     "name": "stdout",
     "output_type": "stream",
     "text": [
      "not an acceptable size\n"
     ]
    }
   ],
   "source": [
    "digiorno.size = 'xs'"
   ]
  },
  {
   "cell_type": "code",
   "execution_count": 72,
   "metadata": {},
   "outputs": [],
   "source": [
    "digiorno.size = 'L'"
   ]
  },
  {
   "cell_type": "code",
   "execution_count": 73,
   "metadata": {},
   "outputs": [
    {
     "name": "stdout",
     "output_type": "stream",
     "text": [
      "Getting size\n"
     ]
    },
    {
     "data": {
      "text/plain": [
       "'l'"
      ]
     },
     "execution_count": 73,
     "metadata": {},
     "output_type": "execute_result"
    }
   ],
   "source": [
    "digiorno.size"
   ]
  },
  {
   "cell_type": "code",
   "execution_count": null,
   "metadata": {},
   "outputs": [],
   "source": []
  }
 ],
 "metadata": {
  "kernelspec": {
   "display_name": "Python 3",
   "language": "python",
   "name": "python3"
  },
  "language_info": {
   "codemirror_mode": {
    "name": "ipython",
    "version": 3
   },
   "file_extension": ".py",
   "mimetype": "text/x-python",
   "name": "python",
   "nbconvert_exporter": "python",
   "pygments_lexer": "ipython3",
   "version": "3.6.9"
  }
 },
 "nbformat": 4,
 "nbformat_minor": 4
}
