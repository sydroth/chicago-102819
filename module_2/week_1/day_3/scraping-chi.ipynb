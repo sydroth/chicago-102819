{
 "cells": [
  {
   "cell_type": "markdown",
   "metadata": {},
   "source": [
    "# Python Web Scraping Tutorial using BeautifulSoup"
   ]
  },
  {
   "cell_type": "markdown",
   "metadata": {},
   "source": [
    "# Activation\n",
    "In order to inspect the structure of a web page, your browser provides a developer tools window.\n",
    "You can access it with opt-cmd-i.\n",
    "Then, by clicking on the elements button, the user can inspect individual elements, and even change attributes such as text.\n",
    "\n",
    "Take a minute and visit a website, change some text, take a screen shot, and Slack it out.\n"
   ]
  },
  {
   "cell_type": "markdown",
   "metadata": {},
   "source": [
    "## The components of a web page\n"
   ]
  },
  {
   "cell_type": "markdown",
   "metadata": {},
   "source": [
    "When we visit a web page, our web browser makes a GET request to a web server. The server then sends back files that tell our browser how to render the page for us. The files fall into a few main types:\n",
    "\n",
    "- HTML — contain the main content of the page.\n",
    "- CSS — add styling to make the page look nicer.\n",
    "- JS — Javascript files add interactivity to web pages.\n",
    "- Images — image formats, such as JPG and PNG allow web pages to show pictures.\n",
    "\n",
    "After our browser receives all the files, it renders the page and displays it to us. There’s a lot that happens behind the scenes to render a page nicely, but we don’t need to worry about most of it when we’re web scraping."
   ]
  },
  {
   "cell_type": "markdown",
   "metadata": {},
   "source": [
    "### HTML\n",
    "\n",
    "\n",
    "HyperText Markup Language (HTML) is a language that web pages are created in. HTML isn’t a programming language, like Python — instead, it’s a markup language that tells a browser how to layout content. \n",
    "\n",
    "Let’s take a quick tour through HTML so we know enough to scrape effectively. HTML consists of elements called tags. The most basic tag is the `<html>` tag. This tag tells the web browser that everything inside of it is HTML. We can make a simple HTML document just using this tag:\n",
    "\n",
    "~~~\n",
    "<html>\n",
    "</html>\n",
    "~~~\n",
    "&#x2B07; Example cell with html in Markdown!"
   ]
  },
  {
   "cell_type": "markdown",
   "metadata": {},
   "source": [
    "<html>\n",
    "</html>"
   ]
  },
  {
   "cell_type": "markdown",
   "metadata": {},
   "source": [
    "Right inside an html tag, we put two other tags, the head tag, and the body tag. The main content of the web page goes into the body tag. The head tag contains data about the title of the page, and other information that generally isn’t useful in web scraping:\n",
    "\n",
    "~~~\n",
    "<html>\n",
    "    <head>\n",
    "    </head>\n",
    "    <body>\n",
    "    </body>\n",
    "</html>\n",
    "~~~"
   ]
  },
  {
   "cell_type": "markdown",
   "metadata": {},
   "source": [
    "We’ll now add our first content to the page, in the form of the p tag. The p tag defines a paragraph, and any text inside the tag is shown as a separate paragraph:\n",
    "~~~\n",
    "<html>\n",
    "    <head>\n",
    "    </head>\n",
    "    <body>\n",
    "          <p>\n",
    "            Here's a paragraph of text!\n",
    "        </p>\n",
    "        <p>\n",
    "            Here's a second paragraph of text!\n",
    "        </p>\n",
    "    </body>\n",
    "</html>\n",
    "~~~"
   ]
  },
  {
   "cell_type": "markdown",
   "metadata": {},
   "source": [
    "<html>\n",
    "    <head>\n",
    "    </head>\n",
    "    <body>\n",
    "          <p>\n",
    "            Here's a paragraph of text!\n",
    "        </p>\n",
    "        <p>\n",
    "            Here's a second paragraph of text!\n",
    "        </p>\n",
    "    </body>\n",
    "</html>"
   ]
  },
  {
   "cell_type": "markdown",
   "metadata": {},
   "source": [
    "Tags have commonly used names that depend on their position in relation to other tags:\n",
    "\n",
    "- **child** — a child is a tag inside another tag. So the two p tags above are both children of the body tag.\n",
    "- **parent** — a parent is the tag another tag is inside. Above, the html tag is the parent of the body tag.\n",
    "- **sibiling** — a sibiling is a tag that is nested inside the same parent as another tag. For example, head and body are siblings, since they’re both inside html. Both p tags are siblings, since they’re both inside body."
   ]
  },
  {
   "cell_type": "markdown",
   "metadata": {},
   "source": [
    "We can also add properties to HTML tags that change their behavior:\n",
    "\n",
    "~~~\n",
    "<html>\n",
    "  <head></head>\n",
    "  <body>\n",
    "    <p>\n",
    "      Here's a paragraph of text!\n",
    "      <a href=\"https://www.dataquest.io\">Learn Data Science Online</a>\n",
    "    </p>\n",
    "    <p>\n",
    "      Here's a second paragraph of text!\n",
    "      <a href=\"https://www.python.org\">Python</a>        \n",
    "    </p>\n",
    "  </body>\n",
    "</html>\n",
    "~~~"
   ]
  },
  {
   "cell_type": "markdown",
   "metadata": {},
   "source": [
    "<html>\n",
    "    <head>\n",
    "    </head>\n",
    "    <body>\n",
    "        <p>\n",
    "            Here's a paragraph of text!\n",
    "            <a href=\"https://www.dataquest.io\">Learn Data Science Online</a>\n",
    "        </p>\n",
    "        <p>\n",
    "            Here's a second paragraph of text!\n",
    "            <a href=\"https://www.python.org\">Python</a>        </p>\n",
    "    </body></html>"
   ]
  },
  {
   "cell_type": "markdown",
   "metadata": {},
   "source": [
    "In the above example, we added two a tags. a tags are links, and tell the browser to render a link to another web page. The href property of the tag determines where the link goes.\n",
    "\n",
    "a and p are extremely common html tags. Here are a few others:\n",
    "\n",
    "- *div* — indicates a division, or area, of the page.\n",
    "- *b* — bolds any text inside.\n",
    "- *i* — italicizes any text inside.\n",
    "- *table* — creates a table.\n",
    "- *form* — creates an input form.\n",
    "\n",
    "\n",
    "For a full list of tags, look [here](https://developer.mozilla.org/en-US/docs/Web/HTML/Element)."
   ]
  },
  {
   "cell_type": "markdown",
   "metadata": {},
   "source": [
    "There are two special properties give HTML elements names, and make them easier to interact with when we’re scraping, **class** and **id** properties. \n",
    "\n",
    "- One element can have multiple classes, and a class can be shared between elements. \n",
    "- Each element can only have one id, and an id can only be used once on a page. \n",
    "- Classes and ids are optional, and not all elements will have them.\n",
    "\n",
    "We can add classes and ids to our example:\n",
    "\n",
    "~~~\n",
    "<html>\n",
    "    <head>\n",
    "    </head>\n",
    "    <body>\n",
    "        <p class=\"bold-paragraph\">\n",
    "            Here's a paragraph of text!\n",
    "            <a href=\"https://www.dataquest.io\" id=\"learn-link\">Learn Data Science Online</a>\n",
    "        </p>\n",
    "        <p class=\"bold-paragraph extra-large\">\n",
    "            Here's a second paragraph of text!\n",
    "            <a href=\"https://www.python.org\" class=\"extra-large\">Python</a>\n",
    "        </p>\n",
    "    </body>\n",
    "</html>\n",
    "~~~"
   ]
  },
  {
   "cell_type": "markdown",
   "metadata": {},
   "source": [
    "<html>\n",
    "    <head>\n",
    "    </head>\n",
    "    <body>\n",
    "        <p class=\"bold-paragraph\">\n",
    "            Here's a paragraph of text!\n",
    "            <a href=\"https://www.dataquest.io\" id=\"learn-link\">Learn Data Science Online</a>\n",
    "        </p>\n",
    "        <p class=\"bold-paragraph extra-large\">\n",
    "            Here's a second paragraph of text!\n",
    "            <a href=\"https://www.python.org\" class=\"extra-large\">Python</a>\n",
    "        </p>\n",
    "    </body>\n",
    "</html>"
   ]
  },
  {
   "cell_type": "markdown",
   "metadata": {},
   "source": [
    "### Let's take a look at a sample web page from our local computer\n",
    "- Open up index.html in your browser.\n",
    "- Open up the inspector using ctrl-shft-j\n",
    "- click on the elements tab, and click on an element"
   ]
  },
  {
   "cell_type": "markdown",
   "metadata": {},
   "source": [
    "# Activity\n",
    "With the Cat Fancier's Fan page as a template, take five minutes to create a fan page of the subject of your choosing.\n"
   ]
  },
  {
   "cell_type": "markdown",
   "metadata": {},
   "source": [
    "## Webscraping with Python"
   ]
  },
  {
   "cell_type": "markdown",
   "metadata": {},
   "source": [
    "### The requests library\n",
    "The first thing we’ll need to do to scrape a web page is to download the page. We can download pages using the Python requests library (similar to interacting with APIs!)."
   ]
  },
  {
   "cell_type": "code",
   "execution_count": 1,
   "metadata": {},
   "outputs": [],
   "source": [
    "import requests\n",
    "request = requests.get(\"http://dataquestio.github.io/web-scraping-pages/simple.html\")\n"
   ]
  },
  {
   "cell_type": "markdown",
   "metadata": {},
   "source": [
    "After running our request, we get a Response object. This object has a status_code property, which indicates if the page was downloaded successfully:"
   ]
  },
  {
   "cell_type": "code",
   "execution_count": 2,
   "metadata": {},
   "outputs": [
    {
     "data": {
      "text/plain": [
       "200"
      ]
     },
     "execution_count": 2,
     "metadata": {},
     "output_type": "execute_result"
    }
   ],
   "source": [
    "request.status_code\n"
   ]
  },
  {
   "cell_type": "markdown",
   "metadata": {},
   "source": [
    "We can print out the HTML content of the page using the content property:"
   ]
  },
  {
   "cell_type": "code",
   "execution_count": 3,
   "metadata": {},
   "outputs": [
    {
     "data": {
      "text/plain": [
       "b'<!DOCTYPE html>\\n<html>\\n    <head>\\n        <title>A simple example page</title>\\n    </head>\\n    <body>\\n        <p>Here is some simple content for this page.</p>\\n    </body>\\n</html>'"
      ]
     },
     "execution_count": 3,
     "metadata": {},
     "output_type": "execute_result"
    }
   ],
   "source": [
    "request.content"
   ]
  },
  {
   "cell_type": "markdown",
   "metadata": {},
   "source": [
    "### Parsing a page with BeautifulSoup\n",
    "\n",
    "We can use the BeautifulSoup library to parse this document, and extract the text from the `<p>` tag. "
   ]
  },
  {
   "cell_type": "code",
   "execution_count": 27,
   "metadata": {},
   "outputs": [
    {
     "data": {
      "text/plain": [
       "['html', <html class=\"no-js\">\n",
       " <head>\n",
       " <!-- Meta -->\n",
       " <meta content=\"width=device-width\" name=\"viewport\"/>\n",
       " <link href=\"http://purl.org/dc/elements/1.1/\" rel=\"schema.DC\"/><title>National Weather Service</title><meta content=\"National Weather Service\" name=\"DC.title\"/><meta content=\"NOAA National Weather Service National Weather Service\" name=\"DC.description\"/><meta content=\"US Department of Commerce, NOAA, National Weather Service\" name=\"DC.creator\"/><meta content=\"\" name=\"DC.date.created\" scheme=\"ISO8601\"/><meta content=\"EN-US\" name=\"DC.language\" scheme=\"DCTERMS.RFC1766\"/><meta content=\"weather, National Weather Service\" name=\"DC.keywords\"/><meta content=\"NOAA's National Weather Service\" name=\"DC.publisher\"/><meta content=\"National Weather Service\" name=\"DC.contributor\"/><meta content=\"http://www.weather.gov/disclaimer.php\" name=\"DC.rights\"/><meta content=\"General\" name=\"rating\"/><meta content=\"index,follow\" name=\"robots\"/>\n",
       " <!-- Icons -->\n",
       " <link href=\"./images/favicon.ico\" rel=\"shortcut icon\" type=\"image/x-icon\"/>\n",
       " <!-- CSS -->\n",
       " <link href=\"css/bootstrap-3.2.0.min.css\" rel=\"stylesheet\"/>\n",
       " <link href=\"css/bootstrap-theme-3.2.0.min.css\" rel=\"stylesheet\"/>\n",
       " <link href=\"css/font-awesome-4.3.0.min.css\" rel=\"stylesheet\"/>\n",
       " <link href=\"css/ol-4.6.4.css\" rel=\"stylesheet\" type=\"text/css\"/>\n",
       " <link href=\"css/mapclick.css\" rel=\"stylesheet\" type=\"text/css\"/>\n",
       " <!--[if lte IE 7]><link rel=\"stylesheet\" type=\"text/css\" href=\"css/bootstrap-ie7.css\" /><![endif]-->\n",
       " <!--[if lte IE 9]><link rel=\"stylesheet\" type=\"text/css\" href=\"css/mapclick-ie.css\" /><![endif]-->\n",
       " <link href=\"css/print.css\" rel=\"stylesheet\" type=\"text/css\"/>\n",
       " <link href=\"css/search.css\" rel=\"stylesheet\" type=\"text/css\"/>\n",
       " <!-- Javascript -->\n",
       " <script src=\"js/lib/modernizr-2.8.3.js\" type=\"text/javascript\"></script>\n",
       " <script src=\"js/lib/json3-3.3.2.min.js\" type=\"text/javascript\"></script>\n",
       " <script src=\"js/lib/jquery-1.11.3.min.js\" type=\"text/javascript\"></script>\n",
       " <script src=\"js/lib/jquery.hoverIntent-1.8.1.min.js\" type=\"text/javascript\"></script>\n",
       " <script src=\"js/lib/bootstrap-3.2.0.min.js\" type=\"text/javascript\"></script>\n",
       " <script src=\"js/lib/ol-4.6.4.js\" type=\"text/javascript\"></script>\n",
       " <!--[if lte IE 8]><script type=\"text/javascript\" src=\"js/respond.min.js\"></script><![endif]-->\n",
       " <script src=\"js/jquery.autocomplete.min.js\" type=\"text/javascript\"></script>\n",
       " <script src=\"js/cfisurvey/cfi.js?v2\" type=\"text/javascript\"></script>\n",
       " <script src=\"js/forecast.esri.js\" type=\"text/javascript\"></script>\n",
       " <script src=\"js/forecast.search.js\" type=\"text/javascript\"></script>\n",
       " <script src=\"js/forecast.openlayers.js\" type=\"text/javascript\"></script>\n",
       " <script src=\"js/browserSniffer.js\" type=\"text/javascript\"></script>\n",
       " <script src=\"js/federated-analytics.js\" type=\"text/javascript\"></script>\n",
       " <script type=\"javascript\">\n",
       " // ForeSee Staging Embed Script v2.01\n",
       " // DO NOT MODIFY BELOW THIS LINE *****************************************\n",
       " ;(function (g) {\n",
       "   var d = document, am = d.createElement('script'), h = d.head || d.getElementsByTagName(\"head\")[0], fsr = 'fsReady',\n",
       "   aex = { \n",
       "     \"src\": \"//gateway.foresee.com/sites/weather-gov/production/gateway.min.js\",\n",
       "     \"type\": \"text/javascript\", \n",
       "     \"async\": \"true\", \n",
       "     \"data-vendor\": \"fs\", \n",
       "     \"data-role\": \"gateway\" \n",
       "   };\n",
       "   for (var attr in aex) { am.setAttribute(attr, aex[attr]); } h.appendChild(am); g[fsr] || (g[fsr] = function () { var aT = '__' + fsr + '_stk__'; g[aT] = g[aT] || []; g[aT].push(arguments); });\n",
       " })(window);\n",
       " // DO NOT MODIFY ABOVE THIS LINE *****************************************\n",
       " </script>\n",
       " <script type=\"text/javascript\">\n",
       "             (function (i, s, o, g, r, a, m) {\n",
       "                 i['GoogleAnalyticsObject'] = r;\n",
       "                 i[r] = i[r] || function () {\n",
       "                     (i[r].q = i[r].q || []).push(arguments)\n",
       "                 }, i[r].l = 1 * new Date();\n",
       "                 a = s.createElement(o),\n",
       "                         m = s.getElementsByTagName(o)[0];\n",
       "                 a.async = 1;\n",
       "                 a.src = g;\n",
       "                 m.parentNode.insertBefore(a, m)\n",
       "             })(window, document, 'script', '//www.google-analytics.com/analytics.js', 'ga');\n",
       " \n",
       "             ga('create', 'UA-40768555-1', 'weather.gov', {'sampleRate': 6});\n",
       "             ga('set', 'anonymizeIp', true);\n",
       "             ga('require', 'linkid');\n",
       "             ga('send', 'pageview');\n",
       "         </script>\n",
       " </head>\n",
       " <body>\n",
       " <main class=\"container\">\n",
       " <header class=\"row clearfix\" id=\"page-header\">\n",
       " <a class=\"pull-left\" href=\"http://www.noaa.gov\" id=\"header-noaa\"><img alt=\"National Oceanic and Atmospheric Administration\" src=\"/css/images/header_noaa.png\"/></a>\n",
       " <a class=\"pull-left\" href=\"http://www.weather.gov\" id=\"header-nws\"><img alt=\"National Weather Service\" src=\"/css/images/header_nws.png\"/></a>\n",
       " <a class=\"pull-right\" href=\"http://www.commerce.gov\" id=\"header-doc\"><img alt=\"United States Department of Commerce\" src=\"/css/images/header_doc.png\"/></a>\n",
       " </header>\n",
       " <nav class=\"navbar navbar-default row\" role=\"navigation\">\n",
       " <div class=\"container-fluid\">\n",
       " <div class=\"navbar-header\">\n",
       " <button class=\"navbar-toggle collapsed\" data-target=\"#top-nav\" data-toggle=\"collapse\" type=\"button\">\n",
       " <span class=\"sr-only\">Toggle navigation</span>\n",
       " <span class=\"icon-bar\"></span>\n",
       " <span class=\"icon-bar\"></span>\n",
       " <span class=\"icon-bar\"></span>\n",
       " </button>\n",
       " </div>\n",
       " <div class=\"collapse navbar-collapse\" id=\"top-nav\">\n",
       " <ul class=\"nav navbar-nav\">\n",
       " <li><a href=\"http://www.weather.gov\">HOME</a></li>\n",
       " <li class=\"dropdown\"><a class=\"dropdown-toggle\" data-toggle=\"dropdown\" href=\"http://www.weather.gov/forecastmaps\">FORECAST <span class=\"caret\"></span></a><ul class=\"dropdown-menu\" role=\"menu\"><li><a href=\"http://www.weather.gov\">Local</a></li><li><a href=\"http://digital.weather.gov\">Graphical</a></li><li><a href=\"http://www.aviationweather.gov/\">Aviation</a></li><li><a href=\"http://www.nws.noaa.gov/om/marine/home.htm\">Marine</a></li><li><a href=\"http://water.weather.gov/ahps/\">Rivers and Lakes</a></li><li><a href=\"http://www.nhc.noaa.gov/\">Hurricanes</a></li><li><a href=\"http://www.spc.noaa.gov/\">Severe Weather</a></li><li><a href=\"http://www.weather.gov/fire/\">Fire Weather</a></li><li><a href=\"http://aa.usno.navy.mil/data/docs/RS_OneDay.php\">Sun/Moon</a></li><li><a href=\"http://www.cpc.ncep.noaa.gov/\">Long Range Forecasts</a></li><li><a href=\"http://www.cpc.ncep.noaa.gov\">Climate Prediction</a></li><li><a href=\"https://www.swpc.noaa.gov/\">Space Weather</a></li></ul> </li>\n",
       " <li class=\"dropdown\"><a class=\"dropdown-toggle\" data-toggle=\"dropdown\" href=\"https://w2.weather.gov/climate\">PAST WEATHER <span class=\"caret\"></span></a><ul class=\"dropdown-menu\" role=\"menu\"><li><a href=\"https://w2.weather.gov/climate/\">Past Weather</a></li><li><a href=\"https://w2.weather.gov/climate/\">Heating/Cooling Days</a></li><li><a href=\"https://w2.weather.gov/climate/\">Monthly Temperatures</a></li><li><a href=\"https://w2.weather.gov/climate/\">Records</a></li><li><a href=\"http://aa.usno.navy.mil/\">Astronomical Data</a></li></ul> </li>\n",
       " <li class=\"dropdown\"><a class=\"dropdown-toggle\" data-toggle=\"dropdown\" href=\"http://www.weather.gov/safety\">SAFETY <span class=\"caret\"></span></a><ul class=\"dropdown-menu\" role=\"menu\"><li><a href=\"https://www.weather.gov/safety/flood\">Floods</a></li><li><a href=\"https://www.weather.gov/safety/tsunami\">Tsunamis</a></li><li><a href=\"https://www.weather.gov/safety/beachhazards\">Beach Hazards</a></li><li><a href=\"https://www.weather.gov/safety/wildfire\">Wildfire</a></li><li><a href=\"https://www.weather.gov/safety/cold\">Cold</a></li><li><a href=\"https://www.weather.gov/safety/tornado\">Tornadoes</a></li><li><a href=\"https://www.weather.gov/safety/fog\">Fog</a></li><li><a href=\"https://www.weather.gov/safety/airquality\">Air Quality</a></li><li><a href=\"https://www.weather.gov/safety/heat\">Heat</a></li><li><a href=\"https://www.weather.gov/safety/hurricane\">Hurricanes</a></li><li><a href=\"https://www.weather.gov/safety/lightning\">Lightning</a></li><li><a href=\"https://www.weather.gov/safety/safeboating\">Safe Boating</a></li><li><a href=\"https://www.weather.gov/safety/ripcurrent\">Rip Currents</a></li><li><a href=\"https://www.weather.gov/safety/thunderstorm\">Thunderstorms</a></li><li><a href=\"https://www.weather.gov/safety/space\">Space Weather</a></li><li><a href=\"https://www.weather.gov/safety/heat-uv\">Sun (Ultraviolet Radiation)</a></li><li><a href=\"http://www.weather.gov/safetycampaign\">Safety Campaigns</a></li><li><a href=\"https://www.weather.gov/safety/wind\">Wind</a></li><li><a href=\"https://www.weather.gov/safety/drought\">Drought</a></li><li><a href=\"https://www.weather.gov/safety/winter\">Winter Weather</a></li></ul> </li>\n",
       " <li class=\"dropdown\"><a class=\"dropdown-toggle\" data-toggle=\"dropdown\" href=\"http://www.weather.gov/informationcenter\">INFORMATION <span class=\"caret\"></span></a><ul class=\"dropdown-menu\" role=\"menu\"><li><a href=\"http://www.weather.gov/Owlie's\">Owlie's Kids Page</a></li><li><a href=\"http://www.weather.gov/wrn/wea\">Wireless Emergency Alerts</a></li><li><a href=\"https://www.weather.gov/owlie/publication_brochures\">Brochures</a></li><li><a href=\"http://www.weather.gov/wrn/\">Weather-Ready Nation</a></li><li><a href=\"https://www.weather.gov/coop/\">Cooperative Observers</a></li><li><a href=\"http://www.weather.gov/briefing/\">Daily Briefing</a></li><li><a href=\"http://www.nws.noaa.gov/om/hazstats.shtml\">Damage/Fatality/Injury Statistics</a></li><li><a href=\"http://mag.ncep.noaa.gov/\">Forecast Models</a></li><li><a href=\"https://www.weather.gov/gis\">GIS Data Portal</a></li><li><a href=\"http://www.nws.noaa.gov/nwr/\">NOAA Weather Radio</a></li><li><a href=\"http://weather.gov/publications\">Publications</a></li><li><a href=\"http://www.weather.gov/SKYWARN\">SKYWARN Storm Spotters</a></li><li><a href=\"http://www.weather.gov/StormReady\">StormReady</a></li><li><a href=\"https://www.weather.gov/TsunamiReady/\">TsunamiReady</a></li><li><a href=\"https://www.weather.gov/notification/\">Service Change Notices</a></li></ul> </li>\n",
       " <li class=\"dropdown\"><a class=\"dropdown-toggle\" data-toggle=\"dropdown\" href=\"http://www.weather.gov/owlie\">EDUCATION <span class=\"caret\"></span></a><ul class=\"dropdown-menu\" role=\"menu\"><li><a href=\"https://www.weather.gov/wrn/force\">Be A Force of Nature</a></li><li><a href=\"http://www.weather.gov/owlie\">NWS Education Home</a></li></ul> </li>\n",
       " <li class=\"dropdown\"><a class=\"dropdown-toggle\" data-toggle=\"dropdown\" href=\"http://www.weather.gov/contact-media/\">NEWS <span class=\"caret\"></span></a><ul class=\"dropdown-menu\" role=\"menu\"><li><a href=\"http://www.weather.gov/news\">NWS News</a></li><li><a href=\"https://www.weather.gov/wrn/calendar\">Events</a></li><li><a href=\"http://www.weather.gov/socialmedia\">Social Media</a></li><li><a href=\"https://www.weather.gov/owlie/publication_brochures\">Pubs/Brochures/Booklets </a></li><li><a href=\"http://www.noaa.gov/NOAA-Communications\">NWS Media Contacts</a></li></ul> </li>\n",
       " <li class=\"dropdown\"><a class=\"dropdown-toggle\" data-toggle=\"dropdown\" href=\"http://www.weather.gov/search\">SEARCH <span class=\"caret\"></span></a><ul class=\"dropdown-menu\" role=\"menu\"> <li><!-- Begin search code -->\n",
       " <div id=\"site-search\">\n",
       " <form action=\"//search.usa.gov/search\" method=\"get\" style=\"margin-bottom: 0; margin-top: 0;\">\n",
       " <input name=\"v:project\" type=\"hidden\" value=\"firstgov\"/>\n",
       " <label for=\"query\">Search For</label>\n",
       " <input id=\"query\" name=\"query\" size=\"12\" type=\"text\"/>\n",
       " <input type=\"submit\" value=\"Go\"/>\n",
       " <p>\n",
       " <input checked=\"checked\" id=\"nws\" name=\"affiliate\" type=\"radio\" value=\"nws.noaa.gov\"/>\n",
       " <label class=\"search-scope\" for=\"nws\">NWS</label>\n",
       " <input id=\"noaa\" name=\"affiliate\" type=\"radio\" value=\"noaa.gov\"/>\n",
       " <label class=\"search-scope\" for=\"noaa\">All NOAA</label>\n",
       " </p>\n",
       " </form>\n",
       " </div>\n",
       " </li>\n",
       " </ul> </li>\n",
       " <li class=\"dropdown\"><a class=\"dropdown-toggle\" data-toggle=\"dropdown\" href=\"http://www.weather.gov/about\">ABOUT <span class=\"caret\"></span></a><ul class=\"dropdown-menu\" role=\"menu\"><li><a href=\"http://www.weather.gov/about\">About NWS</a></li><li><a href=\"http://www.weather.gov/organization\">Organization</a></li><li><a href=\"https://www.weather.gov/media/wrn/NWS_Weather-Ready-Nation_Strategic_Plan_2019-2022.pdf\">Strategic Plan</a></li><li><a href=\"https://sites.google.com/a/noaa.gov/nws-insider/\">For NWS Employees</a></li><li><a href=\"http://www.weather.gov/international/\">International</a></li><li><a href=\"http://www.weather.gov/organization\">National Centers</a></li><li><a href=\"http://www.weather.gov/careers/\">Careers</a></li><li><a href=\"http://www.weather.gov/contact\">Contact Us</a></li><li><a href=\"https://w1.weather.gov/glossary\">Glossary</a></li></ul> </li>\n",
       " </ul>\n",
       " </div>\n",
       " </div>\n",
       " </nav>\n",
       " <div class=\"contentArea\">\n",
       " <!-- Start Forecastsearch -->\n",
       " <div class=\"\" id=\"fcst-search\">\n",
       " <form action=\"https://forecast.weather.gov/zipcity.php\" class=\"form-inline\" id=\"getForecast\" method=\"get\" name=\"getForecast\" role=\"form\">\n",
       " <div id=\"getfcst-body\">\n",
       " <input class=\"form-control\" id=\"inputstring\" name=\"inputstring\" placeholder=\"\" type=\"text\"/>\n",
       " <input class=\"btn btn-default\" id=\"btnSearch\" name=\"btnSearch\" type=\"submit\" value=\"Go\"/>\n",
       " <div id=\"txtHelp\"><a href=\"javascript:void(window.open('http://weather.gov/ForecastSearchHelp.html','locsearchhelp','status=0,toolbar=0,location=0,menubar=0,directories=0,resizable=1,scrollbars=1,height=500,width=530').focus());\">View Location Examples</a></div>\n",
       " </div>\n",
       " <div id=\"txtError\">\n",
       " <div id=\"errorNoResults\" style=\"display:none;\">Sorry, the location you searched for was not found. Please try another search.</div>\n",
       " <div id=\"errorMultipleResults\" style=\"display:none\">Multiple locations were found. Please select one of the following:</div>\n",
       " <div id=\"errorChoices\" style=\"display:none\"></div>\n",
       " <input id=\"btnCloseError\" style=\"display:none\" type=\"button\" value=\"Close\"/>\n",
       " </div>\n",
       " <div id=\"getfcst-head\">\n",
       " <p>Your local forecast office is</p>\n",
       " <h3 id=\"getfcst-headOffice\"></h3>\n",
       " </div>\n",
       " </form>\n",
       " </div>\n",
       " <!-- end Forecastsearch -->\n",
       " <link href=\"/css/topnews.css\" rel=\"stylesheet\" type=\"text/css\"/>\n",
       " <div id=\"news-items\">\n",
       " <div id=\"topnews\">\n",
       " <div class=\"icon\"><img src=\"/images/news-important.jpg\"/></div>\n",
       " <div class=\"body\">\n",
       " <h1 style=\"font-size: 11pt;\">Wintry Mix Over Northern New England, Heavy Rainfall And Flash Flooding Threat Over The Desert Southwest</h1>\n",
       " <p>\n",
       "             A wintry mix of snow, sleet, and freezing rain is expected over northern New England today. Hazardous travel conditions are likely to develop. Over the western U.S., the remnants of Tropical Storm Raymond will bring the potential for heavy rainfall and flash flooding over the Desert Southwest into Wednesday. Critical fire weather conditions will develop across northern California through mid-week.\n",
       "             <a href=\"http://www.wpc.ncep.noaa.gov/discussions/hpcdiscussions.php?disc=pmdspd\" target=\"_blank\">Read More &gt;</a>\n",
       " </p>\n",
       " </div>\n",
       " </div>\n",
       " </div>\n",
       " <script type=\"text/javascript\">(function ($) { var topnews = $(\"#topnews\"); topnews.hide(); $.get(\"siteNews.php\", {a:\"lot\"},function(response){ if (response !== \"false\") topnews.replaceWith($(response)); topnews.show(); }); })(jQuery);</script><!-- PageFormat-Land -->\n",
       " <script language=\"javascript\">document.title = $('<div/>').html('7-Day Forecast for Latitude 41.88&deg;N and Longitude 87.65&deg;W').text();</script><img src=\"images/track_land_point.png\" style=\"display:none;\"/>\n",
       " <div id=\"quickLinks\">\n",
       " <span class=\"lang-spanish\"><a href=\"//forecast.weather.gov/MapClick.php?lat=41.8843&amp;lon=-87.6324&amp;lg=sp\">En Español</a></span>\n",
       " <div class=\"addthis_toolbox addthis_default_style addthis-forecast\">\n",
       " <a class=\"addthis_button_compact\" href=\"//www.addthis.com/bookmark.php?v=250&amp;pubid=ra-5127a6364d551d04\">Share</a>\n",
       " <span class=\"addthis_separator\">|</span>\n",
       " <a class=\"addthis_button_preferred_1\"></a>\n",
       " <a class=\"addthis_button_preferred_2\"></a>\n",
       " <a class=\"addthis_button_preferred_3\"></a>\n",
       " <a class=\"addthis_button_preferred_4\"></a>\n",
       " <a class=\"addthis_button_preferred_5\"></a>\n",
       " </div>\n",
       " <script type=\"text/javascript\">\n",
       " \t\tvar addthis_config = addthis_config || {data_track_addressbar:true, pubid: 'xa-4b05b2d91f18c9cc'};\n",
       " \t    $(document).ready(function(){\n",
       " \t\t\tjQuery.ajax({\n",
       " \t\t\t\turl: \"//s7.addthis.com/js/300/addthis_widget.js#async=1\",\n",
       " \t\t\t\tdataType: \"script\",\n",
       " \t\t\t\tcache: false\n",
       " \t\t\t});\n",
       " \t    });\n",
       " \t</script>\n",
       " </div>\n",
       " <!-- Current Conditions -->\n",
       " <div class=\"panel panel-default\" id=\"current-conditions\">\n",
       " <!-- Current Conditions header row -->\n",
       " <div class=\"panel-heading\">\n",
       " <div>\n",
       " <b>Current conditions at</b>\n",
       " <h2 class=\"panel-title\">Chicago, Chicago Midway Airport (KMDW)</h2>\n",
       " <span class=\"smallTxt\"><b>Lat: </b>41.78°N<b>Lon: </b>87.76°W<b>Elev: </b>617ft.</span>\n",
       " </div>\n",
       " </div>\n",
       " <div class=\"panel-body\" id=\"current-conditions-body\">\n",
       " <!-- Graphic and temperatures -->\n",
       " <div class=\"pull-left\" id=\"current_conditions-summary\">\n",
       " <img alt=\"\" class=\"pull-left\" src=\"newimages/large/ovc.png\"/>\n",
       " <p class=\"myforecast-current\">Overcast</p>\n",
       " <p class=\"myforecast-current-lrg\">41°F</p>\n",
       " <p class=\"myforecast-current-sm\">5°C</p>\n",
       " </div>\n",
       " <div class=\"pull-left\" id=\"current_conditions_detail\">\n",
       " <table>\n",
       " <tr>\n",
       " <td class=\"text-right\"><b>Humidity</b></td>\n",
       " <td>76%</td>\n",
       " </tr>\n",
       " <tr>\n",
       " <td class=\"text-right\"><b>Wind Speed</b></td>\n",
       " <td>Calm</td>\n",
       " </tr>\n",
       " <tr>\n",
       " <td class=\"text-right\"><b>Barometer</b></td>\n",
       " <td>29.80 in (1009.8 mb)</td>\n",
       " </tr>\n",
       " <tr>\n",
       " <td class=\"text-right\"><b>Dewpoint</b></td>\n",
       " <td>34°F (1°C)</td>\n",
       " </tr>\n",
       " <tr>\n",
       " <td class=\"text-right\"><b>Visibility</b></td>\n",
       " <td>9.00 mi</td>\n",
       " </tr>\n",
       " <tr>\n",
       " <td class=\"text-right\"><b>Last update</b></td>\n",
       " <td>\n",
       "                 19 Nov 10:53 am CST            </td>\n",
       " </tr>\n",
       " </table>\n",
       " </div>\n",
       " <div id=\"current_conditions_station\">\n",
       " <div class=\"current-conditions-extra\">\n",
       " <!-- Right hand section -->\n",
       " <p class=\"moreInfo\"><b>More Information:</b></p><p><a href=\"https://www.weather.gov/lot\" id=\"localWFO\" title=\"Chicago, IL\"><span class=\"hideText\">Local</span> Forecast Office</a><a href=\"obslocal.php?warnzone=ILZ014&amp;local_place=4 Miles NE Chicago IL&amp;zoneid=CST&amp;offset=21600\" id=\"moreWx\">More Local Wx</a><a href=\"//www.weather.gov/data/obhistory/KMDW.html\" id=\"3dayHist\">3 Day History</a><a href=\"//mobile.weather.gov/index.php?lat=41.8843&amp;lon=-87.6324&amp;unit=0&amp;lg=english\" id=\"mobileWxLink\">Mobile Weather</a><a href=\"MapClick.php?lat=41.8843&amp;lon=-87.6324&amp;unit=0&amp;lg=english&amp;FcstType=graphical\" id=\"wxGraph\">Hourly <span class=\"hideText\">Weather </span>Forecast</a></p> </div>\n",
       " <!-- /current_conditions_station -->\n",
       " </div>\n",
       " <!-- /current-conditions-body -->\n",
       " </div>\n",
       " <!-- /Current Conditions -->\n",
       " </div>\n",
       " <!-- 7-Day Forecast -->\n",
       " <div class=\"panel panel-default\" id=\"seven-day-forecast\">\n",
       " <div class=\"panel-heading\">\n",
       " <b>Extended Forecast for</b>\n",
       " <h2 class=\"panel-title\">\n",
       " \t    \t    4 Miles NE Chicago IL\t</h2>\n",
       " </div>\n",
       " <div class=\"panel-body\" id=\"seven-day-forecast-body\">\n",
       " <div id=\"seven-day-forecast-container\"><ul class=\"list-unstyled\" id=\"seven-day-forecast-list\"><li class=\"forecast-tombstone\">\n",
       " <div class=\"tombstone-container\">\n",
       " <p class=\"period-name\">Today<br/><br/></p>\n",
       " <p><img alt=\"Today: A 50 percent chance of rain before 5pm.  Cloudy, with a high near 39. South southeast wind around 5 mph becoming calm. \" class=\"forecast-icon\" src=\"newimages/medium/ra50.png\" title=\"Today: A 50 percent chance of rain before 5pm.  Cloudy, with a high near 39. South southeast wind around 5 mph becoming calm. \"/></p><p class=\"short-desc\">Chance Rain</p><p class=\"temp temp-high\">High: 39 °F</p></div></li><li class=\"forecast-tombstone\">\n",
       " <div class=\"tombstone-container\">\n",
       " <p class=\"period-name\">Tonight<br/><br/></p>\n",
       " <p><img alt=\"Tonight: Cloudy, with a low around 36. Calm wind becoming west around 5 mph. \" class=\"forecast-icon\" src=\"newimages/medium/novc.png\" title=\"Tonight: Cloudy, with a low around 36. Calm wind becoming west around 5 mph. \"/></p><p class=\"short-desc\">Cloudy</p><p class=\"temp temp-low\">Low: 36 °F</p></div></li><li class=\"forecast-tombstone\">\n",
       " <div class=\"tombstone-container\">\n",
       " <p class=\"period-name\">Wednesday<br/><br/></p>\n",
       " <p><img alt=\"Wednesday: Partly sunny, with a high near 46. West wind 5 to 10 mph becoming south southeast in the afternoon. Winds could gust as high as 15 mph. \" class=\"forecast-icon\" src=\"newimages/medium/bkn.png\" title=\"Wednesday: Partly sunny, with a high near 46. West wind 5 to 10 mph becoming south southeast in the afternoon. Winds could gust as high as 15 mph. \"/></p><p class=\"short-desc\">Partly Sunny</p><p class=\"temp temp-high\">High: 46 °F</p></div></li><li class=\"forecast-tombstone\">\n",
       " <div class=\"tombstone-container\">\n",
       " <p class=\"period-name\">Wednesday<br/>Night</p>\n",
       " <p><img alt=\"Wednesday Night: Showers after midnight.  Low around 41. Breezy, with a south wind 10 to 20 mph, with gusts as high as 30 mph.  Chance of precipitation is 80%.\" class=\"forecast-icon\" src=\"DualImage.php?i=nbkn&amp;j=nshra&amp;jp=80\" title=\"Wednesday Night: Showers after midnight.  Low around 41. Breezy, with a south wind 10 to 20 mph, with gusts as high as 30 mph.  Chance of precipitation is 80%.\"/></p><p class=\"short-desc\">Mostly Cloudy<br/>then Showers<br/>and Breezy</p><p class=\"temp temp-low\">Low: 41 °F</p></div></li><li class=\"forecast-tombstone\">\n",
       " <div class=\"tombstone-container\">\n",
       " <p class=\"period-name\">Thursday<br/><br/></p>\n",
       " <p><img alt=\"Thursday: Showers.  High near 55. Breezy, with a south wind 15 to 20 mph becoming west in the afternoon. Winds could gust as high as 35 mph.  Chance of precipitation is 100%.\" class=\"forecast-icon\" src=\"newimages/medium/shra100.png\" title=\"Thursday: Showers.  High near 55. Breezy, with a south wind 15 to 20 mph becoming west in the afternoon. Winds could gust as high as 35 mph.  Chance of precipitation is 100%.\"/></p><p class=\"short-desc\">Showers and<br/>Breezy</p><p class=\"temp temp-high\">High: 55 °F</p></div></li><li class=\"forecast-tombstone\">\n",
       " <div class=\"tombstone-container\">\n",
       " <p class=\"period-name\">Thursday<br/>Night</p>\n",
       " <p><img alt=\"Thursday Night: A 20 percent chance of showers before midnight.  Mostly cloudy, with a low around 32.\" class=\"forecast-icon\" src=\"DualImage.php?i=nshra&amp;j=nbkn&amp;ip=20\" title=\"Thursday Night: A 20 percent chance of showers before midnight.  Mostly cloudy, with a low around 32.\"/></p><p class=\"short-desc\">Slight Chance<br/>Showers then<br/>Mostly Cloudy</p><p class=\"temp temp-low\">Low: 32 °F</p></div></li><li class=\"forecast-tombstone\">\n",
       " <div class=\"tombstone-container\">\n",
       " <p class=\"period-name\">Friday<br/><br/></p>\n",
       " <p><img alt=\"Friday: Partly sunny, with a high near 38.\" class=\"forecast-icon\" src=\"newimages/medium/bkn.png\" title=\"Friday: Partly sunny, with a high near 38.\"/></p><p class=\"short-desc\">Partly Sunny</p><p class=\"temp temp-high\">High: 38 °F</p></div></li><li class=\"forecast-tombstone\">\n",
       " <div class=\"tombstone-container\">\n",
       " <p class=\"period-name\">Friday<br/>Night</p>\n",
       " <p><img alt=\"Friday Night: A slight chance of snow after midnight.  Partly cloudy, with a low around 28.\" class=\"forecast-icon\" src=\"DualImage.php?i=nsct&amp;j=nsn&amp;jp=0\" title=\"Friday Night: A slight chance of snow after midnight.  Partly cloudy, with a low around 28.\"/></p><p class=\"short-desc\">Partly Cloudy<br/>then Slight<br/>Chance Snow</p><p class=\"temp temp-low\">Low: 28 °F</p></div></li><li class=\"forecast-tombstone\">\n",
       " <div class=\"tombstone-container\">\n",
       " <p class=\"period-name\">Saturday<br/><br/></p>\n",
       " <p><img alt=\"Saturday: A slight chance of snow before 11am, then a slight chance of rain and snow between 11am and 1pm, then a slight chance of rain after 1pm.  Mostly sunny, with a high near 39.\" class=\"forecast-icon\" src=\"newimages/medium/ra_sn.png\" title=\"Saturday: A slight chance of snow before 11am, then a slight chance of rain and snow between 11am and 1pm, then a slight chance of rain after 1pm.  Mostly sunny, with a high near 39.\"/></p><p class=\"short-desc\">Slight Chance<br/>Rain/Snow</p><p class=\"temp temp-high\">High: 39 °F</p></div></li></ul></div>\n",
       " <script type=\"text/javascript\">\n",
       " // equalize forecast heights\n",
       " $(function () {\n",
       " \tvar maxh = 0;\n",
       " \t$(\".forecast-tombstone .short-desc\").each(function () {\n",
       " \t\tvar h = $(this).height();\n",
       " \t\tif (h > maxh) { maxh = h; }\n",
       " \t});\n",
       " \t$(\".forecast-tombstone .short-desc\").height(maxh);\n",
       " });\n",
       " </script> </div>\n",
       " </div>\n",
       " <!-- Everything between 7-Day Forecast and Footer goes in this row -->\n",
       " <div class=\"row\" id=\"floatingDivs\">\n",
       " <!-- Everything on the left-hand side -->\n",
       " <div class=\"col-md-7 col-lg-8\">\n",
       " <!-- Detailed Forecast -->\n",
       " <div class=\"panel panel-default\" id=\"detailed-forecast\">\n",
       " <div class=\"panel-heading\">\n",
       " <h2 class=\"panel-title\">Detailed Forecast</h2>\n",
       " </div>\n",
       " <div class=\"panel-body\" id=\"detailed-forecast-body\">\n",
       " <div class=\"row row-odd row-forecast\"><div class=\"col-sm-2 forecast-label\"><b>Today</b></div><div class=\"col-sm-10 forecast-text\">A 50 percent chance of rain before 5pm.  Cloudy, with a high near 39. South southeast wind around 5 mph becoming calm. </div></div><div class=\"row row-even row-forecast\"><div class=\"col-sm-2 forecast-label\"><b>Tonight</b></div><div class=\"col-sm-10 forecast-text\">Cloudy, with a low around 36. Calm wind becoming west around 5 mph. </div></div><div class=\"row row-odd row-forecast\"><div class=\"col-sm-2 forecast-label\"><b>Wednesday</b></div><div class=\"col-sm-10 forecast-text\">Partly sunny, with a high near 46. West wind 5 to 10 mph becoming south southeast in the afternoon. Winds could gust as high as 15 mph. </div></div><div class=\"row row-even row-forecast\"><div class=\"col-sm-2 forecast-label\"><b>Wednesday Night</b></div><div class=\"col-sm-10 forecast-text\">Showers after midnight.  Low around 41. Breezy, with a south wind 10 to 20 mph, with gusts as high as 30 mph.  Chance of precipitation is 80%.</div></div><div class=\"row row-odd row-forecast\"><div class=\"col-sm-2 forecast-label\"><b>Thursday</b></div><div class=\"col-sm-10 forecast-text\">Showers.  High near 55. Breezy, with a south wind 15 to 20 mph becoming west in the afternoon. Winds could gust as high as 35 mph.  Chance of precipitation is 100%.</div></div><div class=\"row row-even row-forecast\"><div class=\"col-sm-2 forecast-label\"><b>Thursday Night</b></div><div class=\"col-sm-10 forecast-text\">A 20 percent chance of showers before midnight.  Mostly cloudy, with a low around 32.</div></div><div class=\"row row-odd row-forecast\"><div class=\"col-sm-2 forecast-label\"><b>Friday</b></div><div class=\"col-sm-10 forecast-text\">Partly sunny, with a high near 38.</div></div><div class=\"row row-even row-forecast\"><div class=\"col-sm-2 forecast-label\"><b>Friday Night</b></div><div class=\"col-sm-10 forecast-text\">A slight chance of snow after midnight.  Partly cloudy, with a low around 28.</div></div><div class=\"row row-odd row-forecast\"><div class=\"col-sm-2 forecast-label\"><b>Saturday</b></div><div class=\"col-sm-10 forecast-text\">A slight chance of snow before 11am, then a slight chance of rain and snow between 11am and 1pm, then a slight chance of rain after 1pm.  Mostly sunny, with a high near 39.</div></div><div class=\"row row-even row-forecast\"><div class=\"col-sm-2 forecast-label\"><b>Saturday Night</b></div><div class=\"col-sm-10 forecast-text\">Partly cloudy, with a low around 30.</div></div><div class=\"row row-odd row-forecast\"><div class=\"col-sm-2 forecast-label\"><b>Sunday</b></div><div class=\"col-sm-10 forecast-text\">Mostly sunny, with a high near 43.</div></div><div class=\"row row-even row-forecast\"><div class=\"col-sm-2 forecast-label\"><b>Sunday Night</b></div><div class=\"col-sm-10 forecast-text\">Mostly cloudy, with a low around 34.</div></div><div class=\"row row-odd row-forecast\"><div class=\"col-sm-2 forecast-label\"><b>Monday</b></div><div class=\"col-sm-10 forecast-text\">Mostly sunny, with a high near 46.</div></div> </div>\n",
       " </div>\n",
       " <!-- /Detailed Forecast -->\n",
       " <!-- Additional Forecasts and Information -->\n",
       " <div class=\"panel panel-default\" id=\"additional_forecasts\">\n",
       " <div class=\"panel-heading\">\n",
       " <h2 class=\"panel-title\">Additional Forecasts and Information</h2>\n",
       " </div>\n",
       " <div class=\"panel-body\" id=\"additional-forecasts-body\">\n",
       " <p class=\"myforecast-location\"><a href=\"MapClick.php?zoneid=ILZ014\">Zone Area Forecast for Cook County, IL</a></p>\n",
       " <!-- First nine-ten links -->\n",
       " <div id=\"linkBlockContainer\">\n",
       " <div class=\"linkBlock\">\n",
       " <ul class=\"list-unstyled\">\n",
       " <li><a href=\"//forecast.weather.gov/product.php?site=LOT&amp;issuedby=LOT&amp;product=AFD&amp;format=CI&amp;version=1&amp;glossary=1\">Forecast Discussion</a></li>\n",
       " <li><a href=\"MapClick.php?lat=41.8843&amp;lon=-87.6324&amp;unit=0&amp;lg=english&amp;FcstType=text&amp;TextType=2\">Printable Forecast</a></li>\n",
       " <li><a href=\"MapClick.php?lat=41.8843&amp;lon=-87.6324&amp;unit=0&amp;lg=english&amp;FcstType=text&amp;TextType=1\">Text Only Forecast</a></li>\n",
       " </ul>\n",
       " </div>\n",
       " <div class=\"linkBlock\">\n",
       " <ul class=\"list-unstyled\">\n",
       " <li><a href=\"MapClick.php?lat=41.8843&amp;lon=-87.6324&amp;unit=0&amp;lg=english&amp;FcstType=graphical\">Hourly Weather Forecast</a></li>\n",
       " <li><a href=\"MapClick.php?lat=41.8843&amp;lon=-87.6324&amp;unit=0&amp;lg=english&amp;FcstType=digital\">Tabular Forecast</a></li>\n",
       " <!-- <li><a href=\"afm/PointClick.php?lat=41.8843&lon=-87.6324\">Quick Forecast</a></li> -->\n",
       " </ul>\n",
       " </div>\n",
       " <div class=\"linkBlock\">\n",
       " <ul class=\"list-unstyled\">\n",
       " <li><a href=\"//weather.gov/aq/probe_aq_data.php?latitude=41.8843&amp;longitude=-87.6324\">Air Quality Forecasts</a></li>\n",
       " <li><a href=\"MapClick.php?lat=41.8843&amp;lon=-87.6324&amp;FcstType=text&amp;unit=1&amp;lg=en\">International System of Units</a></li>\n",
       " </ul>\n",
       " </div>\n",
       " <!-- /First nine-ten links -->\n",
       " <!-- Additional links -->\n",
       " <div class=\"linkBlock\"><ul class=\"list-unstyled\"><li><a href=\"http://www.weather.gov/lot/ehwo\" target=\"_blank\">Graphical Hazardous Weather Outlook</a></li><li><a href=\"http://forecast.weather.gov/product.php?issuedby=LOT&amp;product=HWO&amp;site=lot\" target=\"_self\">Hazardous Weather</a></li></ul></div><div class=\"linkBlock\"><ul class=\"list-unstyled\"><li><a href=\"http://www.weather.gov/lot/observations\" target=\"_self\">Regional Weather Conditions</a></li><li><a href=\"http://www.weather.gov/climate/index.php?wfo=lot\" target=\"_self\">Past Weather Information</a></li></ul></div><div class=\"linkBlock\"><ul class=\"list-unstyled\"></ul></div>\n",
       " </div> <!-- /linkBlockContainer -->\n",
       " </div><!-- /additional-forecasts-body-->\n",
       " </div> <!-- /additional_forecasts -->\n",
       " </div> <!-- /Everything on the left-hand side -->\n",
       " <!-- right-side-data -->\n",
       " <div class=\"col-md-5 col-lg-4\" id=\"right-side-data\">\n",
       " <div id=\"mapAndDescriptionArea\">\n",
       " <!-- openlayer map -->\n",
       " <style>\n",
       " #custom-search{\n",
       " display: block;\n",
       " position: relative;\n",
       " z-index: 50;\n",
       " top: 52px;\n",
       " left: 60px;\n",
       " }\n",
       " #esri-geocoder-search{\n",
       " display: block;\n",
       " position: relative;\n",
       " z-index: 50;\n",
       " top: 52px;\n",
       " left: 60px;\n",
       " }\n",
       " #emap{\n",
       " margin-top:15px;\n",
       " cursor:pointer;\n",
       " height:370px;\n",
       " width:100%;\n",
       " border: 1px solid #ccc;\n",
       " border-radius: 3px;\n",
       " }\n",
       " #switch-basemap-container{\n",
       " }\n",
       " #basemap-selection-form ul{\n",
       " list-style: none;\n",
       "  margin: 0px;\n",
       " }\n",
       " #basemap-selection-form li{\n",
       " float: left;\n",
       " }\n",
       " .disclaimer{\n",
       " margin-top:350px;\n",
       " margin-left: 5px;\n",
       " z-index: 100;\n",
       " position: absolute;\n",
       " text-transform: none;\n",
       " }\n",
       " .esriAttributionLastItem{\n",
       " text-transform: none;\n",
       " }\n",
       " .esriSimpleSlider div{\n",
       " height:22px;\n",
       " line-height:20px;\n",
       " width:20px;\n",
       " }\n",
       " #point-forecast-map-label {\n",
       " text-align:center;\n",
       " font-weight:bold;\n",
       " color:black;\n",
       " }\n",
       " @media (max-width: 767px) {\n",
       " #emap{\n",
       " margin-top:.5em;\n",
       " height:270px;\n",
       " }\n",
       " .disclaimer{\n",
       " margin-top:250px;\n",
       " }\n",
       " }\n",
       " </style>\n",
       " <!-- forecast-map -->\n",
       " <div class=\"point-forecast-map\">\n",
       " <div class=\"point-forecast-map-header text-center\">\n",
       " <div id=\"toolbar\">\n",
       " <div id=\"switch-basemap-container\">\n",
       " <div id=\"basemap-selection-form\" title=\"Choose a Basemap\">\n",
       " <div id=\"basemap-menu\">\n",
       " <select autocomplete=\"off\" id=\"basemap-selected\" name=\"basemap-selected\" title=\"Basemap Dropdown Menu\">\n",
       " <option value=\"none\">Select Basemap</option>\n",
       " <option selected=\"\" value=\"topo\">Topographic</option>\n",
       " <option value=\"streets\">Streets</option>\n",
       " <option value=\"satellite\">Satellite</option>\n",
       " <option value=\"ocean\">Ocean</option>\n",
       " </select>\n",
       " </div>\n",
       " </div>\n",
       " <div id=\"point-forecast-map-label\">\n",
       "                     Click Map For Forecast\n",
       "                 </div>\n",
       " </div><!-- //#switch-basemap-container -->\n",
       " <div style=\"clear:both;\"></div>\n",
       " </div><!-- //#toolbar -->\n",
       " </div><!-- //.point-forecast-map-header -->\n",
       " <div id=\"emap\">\n",
       " <noscript><center><br/><br/><b>Map function requires Javascript and a compatible browser.</b></center></noscript>\n",
       " <div class=\"disclaimer\"><a href=\"http://www.weather.gov/disclaimer#esri\">Disclaimer</a></div>\n",
       " </div><!-- //#emap -->\n",
       " <div class=\"point-forecast-map-footer\">\n",
       " <img alt=\"Map Legend\" height=\"16\" src=\"./images/wtf/maplegend_forecast-area.gif\" width=\"100\"/>\n",
       " </div><!-- //.point-forecast-map-footer -->\n",
       " </div> <!-- //.point-forecast-map -->\n",
       " <!-- //forecast-map -->\n",
       " <!-- //openlayer map -->\n",
       " <!-- About this Forecast -->\n",
       " <div id=\"about_forecast\">\n",
       " <div class=\"fullRow\">\n",
       " <div class=\"left\">Point Forecast:</div>\n",
       " <div class=\"right\">4 Miles NE Chicago IL<br/> 41.88°N 87.65°W</div>\n",
       " </div>\n",
       " <div class=\"fullRow\">\n",
       " <div class=\"left\"><a href=\"//www.weather.gov/glossary/index.php?word=Last+update\" target=\"_blank\">Last Update</a>: </div>\n",
       " <div class=\"right\">10:15 am CST Nov 19, 2019</div>\n",
       " </div>\n",
       " <div class=\"fullRow\">\n",
       " <div class=\"left\"><a href=\"//www.weather.gov/glossary/index.php?word=forecast+valid+for\" target=\"_blank\">Forecast Valid</a>: </div>\n",
       " <div class=\"right\">11am CST Nov 19, 2019-6pm CST Nov 25, 2019</div>\n",
       " </div>\n",
       " <div class=\"fullRow\">\n",
       " <div class=\"left\"> </div>\n",
       " <div class=\"right\"><a href=\"https://forecast.weather.gov/product.php?site=LOT&amp;issuedby=LOT&amp;product=AFD&amp;format=CI&amp;version=1&amp;glossary=1\">Forecast Discussion</a></div>\n",
       " </div>\n",
       " <div class=\"fullRow\">\n",
       " <div class=\"left\"> </div>\n",
       " <div class=\"right\">\n",
       " <a href=\"MapClick.php?lat=41.8843&amp;lon=-87.6324&amp;unit=0&amp;lg=english&amp;FcstType=kml\"><img alt=\"Get as KML\" height=\"17\" src=\"/images/wtf/kml_badge.png\" width=\"45\"/></a>\n",
       " <a href=\"MapClick.php?lat=41.8843&amp;lon=-87.6324&amp;unit=0&amp;lg=english&amp;FcstType=dwml\"><img alt=\"Get as XML\" height=\"17\" src=\"/images/wtf/xml_badge.png\" width=\"45\"/></a>\n",
       " </div>\n",
       " </div>\n",
       " </div>\n",
       " <!-- /About this Forecast -->\n",
       " </div>\n",
       " <!--additionalForecast-->\n",
       " <div class=\"panel panel-default\" id=\"additionalForecast\">\n",
       " <div class=\"panel-heading\">\n",
       " <h2 class=\"panel-title\">Additional Resources</h2>\n",
       " </div>\n",
       " <div class=\"panel-body\">\n",
       " <!-- Radar & Satellite Images -->\n",
       " <div class=\"subItem\" id=\"radar\">\n",
       " <h4>Radar &amp; Satellite Image</h4>\n",
       " <a href=\"//radar.weather.gov/radar.php?rid=lot&amp;product=N0R&amp;overlay=11101111&amp;loop=no\"><img alt=\"Link to Local Radar Data\" class=\"radar-thumb\" src=\"//radar.weather.gov/Thumbs/LOT_Thumb.gif\" title=\"Link to Local Radar Data\"/></a> <a href=\"https://www.star.nesdis.noaa.gov/GOES/GOES16_CONUS.php\"><img alt=\"Link to Satellite Data\" class=\"satellite-thumb\" src=\"https://cdn.star.nesdis.noaa.gov/GOES16/ABI/CONUS/GEOCOLOR/625x375.jpg\" title=\"Link to Satellite Data\"/></a> </div>\n",
       " <!-- /Radar & Satellite Images -->\n",
       " <!-- Hourly Weather Forecast -->\n",
       " <div class=\"subItem\" id=\"feature\">\n",
       " <h4>Hourly Weather Forecast</h4>\n",
       " <a href=\"MapClick.php?lat=41.8843&amp;lon=-87.6324&amp;unit=0&amp;lg=english&amp;FcstType=graphical\"><img class=\"img-responsive\" src=\"newimages/medium/hourlyweather.png\"/></a>\n",
       " </div>\n",
       " <!-- /Hourly Weather Forecast -->\n",
       " <!-- NDFD -->\n",
       " <div class=\"subItem\" id=\"NDFD\">\n",
       " <h4>National Digital Forecast Database</h4>\n",
       " <div class=\"one-sixth-first\"><a href=\"//graphical.weather.gov/sectors/uppermissvly.php?element=MaxT\"><img alt=\"National Digital Forecast Database Maximum Temperature Forecast\" border=\"0\" height=\"150\" src=\"//graphical.weather.gov/images/thumbnail/latest_MaxMinT_uppermissvly_thumbnail.png\" title=\"National Digital Forecast Database Maximum Temperature Forecast\" width=\"147\"/></a>\n",
       " <p><a href=\"//graphical.weather.gov/sectors/uppermissvly.php?element=MaxT\">High Temperature</a></p></div><div class=\"one-sixth-first\"><a href=\"//graphical.weather.gov/sectors/uppermissvly.php?element=Wx\"><img alt=\"National Digital Forecast Database Weather Element Forecast\" border=\"0\" height=\"150\" src=\"//graphical.weather.gov/images/thumbnail/latest_Wx_uppermissvly_thumbnail.png\" title=\"National Digital Forecast Database Weather Element Forecast\" width=\"147\"/></a>\n",
       " <p><a href=\"//graphical.weather.gov/sectors/uppermissvly.php?element=Wx\">Chance of Precipitation</a></p></div> </div>\n",
       " <!-- /NDFD -->\n",
       " </div>\n",
       " </div>\n",
       " <!-- /additionalForecast -->\n",
       " </div>\n",
       " <!-- /col-md-4 -->\n",
       " <!-- /right-side-data -->\n",
       " <script language=\"javascript\">$( document ).ready(function() { load_openlayers_map('', '', '', '{\"centroid_lat\":\"41.8843\",\"centroid_lon\":\"-87.6324\",\"lat1\":\"41.8675\",\"lon1\":\"-87.6615\",\"lat2\":\"41.8895\",\"lon2\":\"-87.66\",\"lat3\":\"41.8885\",\"lon3\":\"-87.631\",\"lat4\":\"41.8665\",\"lon4\":\"-87.6325\"}') });</script></div>\n",
       " <!-- /row  -->\n",
       " </div>\n",
       " <!-- /PageFormat-Land -->\n",
       " <footer>\n",
       " <div class=\"sitemap-content row\" id=\"sitemap\">\n",
       " <div class=\"col-xs-12\">\n",
       " <div class=\"sitemap-columns\">\n",
       " <div class=\"sitemap-section\">\n",
       " <div class=\"panel-heading\">\n",
       " <a class=\"sitemap-section-heading\" href=\" http://www.nws.noaa.gov/climate/\">PAST WEATHER</a>\n",
       " <button class=\"menu-toggle pull-right\" data-target=\"#sitemap-1\" data-toggle=\"collapse\" type=\"button\">\n",
       " <span class=\"sr-only\">Toggle menu</span>\n",
       " <span class=\"icon-bar\"></span>\n",
       " <span class=\"icon-bar\"></span>\n",
       " <span class=\"icon-bar\"></span>\n",
       " </button>\n",
       " </div>\n",
       " <div class=\"sitemap-section-body panel-body collapsable collapse\" id=\"sitemap-1\">\n",
       " <ul class=\"list-unstyled\">\n",
       " <li><a href=\" http://www.cpc.ncep.noaa.gov/products/MD_index.shtml\">Climate Monitoring </a></li>\n",
       " <li><a href=\"https://w2.weather.gov/climate/\">Past Weather </a></li>\n",
       " <li><a href=\" http://www.nws.noaa.gov/climate/\">Monthly Temps </a></li>\n",
       " <li><a href=\" http://www.nws.noaa.gov/climate/\">Records </a></li>\n",
       " <li><a href=\" http://aa.usno.navy.mil/\">Astronomical Data </a></li>\n",
       " <li><a href=\"https://www.climate.gov/maps-data/dataset/past-weather-zip-code-data-table\">Certified Weather Data </a></li>\n",
       " </ul>\n",
       " </div>\n",
       " </div>\n",
       " <div class=\"sitemap-section\">\n",
       " <div class=\"panel-heading\">\n",
       " <a class=\"sitemap-section-heading\" href=\"http://alerts.weather.gov\">ACTIVE ALERTS</a>\n",
       " <button class=\"menu-toggle pull-right\" data-target=\"#sitemap-2\" data-toggle=\"collapse\" type=\"button\">\n",
       " <span class=\"sr-only\">Toggle menu</span>\n",
       " <span class=\"icon-bar\"></span>\n",
       " <span class=\"icon-bar\"></span>\n",
       " <span class=\"icon-bar\"></span>\n",
       " </button>\n",
       " </div>\n",
       " <div class=\"sitemap-section-body panel-body collapsable collapse\" id=\"sitemap-2\">\n",
       " <ul class=\"list-unstyled\">\n",
       " <li><a href=\" http://alerts.weather.gov\">Warnings By State</a></li>\n",
       " <li><a href=\" http://www.wpc.ncep.noaa.gov/ww.shtml\">Excessive Rainfall and Winter Weather Forecasts</a></li>\n",
       " <li><a href=\"http://water.weather.gov/ahps/?current_color=flood&amp;current_type=all&amp;fcst_type=obs&amp;conus_map=d_map\">River Flooding </a></li>\n",
       " <li><a href=\" http://www.weather.gov\">Latest Warnings</a></li>\n",
       " <li><a href=\" http://www.spc.noaa.gov/products/outlook/\">Thunderstorm/Tornado Outlook </a></li>\n",
       " <li><a href=\" http://www.nhc.noaa.gov/\">Hurricanes </a></li>\n",
       " <li><a href=\" http://www.spc.noaa.gov/products/fire_wx/\">Fire Weather Outlooks </a></li>\n",
       " <li><a href=\" http://www.cpc.ncep.noaa.gov/products/stratosphere/uv_index/uv_alert.shtml\">UV Alerts </a></li>\n",
       " <li><a href=\" http://www.drought.gov/\">Drought </a></li>\n",
       " <li><a href=\"http://www.swpc.noaa.gov/products/alerts-watches-and-warnings\">Space Weather </a></li>\n",
       " <li><a href=\" http://www.nws.noaa.gov/nwr/\">NOAA Weather Radio </a></li>\n",
       " <li><a href=\" http://alerts.weather.gov/\">NWS CAP Feeds </a></li>\n",
       " </ul>\n",
       " </div>\n",
       " </div>\n",
       " <div class=\"sitemap-section\">\n",
       " <div class=\"panel-heading\">\n",
       " <a class=\"sitemap-section-heading\" href=\"http://www.weather.gov/current\">CURRENT CONDITIONS</a>\n",
       " <button class=\"menu-toggle pull-right\" data-target=\"#sitemap-3\" data-toggle=\"collapse\" type=\"button\">\n",
       " <span class=\"sr-only\">Toggle menu</span>\n",
       " <span class=\"icon-bar\"></span>\n",
       " <span class=\"icon-bar\"></span>\n",
       " <span class=\"icon-bar\"></span>\n",
       " </button>\n",
       " </div>\n",
       " <div class=\"sitemap-section-body panel-body collapsable collapse\" id=\"sitemap-3\">\n",
       " <ul class=\"list-unstyled\">\n",
       " <li><a href=\" http://www.weather.gov/Radar\">Radar </a></li>\n",
       " <li><a href=\"http://www.cpc.ncep.noaa.gov/products/monitoring_and_data/\">Climate Monitoring </a></li>\n",
       " <li><a href=\" http://water.weather.gov/ahps/\">River Levels </a></li>\n",
       " <li><a href=\" http://water.weather.gov/precip/\">Observed Precipitation </a></li>\n",
       " <li><a href=\"https://www.wpc.ncep.noaa.gov/sfc/sfcobs/sfcobs.shtml\">Surface Weather </a></li>\n",
       " <li><a href=\"http://www.spc.noaa.gov/obswx/maps/\">Upper Air </a></li>\n",
       " <li><a href=\" http://www.ndbc.noaa.gov/\">Marine and Buoy Reports </a></li>\n",
       " <li><a href=\"http://www.nohrsc.noaa.gov/interactive/html/map.html\">Snow Cover </a></li>\n",
       " <li><a href=\" http://www.weather.gov/satellite\">Satellite </a></li>\n",
       " <li><a href=\" http://www.swpc.noaa.gov/\">Space Weather </a></li>\n",
       " <li><a href=\"http://www.weather.gov/pr\">International Observations</a></li>\n",
       " </ul>\n",
       " </div>\n",
       " </div>\n",
       " <div class=\"sitemap-section\">\n",
       " <div class=\"panel-heading\">\n",
       " <a class=\"sitemap-section-heading\" href=\"http://weather.gov/forecastmaps\">FORECAST</a>\n",
       " <button class=\"menu-toggle pull-right\" data-target=\"#sitemap-4\" data-toggle=\"collapse\" type=\"button\">\n",
       " <span class=\"sr-only\">Toggle menu</span>\n",
       " <span class=\"icon-bar\"></span>\n",
       " <span class=\"icon-bar\"></span>\n",
       " <span class=\"icon-bar\"></span>\n",
       " </button>\n",
       " </div>\n",
       " <div class=\"sitemap-section-body panel-body collapsable collapse\" id=\"sitemap-4\">\n",
       " <ul class=\"list-unstyled\">\n",
       " <li><a href=\" http://www.weather.gov/\">Local Forecast </a></li>\n",
       " <li><a href=\"http://www.weather.gov/pr\">International Forecasts</a></li>\n",
       " <li><a href=\" http://www.spc.noaa.gov/\">Severe Weather </a></li>\n",
       " <li><a href=\" http://www.wpc.ncep.noaa.gov/\">Current Outlook Maps </a></li>\n",
       " <li><a href=\"http://www.cpc.ncep.noaa.gov/products/Drought\">Drought </a></li>\n",
       " <li><a href=\"http://www.weather.gov/fire\">Fire Weather </a></li>\n",
       " <li><a href=\" http://www.wpc.ncep.noaa.gov/\">Fronts/Precipitation Maps </a></li>\n",
       " <li><a href=\" http://www.nws.noaa.gov/forecasts/graphical/\">Current Graphical Forecast Maps </a></li>\n",
       " <li><a href=\"http://water.weather.gov/ahps/forecasts.php\">Rivers </a></li>\n",
       " <li><a href=\" http://www.nws.noaa.gov/om/marine/home.htm\">Marine </a></li>\n",
       " <li><a href=\"http://www.opc.ncep.noaa.gov/marine_areas.php\">Offshore and High Seas</a></li>\n",
       " <li><a href=\" http://www.nhc.noaa.gov/\">Hurricanes </a></li>\n",
       " <li><a href=\" http://aviationweather.gov\">Aviation Weather </a></li>\n",
       " <li><a href=\"http://www.cpc.ncep.noaa.gov/products/OUTLOOKS_index.shtml\">Climatic Outlook </a></li>\n",
       " </ul>\n",
       " </div>\n",
       " </div>\n",
       " <div class=\"sitemap-section\">\n",
       " <div class=\"panel-heading\">\n",
       " <a class=\"sitemap-section-heading\" href=\"http://www.weather.gov/informationcenter\">INFORMATION CENTER</a>\n",
       " <button class=\"menu-toggle pull-right\" data-target=\"#sitemap-5\" data-toggle=\"collapse\" type=\"button\">\n",
       " <span class=\"sr-only\">Toggle menu</span>\n",
       " <span class=\"icon-bar\"></span>\n",
       " <span class=\"icon-bar\"></span>\n",
       " <span class=\"icon-bar\"></span>\n",
       " </button>\n",
       " </div>\n",
       " <div class=\"sitemap-section-body panel-body collapsable collapse\" id=\"sitemap-5\">\n",
       " <ul class=\"list-unstyled\">\n",
       " <li><a href=\" http://www.spaceweather.gov\">Space Weather </a></li>\n",
       " <li><a href=\"http://www.weather.gov/briefing/\">Daily Briefing </a></li>\n",
       " <li><a href=\" http://www.nws.noaa.gov/om/marine/home.htm\">Marine </a></li>\n",
       " <li><a href=\"http://www.nws.noaa.gov/climate\">Climate </a></li>\n",
       " <li><a href=\"http://www.weather.gov/fire\">Fire Weather </a></li>\n",
       " <li><a href=\" http://www.aviationweather.gov/\">Aviation </a></li>\n",
       " <li><a href=\"http://mag.ncep.noaa.gov/\">Forecast Models </a></li>\n",
       " <li><a href=\"http://water.weather.gov/ahps/\">Water </a></li>\n",
       " <li><a href=\"https://www.weather.gov/gis/\">GIS</a></li>\n",
       " <li><a href=\" http://www.nws.noaa.gov/om/coop/\">Cooperative Observers </a></li>\n",
       " <li><a href=\"https://www.weather.gov/skywarn/\">Storm Spotters </a></li>\n",
       " <li><a href=\"http://www.tsunami.gov\">Tsunami Warning System</a></li>\n",
       " <li><a href=\"http://water.noaa.gov/\">National Water Center</a></li>\n",
       " <li><a href=\"http://www.weather.gov/pr\">International Weather</a></li>\n",
       " </ul>\n",
       " </div>\n",
       " </div>\n",
       " <div class=\"sitemap-section\">\n",
       " <div class=\"panel-heading\">\n",
       " <a class=\"sitemap-section-heading\" href=\"http://weather.gov/safety\">WEATHER SAFETY</a>\n",
       " <button class=\"menu-toggle pull-right\" data-target=\"#sitemap-6\" data-toggle=\"collapse\" type=\"button\">\n",
       " <span class=\"sr-only\">Toggle menu</span>\n",
       " <span class=\"icon-bar\"></span>\n",
       " <span class=\"icon-bar\"></span>\n",
       " <span class=\"icon-bar\"></span>\n",
       " </button>\n",
       " </div>\n",
       " <div class=\"sitemap-section-body panel-body collapsable collapse\" id=\"sitemap-6\">\n",
       " <ul class=\"list-unstyled\">\n",
       " <li><a href=\"http://www.weather.gov/nwr/\">NOAA Weather Radio</a></li>\n",
       " <li><a href=\"http://www.weather.gov/stormready/\">StormReady</a></li>\n",
       " <li><a href=\"http://www.nws.noaa.gov/om/heat/index.shtml\">Heat </a></li>\n",
       " <li><a href=\"https://www.weather.gov/safety/lightning\">Lightning </a></li>\n",
       " <li><a href=\" http://www.nhc.noaa.gov/prepare/\">Hurricanes </a></li>\n",
       " <li><a href=\"http://www.nws.noaa.gov/om/thunderstorm/\">Thunderstorms </a></li>\n",
       " <li><a href=\"https://www.weather.gov/safety/tornado\">Tornadoes </a></li>\n",
       " <li><a href=\"https://www.weather.gov/safety/ripcurrent\">Rip Currents </a></li>\n",
       " <li><a href=\"https://www.weather.gov/safety/flood\">Floods </a></li>\n",
       " <li><a href=\"https://www.weather.gov/safety/tsunami\">Tsunamis</a></li>\n",
       " <li><a href=\"https://www.weather.gov/tsunamiready/\">TsunamiReady</a></li>\n",
       " <li><a href=\" http://www.weather.gov/om/winter/index.shtml\">Winter Weather </a></li>\n",
       " <li><a href=\"http://www.nws.noaa.gov/om/heat/uv.shtml\">Ultra Violet Radiation </a></li>\n",
       " <li><a href=\" http://www.weather.gov/airquality/\">Air Quality </a></li>\n",
       " <li><a href=\" http://www.weather.gov/om/hazstats.shtml\">Damage/Fatality/Injury Statistics </a></li>\n",
       " <li><a href=\" http://www.redcross.org/\">Red Cross </a></li>\n",
       " <li><a href=\" http://www.fema.gov/\">Federal Emergency Management Agency (FEMA) </a></li>\n",
       " <li><a href=\" http://www.weather.gov/om/brochures.shtml\">Brochures </a></li>\n",
       " <li><a href=\"http://www.nws.noaa.gov/os/marine/safeboating/\">Safe Boating</a></li>\n",
       " </ul>\n",
       " </div>\n",
       " </div>\n",
       " <div class=\"sitemap-section\">\n",
       " <div class=\"panel-heading\">\n",
       " <a class=\"sitemap-section-heading\" href=\"http://weather.gov/news\">NEWS</a>\n",
       " <button class=\"menu-toggle pull-right\" data-target=\"#sitemap-7\" data-toggle=\"collapse\" type=\"button\">\n",
       " <span class=\"sr-only\">Toggle menu</span>\n",
       " <span class=\"icon-bar\"></span>\n",
       " <span class=\"icon-bar\"></span>\n",
       " <span class=\"icon-bar\"></span>\n",
       " </button>\n",
       " </div>\n",
       " <div class=\"sitemap-section-body panel-body collapsable collapse\" id=\"sitemap-7\">\n",
       " <ul class=\"list-unstyled\">\n",
       " <li><a href=\" http://weather.gov/news\">Newsroom</a></li>\n",
       " <li><a href=\" http://weather.gov/socialmedia\">Social Media </a></li>\n",
       " <li><a href=\"http://www.nws.noaa.gov/com/weatherreadynation/calendar.html\">Events</a></li>\n",
       " <li><a href=\" http://www.weather.gov/om/brochures.shtml\">Pubs/Brochures/Booklets </a></li>\n",
       " </ul>\n",
       " </div>\n",
       " </div>\n",
       " <div class=\"sitemap-section\">\n",
       " <div class=\"panel-heading\">\n",
       " <a class=\"sitemap-section-heading\" href=\"http://weather.gov/owlie\">EDUCATION</a>\n",
       " <button class=\"menu-toggle pull-right\" data-target=\"#sitemap-8\" data-toggle=\"collapse\" type=\"button\">\n",
       " <span class=\"sr-only\">Toggle menu</span>\n",
       " <span class=\"icon-bar\"></span>\n",
       " <span class=\"icon-bar\"></span>\n",
       " <span class=\"icon-bar\"></span>\n",
       " </button>\n",
       " </div>\n",
       " <div class=\"sitemap-section-body panel-body collapsable collapse\" id=\"sitemap-8\">\n",
       " <ul class=\"list-unstyled\">\n",
       " <li><a href=\"http://weather.gov/owlie\">NWS Education Home</a></li>\n",
       " <li><a href=\"http://www.nws.noaa.gov/com/weatherreadynation/force.html\">Be A Force of Nature</a></li>\n",
       " <li><a href=\" http://www.education.noaa.gov/Weather_and_Atmosphere/\">NOAA Education Resources </a></li>\n",
       " <li><a href=\" http://www.weather.gov/glossary/\">Glossary </a></li>\n",
       " <li><a href=\"https://www.weather.gov/jetstream/\">JetStream </a></li>\n",
       " <li><a href=\" http://www.weather.gov/training/\">NWS Training Portal </a></li>\n",
       " <li><a href=\"https://library.noaa.gov/\">NOAA Library </a></li>\n",
       " <li><a href=\"http://weather.gov/owlie\">For Students, Parents and Teachers</a></li>\n",
       " <li><a href=\"http://www.weather.gov/owlie/publication_brochures\">Brochures </a></li>\n",
       " </ul>\n",
       " </div>\n",
       " </div>\n",
       " <div class=\"sitemap-section\">\n",
       " <div class=\"panel-heading\">\n",
       " <a class=\"sitemap-section-heading\" href=\"http://weather.gov/about\">ABOUT</a>\n",
       " <button class=\"menu-toggle pull-right\" data-target=\"#sitemap-9\" data-toggle=\"collapse\" type=\"button\">\n",
       " <span class=\"sr-only\">Toggle menu</span>\n",
       " <span class=\"icon-bar\"></span>\n",
       " <span class=\"icon-bar\"></span>\n",
       " <span class=\"icon-bar\"></span>\n",
       " </button>\n",
       " </div>\n",
       " <div class=\"sitemap-section-body panel-body collapsable collapse\" id=\"sitemap-9\">\n",
       " <ul class=\"list-unstyled\">\n",
       " <li><a href=\"http://weather.gov/organization\">Organization </a></li>\n",
       " <li><a href=\"https://www.weather.gov/media/wrn/NWS_Weather-Ready-Nation_Strategic_Plan_2019-2022.pdf\">Strategic Plan </a></li>\n",
       " <li><a href=\"https://sites.google.com/a/noaa.gov/nws-best-practices/\">For NWS Employees </a></li>\n",
       " <li><a href=\"https://www.weather.gov/international/\">International </a></li>\n",
       " <li><a href=\"http://www.ncep.noaa.gov/\">National Centers </a></li>\n",
       " <li><a href=\" http://www.weather.gov/tg/\">Products and Services </a></li>\n",
       " <li><a href=\"http://www.weather.gov/careers/\">Careers</a></li>\n",
       " <li><a href=\" http://www.weather.gov/glossary/\">Glossary </a></li>\n",
       " <li><a href=\"http://weather.gov/contact\">Contact Us </a></li>\n",
       " </ul>\n",
       " </div>\n",
       " </div>\n",
       " </div>\n",
       " </div>\n",
       " </div>\n",
       " <!-- legal footer area -->\n",
       " <div class=\"footer-legal\">\n",
       " <div class=\"col-xs-12 col-sm-2 col-md-2\" id=\"footerLogo\">\n",
       " <a href=\"http://www.usa.gov\"><img alt=\"usa.gov\" height=\"30\" src=\"/css/images/usa_gov.png\" width=\"110\"/></a>\n",
       " </div>\n",
       " <div class=\"col-xs-12 col-sm-4 col-md-4\">\n",
       " <ul class=\"list-unstyled footer-legal-content\">\n",
       " <li><a href=\"http://www.commerce.gov\">US Dept of Commerce</a></li>\n",
       " <li><a href=\"http://www.noaa.gov\">National Oceanic and Atmospheric Administration</a></li>\n",
       " <li><a href=\"http://www.weather.gov\">National Weather Service</a></li>\n",
       " <li><a href=\"https://www.weather.gov/lot\">Chicago, IL</a></li><li><br/><a href=\"mailto:w-lot.webmaster@noaa.gov\">Comments? Questions? Please Contact Us.</a></li> </ul>\n",
       " </div>\n",
       " <div class=\"col-xs-12 col-sm-3 col-md-3\">\n",
       " <ul class=\"list-unstyled\">\n",
       " <li><a href=\"https://www.weather.gov/disclaimer\">Disclaimer</a></li>\n",
       " <li><a href=\"http://www.cio.noaa.gov/services_programs/info_quality.html\">Information Quality</a></li>\n",
       " <li><a href=\"https://www.weather.gov/help\">Help</a></li>\n",
       " <li><a href=\"http://www.weather.gov/glossary\">Glossary</a></li>\n",
       " </ul>\n",
       " </div>\n",
       " <div class=\"col-xs-12 col-sm-3 col-md-3\">\n",
       " <ul class=\"list-unstyled\">\n",
       " <li><a href=\"https://www.weather.gov/privacy\">Privacy Policy</a></li>\n",
       " <li><a href=\"http://www.rdc.noaa.gov/~foia\">Freedom of Information Act (FOIA)</a></li>\n",
       " <li><a href=\"https://www.weather.gov/about\">About Us</a></li>\n",
       " <li><a href=\"https://www.weather.gov/careers\">Career Opportunities</a></li>\n",
       " </ul>\n",
       " </div>\n",
       " </div>\n",
       " </footer>\n",
       " </main>\n",
       " </body>\n",
       " </html>, '\\n']"
      ]
     },
     "execution_count": 27,
     "metadata": {},
     "output_type": "execute_result"
    }
   ],
   "source": [
    "from bs4 import BeautifulSoup\n",
    "soup = BeautifulSoup(request.content)\n",
    "list(soup.children)"
   ]
  },
  {
   "cell_type": "code",
   "execution_count": 5,
   "metadata": {},
   "outputs": [
    {
     "name": "stdout",
     "output_type": "stream",
     "text": [
      "<!DOCTYPE html>\n",
      "<html>\n",
      " <head>\n",
      "  <title>\n",
      "   A simple example page\n",
      "  </title>\n",
      " </head>\n",
      " <body>\n",
      "  <p>\n",
      "   Here is some simple content for this page.\n",
      "  </p>\n",
      " </body>\n",
      "</html>\n"
     ]
    }
   ],
   "source": [
    "print(soup.prettify())\n"
   ]
  },
  {
   "cell_type": "markdown",
   "metadata": {},
   "source": [
    "As all the tags are nested, we can move through the structure one level at a time. We can first select all the elements at the top level of the page using the `children` property of `soup`."
   ]
  },
  {
   "cell_type": "code",
   "execution_count": 6,
   "metadata": {},
   "outputs": [
    {
     "data": {
      "text/plain": [
       "['html', <html>\n",
       " <head>\n",
       " <title>A simple example page</title>\n",
       " </head>\n",
       " <body>\n",
       " <p>Here is some simple content for this page.</p>\n",
       " </body>\n",
       " </html>]"
      ]
     },
     "execution_count": 6,
     "metadata": {},
     "output_type": "execute_result"
    }
   ],
   "source": [
    "list(soup.children)\n"
   ]
  },
  {
   "cell_type": "markdown",
   "metadata": {},
   "source": [
    "The above tells us that there are two tags at the top level of the page — the initial `<!DOCTYPE html>` tag, and the `<html>` tag. There is a newline character `(\\n)` in the list as well. Let’s see what the type of each element in the list is:"
   ]
  },
  {
   "cell_type": "code",
   "execution_count": 7,
   "metadata": {},
   "outputs": [
    {
     "data": {
      "text/plain": [
       "[bs4.element.Doctype, bs4.element.Tag]"
      ]
     },
     "execution_count": 7,
     "metadata": {},
     "output_type": "execute_result"
    }
   ],
   "source": [
    "[type(item) for item in list(soup.children)]\n"
   ]
  },
  {
   "cell_type": "markdown",
   "metadata": {},
   "source": [
    "The `Tag` object allows us to navigate through an HTML document, and extract other tags and text. You can learn more about the various `BeautifulSoup` objects [here](https://www.crummy.com/software/BeautifulSoup/bs4/doc/#kinds-of-objects).\n",
    "\n",
    "We can now select the html tag and its children by taking the second item in the list:\n",
    "\n"
   ]
  },
  {
   "cell_type": "code",
   "execution_count": 8,
   "metadata": {},
   "outputs": [],
   "source": [
    "html = list(soup.children)[1]\n"
   ]
  },
  {
   "cell_type": "markdown",
   "metadata": {},
   "source": [
    "Each item in the list returned by the `children` property is also a `BeautifulSoup` object, so we can also call the `children` method on `html`.\n",
    "\n",
    "Now, we can find the `children` inside the `html` tag:"
   ]
  },
  {
   "cell_type": "code",
   "execution_count": 9,
   "metadata": {},
   "outputs": [
    {
     "data": {
      "text/plain": [
       "['\\n', <head>\n",
       " <title>A simple example page</title>\n",
       " </head>, '\\n', <body>\n",
       " <p>Here is some simple content for this page.</p>\n",
       " </body>, '\\n']"
      ]
     },
     "execution_count": 9,
     "metadata": {},
     "output_type": "execute_result"
    }
   ],
   "source": [
    "list(html.children)\n"
   ]
  },
  {
   "cell_type": "markdown",
   "metadata": {},
   "source": [
    "As you can see above, there are two tags here, `head`, and `body`. We want to extract the text inside the `p` tag, so we’ll dive into the body:"
   ]
  },
  {
   "cell_type": "code",
   "execution_count": 10,
   "metadata": {},
   "outputs": [],
   "source": [
    "body = list(html.children)[3]\n"
   ]
  },
  {
   "cell_type": "markdown",
   "metadata": {},
   "source": [
    "We can now isolate the `p` tag:\n",
    "\n"
   ]
  },
  {
   "cell_type": "code",
   "execution_count": 11,
   "metadata": {},
   "outputs": [],
   "source": [
    "p = list(body.children)[1]\n"
   ]
  },
  {
   "cell_type": "markdown",
   "metadata": {},
   "source": [
    "Once we’ve isolated the tag, we can use the `get_text` method to extract all of the text inside the tag:"
   ]
  },
  {
   "cell_type": "code",
   "execution_count": 12,
   "metadata": {},
   "outputs": [
    {
     "data": {
      "text/plain": [
       "'Here is some simple content for this page.'"
      ]
     },
     "execution_count": 12,
     "metadata": {},
     "output_type": "execute_result"
    }
   ],
   "source": [
    "p.get_text()\n"
   ]
  },
  {
   "cell_type": "markdown",
   "metadata": {},
   "source": [
    "### Finding all instances of a tag at once\n",
    "\n",
    "If we want to extract a single tag, we can instead use the find_all method, which will find all the instances of a tag on a page."
   ]
  },
  {
   "cell_type": "code",
   "execution_count": 14,
   "metadata": {},
   "outputs": [
    {
     "ename": "TypeError",
     "evalue": "object of type 'NoneType' has no len()",
     "output_type": "error",
     "traceback": [
      "\u001b[0;31m---------------------------------------------------------------------------\u001b[0m",
      "\u001b[0;31mTypeError\u001b[0m                                 Traceback (most recent call last)",
      "\u001b[0;32m<ipython-input-14-7d62886c84f7>\u001b[0m in \u001b[0;36m<module>\u001b[0;34m\u001b[0m\n\u001b[0;32m----> 1\u001b[0;31m \u001b[0msoup\u001b[0m \u001b[0;34m=\u001b[0m \u001b[0mBeautifulSoup\u001b[0m\u001b[0;34m(\u001b[0m\u001b[0mp\u001b[0m\u001b[0;34m.\u001b[0m\u001b[0mcontent\u001b[0m\u001b[0;34m)\u001b[0m\u001b[0;34m\u001b[0m\u001b[0;34m\u001b[0m\u001b[0m\n\u001b[0m\u001b[1;32m      2\u001b[0m \u001b[0msoup\u001b[0m\u001b[0;34m.\u001b[0m\u001b[0mfind_all\u001b[0m\u001b[0;34m(\u001b[0m\u001b[0;34m'p'\u001b[0m\u001b[0;34m)\u001b[0m\u001b[0;34m\u001b[0m\u001b[0;34m\u001b[0m\u001b[0m\n",
      "\u001b[0;32m/opt/anaconda3/envs/learn-env/lib/python3.6/site-packages/bs4/__init__.py\u001b[0m in \u001b[0;36m__init__\u001b[0;34m(self, markup, features, builder, parse_only, from_encoding, exclude_encodings, **kwargs)\u001b[0m\n\u001b[1;32m    265\u001b[0m         \u001b[0;32mif\u001b[0m \u001b[0mhasattr\u001b[0m\u001b[0;34m(\u001b[0m\u001b[0mmarkup\u001b[0m\u001b[0;34m,\u001b[0m \u001b[0;34m'read'\u001b[0m\u001b[0;34m)\u001b[0m\u001b[0;34m:\u001b[0m        \u001b[0;31m# It's a file-type object.\u001b[0m\u001b[0;34m\u001b[0m\u001b[0;34m\u001b[0m\u001b[0m\n\u001b[1;32m    266\u001b[0m             \u001b[0mmarkup\u001b[0m \u001b[0;34m=\u001b[0m \u001b[0mmarkup\u001b[0m\u001b[0;34m.\u001b[0m\u001b[0mread\u001b[0m\u001b[0;34m(\u001b[0m\u001b[0;34m)\u001b[0m\u001b[0;34m\u001b[0m\u001b[0;34m\u001b[0m\u001b[0m\n\u001b[0;32m--> 267\u001b[0;31m         elif len(markup) <= 256 and (\n\u001b[0m\u001b[1;32m    268\u001b[0m                 \u001b[0;34m(\u001b[0m\u001b[0misinstance\u001b[0m\u001b[0;34m(\u001b[0m\u001b[0mmarkup\u001b[0m\u001b[0;34m,\u001b[0m \u001b[0mbytes\u001b[0m\u001b[0;34m)\u001b[0m \u001b[0;32mand\u001b[0m \u001b[0;32mnot\u001b[0m \u001b[0;34mb'<'\u001b[0m \u001b[0;32min\u001b[0m \u001b[0mmarkup\u001b[0m\u001b[0;34m)\u001b[0m\u001b[0;34m\u001b[0m\u001b[0;34m\u001b[0m\u001b[0m\n\u001b[1;32m    269\u001b[0m                 \u001b[0;32mor\u001b[0m \u001b[0;34m(\u001b[0m\u001b[0misinstance\u001b[0m\u001b[0;34m(\u001b[0m\u001b[0mmarkup\u001b[0m\u001b[0;34m,\u001b[0m \u001b[0mstr\u001b[0m\u001b[0;34m)\u001b[0m \u001b[0;32mand\u001b[0m \u001b[0;32mnot\u001b[0m \u001b[0;34m'<'\u001b[0m \u001b[0;32min\u001b[0m \u001b[0mmarkup\u001b[0m\u001b[0;34m)\u001b[0m\u001b[0;34m\u001b[0m\u001b[0;34m\u001b[0m\u001b[0m\n",
      "\u001b[0;31mTypeError\u001b[0m: object of type 'NoneType' has no len()"
     ]
    }
   ],
   "source": [
    "soup = BeautifulSoup(p.content)\n",
    "soup.find_all('p')\n"
   ]
  },
  {
   "cell_type": "markdown",
   "metadata": {},
   "source": [
    "Note that `find_all` returns a list, so we’ll have to loop through, or use list indexing, it to extract text:"
   ]
  },
  {
   "cell_type": "code",
   "execution_count": 462,
   "metadata": {},
   "outputs": [
    {
     "data": {
      "text/plain": [
       "'\\n                First paragraph.\\n            '"
      ]
     },
     "execution_count": 462,
     "metadata": {},
     "output_type": "execute_result"
    }
   ],
   "source": [
    "soup.find_all('p')[0].get_text()\n"
   ]
  },
  {
   "cell_type": "markdown",
   "metadata": {},
   "source": [
    "If you instead only want to find the first instance of a tag, you can use the `find` method, which will return a single `BeautifulSoup` object:"
   ]
  },
  {
   "cell_type": "code",
   "execution_count": 234,
   "metadata": {},
   "outputs": [
    {
     "data": {
      "text/plain": [
       "<p>Here is some simple content for this page.</p>"
      ]
     },
     "execution_count": 234,
     "metadata": {},
     "output_type": "execute_result"
    }
   ],
   "source": [
    "soup.find('p')\n"
   ]
  },
  {
   "cell_type": "markdown",
   "metadata": {},
   "source": [
    "### Searching for tags by class and id\n",
    "\n",
    "\n",
    "We introduced classes and ids earlier, but it probably wasn’t clear why they were useful. Classes and ids are used by CSS to determine which HTML elements to apply certain styles to. We can also use them when scraping to specify specific elements we want to scrape. Let's look at the following page:\n",
    "\n",
    "~~~\n",
    "<html>\n",
    "    <head>\n",
    "        <title>A simple example page</title>\n",
    "    </head>\n",
    "    <body>\n",
    "        <div>\n",
    "            <p class=\"inner-text first-item\" id=\"first\">\n",
    "                First paragraph.\n",
    "            </p>\n",
    "            <p class=\"inner-text\">\n",
    "                Second paragraph.\n",
    "            </p>\n",
    "        </div>\n",
    "        <p class=\"outer-text first-item\" id=\"second\">\n",
    "            <b>\n",
    "                First outer paragraph.\n",
    "            </b>\n",
    "        </p>\n",
    "        <p class=\"outer-text\">\n",
    "            <b>\n",
    "                Second outer paragraph.\n",
    "            </b>\n",
    "        </p>\n",
    "    </body>\n",
    "</html>\n",
    "~~~"
   ]
  },
  {
   "cell_type": "code",
   "execution_count": 15,
   "metadata": {},
   "outputs": [
    {
     "data": {
      "text/plain": [
       "<html>\n",
       "<head>\n",
       "<title>A simple example page</title>\n",
       "</head>\n",
       "<body>\n",
       "<div>\n",
       "<p class=\"inner-text first-item\" id=\"first\">\n",
       "                First paragraph.\n",
       "            </p>\n",
       "<p class=\"inner-text\">\n",
       "                Second paragraph.\n",
       "            </p>\n",
       "</div>\n",
       "<p class=\"outer-text first-item\" id=\"second\">\n",
       "<b>\n",
       "                First outer paragraph.\n",
       "            </b>\n",
       "</p>\n",
       "<p class=\"outer-text\">\n",
       "<b>\n",
       "                Second outer paragraph.\n",
       "            </b>\n",
       "</p>\n",
       "</body>\n",
       "</html>"
      ]
     },
     "execution_count": 15,
     "metadata": {},
     "output_type": "execute_result"
    }
   ],
   "source": [
    "page = requests.get(\"http://dataquestio.github.io/web-scraping-pages/ids_and_classes.html\")\n",
    "soup = BeautifulSoup(page.content)\n",
    "soup"
   ]
  },
  {
   "cell_type": "markdown",
   "metadata": {},
   "source": [
    "Now, we can use the `find_all` method to search for items by class or by id. In the below example, we’ll search for any `p` tag that has the class `outer-text`:"
   ]
  },
  {
   "cell_type": "code",
   "execution_count": 16,
   "metadata": {},
   "outputs": [
    {
     "data": {
      "text/plain": [
       "[<p class=\"outer-text first-item\" id=\"second\">\n",
       " <b>\n",
       "                 First outer paragraph.\n",
       "             </b>\n",
       " </p>, <p class=\"outer-text\">\n",
       " <b>\n",
       "                 Second outer paragraph.\n",
       "             </b>\n",
       " </p>]"
      ]
     },
     "execution_count": 16,
     "metadata": {},
     "output_type": "execute_result"
    }
   ],
   "source": [
    "soup.find_all('p', class_='outer-text')\n"
   ]
  },
  {
   "cell_type": "markdown",
   "metadata": {},
   "source": [
    "In the below example, we’ll look for any tag that has the class `outer-text`:\n",
    "\n"
   ]
  },
  {
   "cell_type": "code",
   "execution_count": 17,
   "metadata": {},
   "outputs": [
    {
     "data": {
      "text/plain": [
       "[<p class=\"outer-text first-item\" id=\"second\">\n",
       " <b>\n",
       "                 First outer paragraph.\n",
       "             </b>\n",
       " </p>, <p class=\"outer-text\">\n",
       " <b>\n",
       "                 Second outer paragraph.\n",
       "             </b>\n",
       " </p>]"
      ]
     },
     "execution_count": 17,
     "metadata": {},
     "output_type": "execute_result"
    }
   ],
   "source": [
    "soup.find_all(class_=\"outer-text\")\n"
   ]
  },
  {
   "cell_type": "markdown",
   "metadata": {},
   "source": [
    "We can also search for elements by `id`:\n"
   ]
  },
  {
   "cell_type": "code",
   "execution_count": 18,
   "metadata": {},
   "outputs": [
    {
     "data": {
      "text/plain": [
       "[<p class=\"inner-text first-item\" id=\"first\">\n",
       "                 First paragraph.\n",
       "             </p>]"
      ]
     },
     "execution_count": 18,
     "metadata": {},
     "output_type": "execute_result"
    }
   ],
   "source": [
    "soup.find_all(id=\"first\")"
   ]
  },
  {
   "cell_type": "markdown",
   "metadata": {},
   "source": [
    "### Using CSS Selectors\n",
    "\n",
    "\n",
    "You can also search for items using CSS selectors. These selectors are how the CSS language allows developers to specify HTML tags to style. Here are some examples:\n",
    "\n",
    "- *p a* — finds all a tags inside of a p tag.\n",
    "- *body p a* — finds all a tags inside of a p tag inside of a body tag.\n",
    "- *html body* — finds all body tags inside of an html tag.\n",
    "- *p.outer-text* — finds all p tags with a class of outer-text.\n",
    "- *p#first* — finds all p tags with an id of first.\n",
    "- *body p.outer-text* — finds any p tags with a class of outer-text inside of a body tag."
   ]
  },
  {
   "cell_type": "markdown",
   "metadata": {},
   "source": [
    "`BeautifulSoup` objects support searching a page via CSS selectors using the `select` method. We can use CSS selectors to find all the `p` tags in our page that are inside of a `div` like this:"
   ]
  },
  {
   "cell_type": "code",
   "execution_count": 19,
   "metadata": {},
   "outputs": [
    {
     "data": {
      "text/plain": [
       "[<div>\n",
       " <p class=\"inner-text first-item\" id=\"first\">\n",
       "                 First paragraph.\n",
       "             </p>\n",
       " <p class=\"inner-text\">\n",
       "                 Second paragraph.\n",
       "             </p>\n",
       " </div>]"
      ]
     },
     "execution_count": 19,
     "metadata": {},
     "output_type": "execute_result"
    }
   ],
   "source": [
    "soup.select(\"div\")\n"
   ]
  },
  {
   "cell_type": "markdown",
   "metadata": {},
   "source": [
    "Note that the `select` method above returns a list of `BeautifulSoup` objects, just like `find` and `find_all`."
   ]
  },
  {
   "cell_type": "markdown",
   "metadata": {},
   "source": [
    "## Your Turn: Downloading weather data\n"
   ]
  },
  {
   "cell_type": "markdown",
   "metadata": {},
   "source": [
    "We now know enough to proceed with extracting information about the local weather from the National Weather Service website. The first step is to find the page we want to scrape. We’ll extract weather information about Chicago from this [page](https://forecast.weather.gov/MapClick.php?lat=41.8843&lon=-87.6324#.XdPlJUVKg6g)."
   ]
  },
  {
   "cell_type": "markdown",
   "metadata": {},
   "source": [
    "We can then scroll up in the elements panel to find the “outermost” element that contains all of the text that corresponds to the extended forecasts. In this case, it’s a `div` tag with the id `seven-day-forecast`:"
   ]
  },
  {
   "cell_type": "markdown",
   "metadata": {},
   "source": [
    "We now know enough to download the page and start parsing it. Below let's implement the following:\n",
    "\n",
    "1. Download the web page containing the forecast.\n",
    "2. Create a `BeautifulSoup` class to parse the page.\n",
    "3. Find the `div` with id `seven-day-forecast`, and assign to `seven_day`\n",
    "4. Inside `seven_day`, find each individual forecast item.\n",
    "5. Extract and print the first forecast item."
   ]
  },
  {
   "cell_type": "code",
   "execution_count": 37,
   "metadata": {},
   "outputs": [
    {
     "ename": "AttributeError",
     "evalue": "'list' object has no attribute 'find_all'",
     "output_type": "error",
     "traceback": [
      "\u001b[0;31m---------------------------------------------------------------------------\u001b[0m",
      "\u001b[0;31mAttributeError\u001b[0m                            Traceback (most recent call last)",
      "\u001b[0;32m<ipython-input-37-daab5f5fe234>\u001b[0m in \u001b[0;36m<module>\u001b[0;34m\u001b[0m\n\u001b[1;32m      5\u001b[0m \u001b[0;34m\u001b[0m\u001b[0m\n\u001b[1;32m      6\u001b[0m \u001b[0mseven_day\u001b[0m \u001b[0;34m=\u001b[0m \u001b[0msoup\u001b[0m\u001b[0;34m.\u001b[0m\u001b[0mselect\u001b[0m\u001b[0;34m(\u001b[0m\u001b[0;34m'div#seven-day-forecast'\u001b[0m\u001b[0;34m)\u001b[0m\u001b[0;34m\u001b[0m\u001b[0;34m\u001b[0m\u001b[0m\n\u001b[0;32m----> 7\u001b[0;31m \u001b[0mforecasts\u001b[0m \u001b[0;34m=\u001b[0m \u001b[0mseven_day\u001b[0m\u001b[0;34m.\u001b[0m\u001b[0mfind_all\u001b[0m\u001b[0;34m(\u001b[0m\u001b[0mclass_\u001b[0m\u001b[0;34m=\u001b[0m\u001b[0;34m'tombstone_containter'\u001b[0m\u001b[0;34m)\u001b[0m\u001b[0;34m\u001b[0m\u001b[0;34m\u001b[0m\u001b[0m\n\u001b[0m\u001b[1;32m      8\u001b[0m \u001b[0mforecasts\u001b[0m\u001b[0;34m[\u001b[0m\u001b[0;36m0\u001b[0m\u001b[0;34m]\u001b[0m\u001b[0;34m.\u001b[0m\u001b[0mfind\u001b[0m\u001b[0;34m(\u001b[0m\u001b[0mclass_\u001b[0m\u001b[0;34m=\u001b[0m\u001b[0;34m'period-name'\u001b[0m\u001b[0;34m)\u001b[0m\u001b[0;34m.\u001b[0m\u001b[0mget_text\u001b[0m\u001b[0;34m(\u001b[0m\u001b[0;34m)\u001b[0m\u001b[0;34m\u001b[0m\u001b[0;34m\u001b[0m\u001b[0m\n",
      "\u001b[0;31mAttributeError\u001b[0m: 'list' object has no attribute 'find_all'"
     ]
    }
   ],
   "source": [
    "#your code here\n",
    "url = 'https://forecast.weather.gov/MapClick.php?lat=41.8843&lon=-87.6324#.XdPlJUVKg6g'\n",
    "request = requests.get(url)\n",
    "soup = BeautifulSoup(request.content)\n",
    "\n",
    "seven_day = soup.select('div#seven-day-forecast')\n",
    "forecasts = seven_day.find_all(class_='tombstone_containter')\n",
    "forecasts[0].find(class_='period-name').get_text()"
   ]
  },
  {
   "cell_type": "markdown",
   "metadata": {},
   "source": [
    "### Extracting information from the page\n",
    "Let's look at `today`<br>\n",
    "There are `4` pieces of information we can extract:\n",
    "\n",
    "- The name of the forecast item — in this case, **Today**.\n",
    "- The description of the conditions — this is stored in the `title` property of `img`.\n",
    "- A short description of the conditions — in this case, **Chance rain**.\n",
    "- The temperature high — in this case, **39 degrees**.\n",
    "\n",
    "We’ll extract the name of the forecast item, the short description, and the temperature first, since they’re all similar:"
   ]
  },
  {
   "cell_type": "markdown",
   "metadata": {},
   "source": [
    "Now, we can extract the `title` attribute from the `img` tag. To do this, we just treat the `BeautifulSoup` object like a dictionary, and pass in the attribute we want as a key:"
   ]
  },
  {
   "cell_type": "code",
   "execution_count": 38,
   "metadata": {},
   "outputs": [
    {
     "ename": "IndexError",
     "evalue": "list index out of range",
     "output_type": "error",
     "traceback": [
      "\u001b[0;31m---------------------------------------------------------------------------\u001b[0m",
      "\u001b[0;31mIndexError\u001b[0m                                Traceback (most recent call last)",
      "\u001b[0;32m<ipython-input-38-081ed34e0d44>\u001b[0m in \u001b[0;36m<module>\u001b[0;34m\u001b[0m\n\u001b[1;32m      1\u001b[0m \u001b[0;31m# your code here\u001b[0m\u001b[0;34m\u001b[0m\u001b[0;34m\u001b[0m\u001b[0;34m\u001b[0m\u001b[0m\n\u001b[1;32m      2\u001b[0m \u001b[0;34m\u001b[0m\u001b[0m\n\u001b[0;32m----> 3\u001b[0;31m \u001b[0mforecasts\u001b[0m\u001b[0;34m[\u001b[0m\u001b[0;36m0\u001b[0m\u001b[0;34m]\u001b[0m\u001b[0;34m.\u001b[0m\u001b[0mfindAll\u001b[0m\u001b[0;34m(\u001b[0m\u001b[0;34m'img'\u001b[0m\u001b[0;34m)\u001b[0m\u001b[0;34m[\u001b[0m\u001b[0;34m'title'\u001b[0m\u001b[0;34m]\u001b[0m\u001b[0;34m\u001b[0m\u001b[0;34m\u001b[0m\u001b[0m\n\u001b[0m\u001b[1;32m      4\u001b[0m \u001b[0mtitles\u001b[0m \u001b[0;34m=\u001b[0m \u001b[0;34m[\u001b[0m\u001b[0mforecast\u001b[0m\u001b[0;34m.\u001b[0m\u001b[0mfindAll\u001b[0m\u001b[0;34m(\u001b[0m\u001b[0;34m'img'\u001b[0m\u001b[0;34m)\u001b[0m\u001b[0;34m[\u001b[0m\u001b[0;34m'title'\u001b[0m\u001b[0;34m]\u001b[0m \u001b[0;32mfor\u001b[0m \u001b[0mforecast\u001b[0m \u001b[0;32min\u001b[0m \u001b[0mforecasts\u001b[0m\u001b[0;34m]\u001b[0m\u001b[0;34m\u001b[0m\u001b[0;34m\u001b[0m\u001b[0m\n\u001b[1;32m      5\u001b[0m \u001b[0mforecasts\u001b[0m\u001b[0;34m[\u001b[0m\u001b[0;36m0\u001b[0m\u001b[0;34m]\u001b[0m\u001b[0;34m\u001b[0m\u001b[0;34m\u001b[0m\u001b[0m\n",
      "\u001b[0;31mIndexError\u001b[0m: list index out of range"
     ]
    }
   ],
   "source": [
    "# your code here\n",
    "\n",
    "forecasts[0].findAll('img')['title']\n",
    "titles = [forecast.findAll('img')['title'] for forecast in forecasts]\n",
    "forecasts[0]"
   ]
  },
  {
   "cell_type": "markdown",
   "metadata": {},
   "source": [
    "### Extracting all the information from the page\n",
    "Now that we know how to extract each individual piece of information, we can combine our knowledge with css selectors and list comprehensions to extract everything at once.\n",
    "\n",
    "In the below code, we:\n",
    "\n",
    "- Select all items with the class period-name inside an item with the class tombstone-container in seven_day.\n",
    "- Use a list comprehension to call the get_text method on each BeautifulSoup object."
   ]
  },
  {
   "cell_type": "code",
   "execution_count": 382,
   "metadata": {},
   "outputs": [],
   "source": [
    "# your code here"
   ]
  },
  {
   "cell_type": "markdown",
   "metadata": {},
   "source": [
    "As you can see above, our technique gets us each of the period names, in order. Now you can apply the same technique to get the other 3 fields:"
   ]
  },
  {
   "cell_type": "code",
   "execution_count": 433,
   "metadata": {},
   "outputs": [
    {
     "name": "stdout",
     "output_type": "stream",
     "text": [
      "None\n",
      "None\n",
      "None\n"
     ]
    }
   ],
   "source": [
    "short_descs = None\n",
    "temps = None\n",
    "descs = None\n",
    "\n",
    "print(short_descs)\n",
    "print(temps)\n",
    "print(descs)"
   ]
  },
  {
   "cell_type": "code",
   "execution_count": 434,
   "metadata": {},
   "outputs": [],
   "source": [
    "# Your code here"
   ]
  },
  {
   "cell_type": "markdown",
   "metadata": {},
   "source": [
    "### Combining our data into a Pandas Dataframe\n",
    "\n",
    "We can now combine the data into a Pandas DataFrame and analyze it.\n",
    "\n",
    "In order to do this, we’ll call the DataFrame class, and pass in each list of items that we have. We pass them in as part of a dictionary. Each dictionary key will become a column in the DataFrame, and each list will become the values in the column:"
   ]
  },
  {
   "cell_type": "code",
   "execution_count": 435,
   "metadata": {},
   "outputs": [
    {
     "data": {
      "text/html": [
       "<div>\n",
       "<style scoped>\n",
       "    .dataframe tbody tr th:only-of-type {\n",
       "        vertical-align: middle;\n",
       "    }\n",
       "\n",
       "    .dataframe tbody tr th {\n",
       "        vertical-align: top;\n",
       "    }\n",
       "\n",
       "    .dataframe thead th {\n",
       "        text-align: right;\n",
       "    }\n",
       "</style>\n",
       "<table border=\"1\" class=\"dataframe\">\n",
       "  <thead>\n",
       "    <tr style=\"text-align: right;\">\n",
       "      <th></th>\n",
       "      <th>period</th>\n",
       "      <th>short_desc</th>\n",
       "      <th>temp</th>\n",
       "      <th>desc</th>\n",
       "    </tr>\n",
       "  </thead>\n",
       "  <tbody>\n",
       "    <tr>\n",
       "      <th>0</th>\n",
       "      <td>Today</td>\n",
       "      <td>None</td>\n",
       "      <td>None</td>\n",
       "      <td>None</td>\n",
       "    </tr>\n",
       "    <tr>\n",
       "      <th>1</th>\n",
       "      <td>Tonight</td>\n",
       "      <td>None</td>\n",
       "      <td>None</td>\n",
       "      <td>None</td>\n",
       "    </tr>\n",
       "    <tr>\n",
       "      <th>2</th>\n",
       "      <td>Wednesday</td>\n",
       "      <td>None</td>\n",
       "      <td>None</td>\n",
       "      <td>None</td>\n",
       "    </tr>\n",
       "    <tr>\n",
       "      <th>3</th>\n",
       "      <td>WednesdayNight</td>\n",
       "      <td>None</td>\n",
       "      <td>None</td>\n",
       "      <td>None</td>\n",
       "    </tr>\n",
       "    <tr>\n",
       "      <th>4</th>\n",
       "      <td>Thursday</td>\n",
       "      <td>None</td>\n",
       "      <td>None</td>\n",
       "      <td>None</td>\n",
       "    </tr>\n",
       "    <tr>\n",
       "      <th>5</th>\n",
       "      <td>ThursdayNight</td>\n",
       "      <td>None</td>\n",
       "      <td>None</td>\n",
       "      <td>None</td>\n",
       "    </tr>\n",
       "    <tr>\n",
       "      <th>6</th>\n",
       "      <td>Friday</td>\n",
       "      <td>None</td>\n",
       "      <td>None</td>\n",
       "      <td>None</td>\n",
       "    </tr>\n",
       "    <tr>\n",
       "      <th>7</th>\n",
       "      <td>FridayNight</td>\n",
       "      <td>None</td>\n",
       "      <td>None</td>\n",
       "      <td>None</td>\n",
       "    </tr>\n",
       "    <tr>\n",
       "      <th>8</th>\n",
       "      <td>Saturday</td>\n",
       "      <td>None</td>\n",
       "      <td>None</td>\n",
       "      <td>None</td>\n",
       "    </tr>\n",
       "  </tbody>\n",
       "</table>\n",
       "</div>"
      ],
      "text/plain": [
       "           period short_desc  temp  desc\n",
       "0           Today       None  None  None\n",
       "1         Tonight       None  None  None\n",
       "2       Wednesday       None  None  None\n",
       "3  WednesdayNight       None  None  None\n",
       "4        Thursday       None  None  None\n",
       "5   ThursdayNight       None  None  None\n",
       "6          Friday       None  None  None\n",
       "7     FridayNight       None  None  None\n",
       "8        Saturday       None  None  None"
      ]
     },
     "execution_count": 435,
     "metadata": {},
     "output_type": "execute_result"
    }
   ],
   "source": [
    "import pandas as pd\n",
    "weather = pd.DataFrame({\n",
    "    \"period\": periods,\n",
    "    \"short_desc\": short_descs,\n",
    "    \"temp\": temps,\n",
    "    \"desc\": descs\n",
    "})\n",
    "weather"
   ]
  },
  {
   "cell_type": "markdown",
   "metadata": {},
   "source": [
    "We can now do some analysis on the data. For example, we can use a regular expression and the Series.str.extract method to pull out the numeric temperature values:"
   ]
  },
  {
   "cell_type": "code",
   "execution_count": 367,
   "metadata": {},
   "outputs": [
    {
     "data": {
      "text/plain": [
       "'High: 39 °F'"
      ]
     },
     "execution_count": 367,
     "metadata": {},
     "output_type": "execute_result"
    }
   ],
   "source": [
    "weather.temp[0]"
   ]
  },
  {
   "cell_type": "code",
   "execution_count": 432,
   "metadata": {},
   "outputs": [
    {
     "data": {
      "text/plain": [
       "0    39\n",
       "1    36\n",
       "2    46\n",
       "3    41\n",
       "4    55\n",
       "5    32\n",
       "6    38\n",
       "7    28\n",
       "8    39\n",
       "Name: temp, dtype: object"
      ]
     },
     "execution_count": 432,
     "metadata": {},
     "output_type": "execute_result"
    }
   ],
   "source": [
    "temp_nums = weather[\"temp\"].str.extract(r\"(\\d+)\", expand=False)\n",
    "weather[\"temp_num\"] = temp_nums.astype('int')\n",
    "temp_nums"
   ]
  },
  {
   "cell_type": "code",
   "execution_count": 369,
   "metadata": {},
   "outputs": [
    {
     "data": {
      "text/html": [
       "<div>\n",
       "<style scoped>\n",
       "    .dataframe tbody tr th:only-of-type {\n",
       "        vertical-align: middle;\n",
       "    }\n",
       "\n",
       "    .dataframe tbody tr th {\n",
       "        vertical-align: top;\n",
       "    }\n",
       "\n",
       "    .dataframe thead th {\n",
       "        text-align: right;\n",
       "    }\n",
       "</style>\n",
       "<table border=\"1\" class=\"dataframe\">\n",
       "  <thead>\n",
       "    <tr style=\"text-align: right;\">\n",
       "      <th></th>\n",
       "      <th>period</th>\n",
       "      <th>short_desc</th>\n",
       "      <th>temp</th>\n",
       "      <th>desc</th>\n",
       "      <th>temp_num</th>\n",
       "      <th>is_night</th>\n",
       "    </tr>\n",
       "  </thead>\n",
       "  <tbody>\n",
       "    <tr>\n",
       "      <th>0</th>\n",
       "      <td>Today</td>\n",
       "      <td>Chance Rain</td>\n",
       "      <td>High: 39 °F</td>\n",
       "      <td>Today: A chance of rain before noon, then inte...</td>\n",
       "      <td>39</td>\n",
       "      <td>False</td>\n",
       "    </tr>\n",
       "    <tr>\n",
       "      <th>1</th>\n",
       "      <td>Tonight</td>\n",
       "      <td>Cloudy</td>\n",
       "      <td>Low: 36 °F</td>\n",
       "      <td>Tonight: Cloudy, with a low around 36. Calm wi...</td>\n",
       "      <td>36</td>\n",
       "      <td>True</td>\n",
       "    </tr>\n",
       "    <tr>\n",
       "      <th>2</th>\n",
       "      <td>Wednesday</td>\n",
       "      <td>Partly Sunny</td>\n",
       "      <td>High: 46 °F</td>\n",
       "      <td>Wednesday: Partly sunny, with a high near 46. ...</td>\n",
       "      <td>46</td>\n",
       "      <td>False</td>\n",
       "    </tr>\n",
       "    <tr>\n",
       "      <th>3</th>\n",
       "      <td>WednesdayNight</td>\n",
       "      <td>Mostly Cloudythen Showersand Breezy</td>\n",
       "      <td>Low: 41 °F</td>\n",
       "      <td>Wednesday Night: Showers after midnight.  Low ...</td>\n",
       "      <td>41</td>\n",
       "      <td>True</td>\n",
       "    </tr>\n",
       "    <tr>\n",
       "      <th>4</th>\n",
       "      <td>Thursday</td>\n",
       "      <td>Showers andBreezy</td>\n",
       "      <td>High: 55 °F</td>\n",
       "      <td>Thursday: Showers.  High near 55. Breezy, with...</td>\n",
       "      <td>55</td>\n",
       "      <td>False</td>\n",
       "    </tr>\n",
       "    <tr>\n",
       "      <th>5</th>\n",
       "      <td>ThursdayNight</td>\n",
       "      <td>Slight ChanceShowers thenMostly Cloudy</td>\n",
       "      <td>Low: 32 °F</td>\n",
       "      <td>Thursday Night: A 20 percent chance of showers...</td>\n",
       "      <td>32</td>\n",
       "      <td>True</td>\n",
       "    </tr>\n",
       "    <tr>\n",
       "      <th>6</th>\n",
       "      <td>Friday</td>\n",
       "      <td>Partly Sunny</td>\n",
       "      <td>High: 38 °F</td>\n",
       "      <td>Friday: Partly sunny, with a high near 38.</td>\n",
       "      <td>38</td>\n",
       "      <td>False</td>\n",
       "    </tr>\n",
       "    <tr>\n",
       "      <th>7</th>\n",
       "      <td>FridayNight</td>\n",
       "      <td>Partly Cloudythen SlightChance Snow</td>\n",
       "      <td>Low: 28 °F</td>\n",
       "      <td>Friday Night: A slight chance of snow after mi...</td>\n",
       "      <td>28</td>\n",
       "      <td>True</td>\n",
       "    </tr>\n",
       "    <tr>\n",
       "      <th>8</th>\n",
       "      <td>Saturday</td>\n",
       "      <td>Slight ChanceRain/Snow</td>\n",
       "      <td>High: 39 °F</td>\n",
       "      <td>Saturday: A slight chance of snow before 11am,...</td>\n",
       "      <td>39</td>\n",
       "      <td>False</td>\n",
       "    </tr>\n",
       "  </tbody>\n",
       "</table>\n",
       "</div>"
      ],
      "text/plain": [
       "           period                              short_desc         temp  \\\n",
       "0           Today                             Chance Rain  High: 39 °F   \n",
       "1         Tonight                                  Cloudy   Low: 36 °F   \n",
       "2       Wednesday                            Partly Sunny  High: 46 °F   \n",
       "3  WednesdayNight     Mostly Cloudythen Showersand Breezy   Low: 41 °F   \n",
       "4        Thursday                       Showers andBreezy  High: 55 °F   \n",
       "5   ThursdayNight  Slight ChanceShowers thenMostly Cloudy   Low: 32 °F   \n",
       "6          Friday                            Partly Sunny  High: 38 °F   \n",
       "7     FridayNight     Partly Cloudythen SlightChance Snow   Low: 28 °F   \n",
       "8        Saturday                  Slight ChanceRain/Snow  High: 39 °F   \n",
       "\n",
       "                                                desc  temp_num  is_night  \n",
       "0  Today: A chance of rain before noon, then inte...        39     False  \n",
       "1  Tonight: Cloudy, with a low around 36. Calm wi...        36      True  \n",
       "2  Wednesday: Partly sunny, with a high near 46. ...        46     False  \n",
       "3  Wednesday Night: Showers after midnight.  Low ...        41      True  \n",
       "4  Thursday: Showers.  High near 55. Breezy, with...        55     False  \n",
       "5  Thursday Night: A 20 percent chance of showers...        32      True  \n",
       "6         Friday: Partly sunny, with a high near 38.        38     False  \n",
       "7  Friday Night: A slight chance of snow after mi...        28      True  \n",
       "8  Saturday: A slight chance of snow before 11am,...        39     False  "
      ]
     },
     "execution_count": 369,
     "metadata": {},
     "output_type": "execute_result"
    }
   ],
   "source": [
    "weather"
   ]
  },
  {
   "cell_type": "markdown",
   "metadata": {},
   "source": [
    "We could then find the mean of all the high and low temperatures:"
   ]
  },
  {
   "cell_type": "code",
   "execution_count": 273,
   "metadata": {},
   "outputs": [
    {
     "data": {
      "text/plain": [
       "39.333333333333336"
      ]
     },
     "execution_count": 273,
     "metadata": {},
     "output_type": "execute_result"
    }
   ],
   "source": [
    "weather[\"temp_num\"].mean()\n"
   ]
  },
  {
   "cell_type": "markdown",
   "metadata": {},
   "source": [
    "We could also only select the rows that happen at night:\n",
    "\n"
   ]
  },
  {
   "cell_type": "code",
   "execution_count": 274,
   "metadata": {},
   "outputs": [
    {
     "data": {
      "text/plain": [
       "0    False\n",
       "1     True\n",
       "2    False\n",
       "3     True\n",
       "4    False\n",
       "5     True\n",
       "6    False\n",
       "7     True\n",
       "8    False\n",
       "Name: temp, dtype: bool"
      ]
     },
     "execution_count": 274,
     "metadata": {},
     "output_type": "execute_result"
    }
   ],
   "source": [
    "is_night = weather[\"temp\"].str.contains(\"Low\")\n",
    "weather[\"is_night\"] = is_night\n",
    "is_night"
   ]
  },
  {
   "cell_type": "code",
   "execution_count": 278,
   "metadata": {},
   "outputs": [
    {
     "data": {
      "text/html": [
       "<div>\n",
       "<style scoped>\n",
       "    .dataframe tbody tr th:only-of-type {\n",
       "        vertical-align: middle;\n",
       "    }\n",
       "\n",
       "    .dataframe tbody tr th {\n",
       "        vertical-align: top;\n",
       "    }\n",
       "\n",
       "    .dataframe thead th {\n",
       "        text-align: right;\n",
       "    }\n",
       "</style>\n",
       "<table border=\"1\" class=\"dataframe\">\n",
       "  <thead>\n",
       "    <tr style=\"text-align: right;\">\n",
       "      <th></th>\n",
       "      <th>period</th>\n",
       "      <th>short_desc</th>\n",
       "      <th>temp</th>\n",
       "      <th>desc</th>\n",
       "      <th>temp_num</th>\n",
       "      <th>is_night</th>\n",
       "    </tr>\n",
       "  </thead>\n",
       "  <tbody>\n",
       "    <tr>\n",
       "      <th>1</th>\n",
       "      <td>Tonight</td>\n",
       "      <td>Cloudy</td>\n",
       "      <td>Low: 36 °F</td>\n",
       "      <td>Tonight: Cloudy, with a low around 36. Calm wi...</td>\n",
       "      <td>36</td>\n",
       "      <td>True</td>\n",
       "    </tr>\n",
       "    <tr>\n",
       "      <th>3</th>\n",
       "      <td>WednesdayNight</td>\n",
       "      <td>Mostly Cloudythen Showersand Breezy</td>\n",
       "      <td>Low: 41 °F</td>\n",
       "      <td>Wednesday Night: Showers after midnight.  Low ...</td>\n",
       "      <td>41</td>\n",
       "      <td>True</td>\n",
       "    </tr>\n",
       "    <tr>\n",
       "      <th>5</th>\n",
       "      <td>ThursdayNight</td>\n",
       "      <td>Slight ChanceShowers thenMostly Cloudy</td>\n",
       "      <td>Low: 32 °F</td>\n",
       "      <td>Thursday Night: A 20 percent chance of showers...</td>\n",
       "      <td>32</td>\n",
       "      <td>True</td>\n",
       "    </tr>\n",
       "    <tr>\n",
       "      <th>7</th>\n",
       "      <td>FridayNight</td>\n",
       "      <td>Partly Cloudythen SlightChance Snow</td>\n",
       "      <td>Low: 28 °F</td>\n",
       "      <td>Friday Night: A slight chance of snow after mi...</td>\n",
       "      <td>28</td>\n",
       "      <td>True</td>\n",
       "    </tr>\n",
       "  </tbody>\n",
       "</table>\n",
       "</div>"
      ],
      "text/plain": [
       "           period                              short_desc        temp  \\\n",
       "1         Tonight                                  Cloudy  Low: 36 °F   \n",
       "3  WednesdayNight     Mostly Cloudythen Showersand Breezy  Low: 41 °F   \n",
       "5   ThursdayNight  Slight ChanceShowers thenMostly Cloudy  Low: 32 °F   \n",
       "7     FridayNight     Partly Cloudythen SlightChance Snow  Low: 28 °F   \n",
       "\n",
       "                                                desc  temp_num  is_night  \n",
       "1  Tonight: Cloudy, with a low around 36. Calm wi...        36      True  \n",
       "3  Wednesday Night: Showers after midnight.  Low ...        41      True  \n",
       "5  Thursday Night: A 20 percent chance of showers...        32      True  \n",
       "7  Friday Night: A slight chance of snow after mi...        28      True  "
      ]
     },
     "execution_count": 278,
     "metadata": {},
     "output_type": "execute_result"
    }
   ],
   "source": [
    "weather[is_night]\n"
   ]
  },
  {
   "cell_type": "code",
   "execution_count": null,
   "metadata": {},
   "outputs": [],
   "source": []
  }
 ],
 "metadata": {
  "kernelspec": {
   "display_name": "Python 3",
   "language": "python",
   "name": "python3"
  },
  "language_info": {
   "codemirror_mode": {
    "name": "ipython",
    "version": 3
   },
   "file_extension": ".py",
   "mimetype": "text/x-python",
   "name": "python",
   "nbconvert_exporter": "python",
   "pygments_lexer": "ipython3",
   "version": "3.6.9"
  }
 },
 "nbformat": 4,
 "nbformat_minor": 4
}
