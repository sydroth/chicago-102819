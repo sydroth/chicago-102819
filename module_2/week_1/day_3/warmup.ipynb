{
 "cells": [
  {
   "cell_type": "markdown",
   "metadata": {},
   "source": [
    "## Part 1\n",
    "You have the following function which prints out a description of a boring room.\n"
   ]
  },
  {
   "cell_type": "code",
   "execution_count": 27,
   "metadata": {},
   "outputs": [],
   "source": [
    "import numpy as np\n",
    "from numpy import random"
   ]
  },
  {
   "cell_type": "code",
   "execution_count": 28,
   "metadata": {},
   "outputs": [],
   "source": [
    "def boring_room():\n",
    "    \n",
    "    print(\"\"\"\n",
    "        My room has four walls.\n",
    "        My room has shag carpeting.\n",
    "        \"\"\")"
   ]
  },
  {
   "cell_type": "code",
   "execution_count": 73,
   "metadata": {},
   "outputs": [],
   "source": [
    "def remove_period(string):\n",
    "    return string[:-1]\n",
    "\n",
    "def lower(input):\n",
    "    return input.lower()\n",
    "\n",
    "def lets_decorate(func):\n",
    "    def spruce_room():\n",
    "        various_sprucings = [\"My room has a lava lamp.\", \"My room has a galaxy light.\", \"My room has a small lion that purrs.\", \"My room has a giant whiteboard.\"]\n",
    "        select_sprucings = random.choice(various_sprucings, replace=True)\n",
    "        print(f\"{remove_period(select_sprucings)} AND {lower(select_sprucings)}\")\n",
    "        func()\n",
    "    return spruce_room\n"
   ]
  },
  {
   "cell_type": "code",
   "execution_count": 74,
   "metadata": {},
   "outputs": [],
   "source": [
    "@lets_decorate\n",
    "def boring_room():\n",
    "    print(\"My room has four walls. My room has shag carpeting.\")"
   ]
  },
  {
   "cell_type": "code",
   "execution_count": 79,
   "metadata": {},
   "outputs": [
    {
     "name": "stdout",
     "output_type": "stream",
     "text": [
      "My room has a small lion that purrs AND my room has a small lion that purrs.\n",
      "My room has four walls. My room has shag carpeting.\n"
     ]
    }
   ],
   "source": [
    "boring_room()"
   ]
  },
  {
   "cell_type": "markdown",
   "metadata": {},
   "source": [
    "Your first task is to create a decorator which spruces up the room, so when boring room is called, it prints something like:"
   ]
  },
  {
   "cell_type": "markdown",
   "metadata": {},
   "source": [
    "My room has a lava lamp.<br>\n",
    "My room has four walls.<br>\n",
    "My room has shag carpeting.<br>\n",
    "My room has a Jimi Hendrix blacklight poster."
   ]
  },
  {
   "cell_type": "markdown",
   "metadata": {},
   "source": [
    "#### Remember, define the decorator function which takes a function as an input.  Then use the @ syntax to modify the boring_room function. "
   ]
  },
  {
   "cell_type": "markdown",
   "metadata": {},
   "source": [
    "## Part 2\n",
    "Add another function within the decorator function which will add some decoration on the exterior of the house, like so:\n",
    "\n",
    "My front lawn has lawn flamingos<br>\n",
    "My room has a lava lamp.<br>\n",
    "My room has four walls.<br>\n",
    "My room has shag carpeting.<br>\n",
    "My room has a Jimi Hendrix blacklight poster.<br>\n",
    "My garage has a basketball hoop<br>"
   ]
  },
  {
   "cell_type": "code",
   "execution_count": null,
   "metadata": {},
   "outputs": [],
   "source": []
  }
 ],
 "metadata": {
  "kernelspec": {
   "display_name": "Python 3",
   "language": "python",
   "name": "python3"
  },
  "language_info": {
   "codemirror_mode": {
    "name": "ipython",
    "version": 3
   },
   "file_extension": ".py",
   "mimetype": "text/x-python",
   "name": "python",
   "nbconvert_exporter": "python",
   "pygments_lexer": "ipython3",
   "version": "3.6.9"
  }
 },
 "nbformat": 4,
 "nbformat_minor": 4
}
