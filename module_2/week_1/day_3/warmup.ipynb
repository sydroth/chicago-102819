{
 "cells": [
  {
   "cell_type": "markdown",
   "metadata": {},
   "source": [
    "## Part 1\n",
    "You have the following function which prints out a description of a boring room.\n"
   ]
  },
  {
   "cell_type": "code",
   "execution_count": 14,
   "metadata": {},
   "outputs": [],
   "source": [
    "def boring_room():\n",
    "    \n",
    "    print(\"\"\"\n",
    "        My room has four walls.\n",
    "        My room has shag carpeting.\n",
    "        \"\"\"\n",
    "               "
   ]
  },
  {
   "cell_type": "code",
   "execution_count": 3,
   "metadata": {},
   "outputs": [
    {
     "name": "stdout",
     "output_type": "stream",
     "text": [
      "\n",
      "        My room has four walls.\n",
      "        My room has shag carpeting.\n",
      "        \n"
     ]
    }
   ],
   "source": [
    "boring_room()"
   ]
  },
  {
   "cell_type": "markdown",
   "metadata": {},
   "source": [
    "Your first task is to create a decorator which spruces up the room, so when boring room is called, it prints something like:"
   ]
  },
  {
   "cell_type": "markdown",
   "metadata": {},
   "source": [
    "My room has a lava lamp.<br>\n",
    "My room has four walls.<br>\n",
    "My room has shag carpeting.<br>\n",
    "My room has a Jimi Hendrix blacklight poster."
   ]
  },
  {
   "cell_type": "markdown",
   "metadata": {},
   "source": [
    "#### Remember, define the decorator function which takes a function as an input.  Then use the @ syntax to modify the boring_room function. "
   ]
  },
  {
   "cell_type": "markdown",
   "metadata": {},
   "source": [
    "## Part 2\n",
    "Add another function within the decorator function which will add some decoration on the exterior of the house, like so:\n",
    "\n",
    "My front lawn has lawn flamingos<br>\n",
    "My room has a lava lamp.<br>\n",
    "My room has four walls.<br>\n",
    "My room has shag carpeting.<br>\n",
    "My room has a Jimi Hendrix blacklight poster.<br>\n",
    "My garage has a basketball hoop<br>"
   ]
  },
  {
   "cell_type": "code",
   "execution_count": null,
   "metadata": {},
   "outputs": [],
   "source": []
  }
 ],
 "metadata": {
  "kernelspec": {
   "display_name": "Python 3",
   "language": "python",
   "name": "python3"
  },
  "language_info": {
   "codemirror_mode": {
    "name": "ipython",
    "version": 3
   },
   "file_extension": ".py",
   "mimetype": "text/x-python",
   "name": "python",
   "nbconvert_exporter": "python",
   "pygments_lexer": "ipython3",
   "version": "3.7.3"
  }
 },
 "nbformat": 4,
 "nbformat_minor": 4
}
