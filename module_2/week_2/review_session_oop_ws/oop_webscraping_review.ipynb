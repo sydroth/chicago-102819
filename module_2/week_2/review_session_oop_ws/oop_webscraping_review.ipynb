{
 "cells": [
  {
   "cell_type": "markdown",
   "metadata": {
    "ein.tags": "worksheet-0",
    "slideshow": {
     "slide_type": "-"
    }
   },
   "source": [
    "# OOP and BeautifulSoup Review/Code Along"
   ]
  },
  {
   "cell_type": "markdown",
   "metadata": {
    "ein.tags": "worksheet-0",
    "slideshow": {
     "slide_type": "-"
    }
   },
   "source": [
    "This review will focus on webscraping and the transformation of data into useful python objects.\n",
    "The goal will be to build an album class which will have a method to calculate average song length.\n",
    "Let's begin by inspecting Outkast's [Wikipedia page](https://en.wikipedia.org/wiki/Outkast)\n",
    "\n",
    "We are going to use the artist page to navigate to each album page.\n",
    "Use option-cmd-i to open Developer Tools\n",
    "Use the request library, and then beautiful soup to create a list of links for each album."
   ]
  },
  {
   "cell_type": "code",
   "execution_count": 35,
   "metadata": {
    "autoscroll": false,
    "collapsed": false,
    "ein.hycell": false,
    "ein.tags": "worksheet-0",
    "jupyter": {
     "outputs_hidden": false
    },
    "slideshow": {
     "slide_type": "-"
    }
   },
   "outputs": [],
   "source": [
    "import requests\n",
    "from bs4 import BeautifulSoup\n",
    "import re\n",
    "\n",
    "url = 'https://en.wikipedia.org/wiki/Outkast'\n",
    "\n",
    "outkast = requests.get('https://en.wikipedia.org/wiki/Outkast')\n",
    "\n",
    "soup = BeautifulSoup(outkast.content, 'html.parser')"
   ]
  },
  {
   "cell_type": "markdown",
   "metadata": {
    "ein.tags": "worksheet-0",
    "slideshow": {
     "slide_type": "-"
    }
   },
   "source": [
    "Now that we have the links, let's inspect each albums webpage and figure out how to get the track information.\n",
    "Let's start with Southernplayalisticadillacmuzik\n",
    "\n",
    "Once we figure out where the data is, request the content and create a new soup object.\n"
   ]
  },
  {
   "cell_type": "code",
   "execution_count": 74,
   "metadata": {
    "autoscroll": false,
    "collapsed": false,
    "ein.hycell": false,
    "ein.tags": "worksheet-0",
    "jupyter": {
     "outputs_hidden": false
    },
    "slideshow": {
     "slide_type": "-"
    }
   },
   "outputs": [
    {
     "name": "stdout",
     "output_type": "stream",
     "text": [
      "['https://en.wikipedia.org/wiki/Southernplayalisticadillacmuzik', 'https://en.wikipedia.org/wiki/ATLiens', 'https://en.wikipedia.org/wiki/Aquemini', 'https://en.wikipedia.org/wiki/Stankonia', 'https://en.wikipedia.org/wiki/Speakerboxxx/The_Love_Below', 'https://en.wikipedia.org/wiki/Idlewild_(Outkast_album)']\n"
     ]
    }
   ],
   "source": [
    "disco = soup.find(id = 'Discography')\n",
    "\n",
    "disco.findNext('ul').find('a')\n",
    "\n",
    "disco_links = []\n",
    "disco_links = [f\"https://en.wikipedia.org{a.attrs['href']}\" for a in disco.findNext('ul').findAll('a')]\n",
    "print(disco_links)\n"
   ]
  },
  {
   "cell_type": "markdown",
   "metadata": {
    "ein.tags": "worksheet-0",
    "slideshow": {
     "slide_type": "-"
    }
   },
   "source": [
    "Now that we have our track names and our track times, let's create an Album class."
   ]
  },
  {
   "cell_type": "code",
   "execution_count": 70,
   "metadata": {
    "autoscroll": false,
    "collapsed": false,
    "ein.hycell": false,
    "ein.tags": "worksheet-0",
    "jupyter": {
     "outputs_hidden": false
    },
    "slideshow": {
     "slide_type": "-"
    }
   },
   "outputs": [],
   "source": [
    "class Album:\n",
    "    def _init_(self, artist, title, tracks, track_times):\n",
    "        self.artist = artist\n",
    "        self.title = title\n",
    "        self.tracks = tracks\n",
    "        self.track_times = track_times\n",
    "    \n",
    "    def calculate_song_length(self):\n",
    "        pass"
   ]
  },
  {
   "cell_type": "code",
   "execution_count": 62,
   "metadata": {},
   "outputs": [],
   "source": [
    "title = disco_links[0].split(\"/\")[-1]\n",
    "\n",
    "# splitting links from up above by / and then picking the last thing which in this case is our title"
   ]
  },
  {
   "cell_type": "code",
   "execution_count": 72,
   "metadata": {
    "autoscroll": false,
    "collapsed": false,
    "ein.hycell": false,
    "ein.tags": "worksheet-0",
    "jupyter": {
     "outputs_hidden": false
    },
    "slideshow": {
     "slide_type": "-"
    }
   },
   "outputs": [
    {
     "ename": "NameError",
     "evalue": "name 'track_names' is not defined",
     "output_type": "error",
     "traceback": [
      "\u001b[0;31m---------------------------------------------------------------------------\u001b[0m",
      "\u001b[0;31mNameError\u001b[0m                                 Traceback (most recent call last)",
      "\u001b[0;32m<ipython-input-72-5c4c02f1b0fe>\u001b[0m in \u001b[0;36m<module>\u001b[0;34m\u001b[0m\n\u001b[1;32m      2\u001b[0m \u001b[0martist\u001b[0m \u001b[0;34m=\u001b[0m \u001b[0;34m'outkast'\u001b[0m\u001b[0;34m\u001b[0m\u001b[0;34m\u001b[0m\u001b[0m\n\u001b[1;32m      3\u001b[0m \u001b[0mtitle\u001b[0m \u001b[0;34m=\u001b[0m \u001b[0mtitle\u001b[0m \u001b[0;34m=\u001b[0m \u001b[0mdisco_links\u001b[0m\u001b[0;34m[\u001b[0m\u001b[0;36m0\u001b[0m\u001b[0;34m]\u001b[0m\u001b[0;34m.\u001b[0m\u001b[0msplit\u001b[0m\u001b[0;34m(\u001b[0m\u001b[0;34m\"/\"\u001b[0m\u001b[0;34m)\u001b[0m\u001b[0;34m[\u001b[0m\u001b[0;34m-\u001b[0m\u001b[0;36m1\u001b[0m\u001b[0;34m]\u001b[0m\u001b[0;34m\u001b[0m\u001b[0;34m\u001b[0m\u001b[0m\n\u001b[0;32m----> 4\u001b[0;31m \u001b[0mtracks\u001b[0m \u001b[0;34m=\u001b[0m \u001b[0mtrack_names\u001b[0m\u001b[0;34m\u001b[0m\u001b[0;34m\u001b[0m\u001b[0m\n\u001b[0m\u001b[1;32m      5\u001b[0m \u001b[0;34m\u001b[0m\u001b[0m\n\u001b[1;32m      6\u001b[0m \u001b[0mspcm\u001b[0m \u001b[0;34m=\u001b[0m \u001b[0mAlbum\u001b[0m\u001b[0;34m(\u001b[0m\u001b[0martist\u001b[0m\u001b[0;34m,\u001b[0m \u001b[0mtitle\u001b[0m\u001b[0;34m,\u001b[0m \u001b[0mtracks\u001b[0m\u001b[0;34m,\u001b[0m \u001b[0mtrack_time\u001b[0m\u001b[0;34m)\u001b[0m\u001b[0;34m\u001b[0m\u001b[0;34m\u001b[0m\u001b[0m\n",
      "\u001b[0;31mNameError\u001b[0m: name 'track_names' is not defined"
     ]
    }
   ],
   "source": [
    "# Let's create our first album object.\n",
    "artist = 'outkast'\n",
    "title = title = disco_links[0].split(\"/\")[-1]\n",
    "tracks = track_names\n",
    "\n",
    "spcm = Album(artist, title, tracks, track_time)\n",
    "spcm.__dict__"
   ]
  },
  {
   "cell_type": "code",
   "execution_count": 3,
   "metadata": {
    "autoscroll": false,
    "collapsed": false,
    "ein.hycell": false,
    "ein.tags": "worksheet-0",
    "jupyter": {
     "outputs_hidden": false
    },
    "slideshow": {
     "slide_type": "-"
    }
   },
   "outputs": [],
   "source": [
    "# Lastly, let's create some instance methods.\n",
    "# Let's revisit our Album class and define a method \n",
    "# calculate_average_length which, surprise surprise, \n",
    "# calculates average song length for an album"
   ]
  }
 ],
 "metadata": {
  "kernelspec": {
   "display_name": "Python 3",
   "language": "python",
   "name": "python3"
  },
  "language_info": {
   "codemirror_mode": {
    "name": "ipython",
    "version": 3
   },
   "file_extension": ".py",
   "mimetype": "text/x-python",
   "name": "python",
   "nbconvert_exporter": "python",
   "pygments_lexer": "ipython3",
   "version": "3.6.9"
  },
  "name": "oop_webscraping_review.ipynb"
 },
 "nbformat": 4,
 "nbformat_minor": 4
}
