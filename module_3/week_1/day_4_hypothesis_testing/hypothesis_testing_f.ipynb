{
 "cells": [
  {
   "cell_type": "markdown",
   "metadata": {},
   "source": [
    "# Hypothesis Testing"
   ]
  },
  {
   "cell_type": "markdown",
   "metadata": {},
   "source": [
    "## Scenarios\n",
    "\n",
    "- Chemistry - do inputs from two different barley fields produce different\n",
    "yields?\n",
    "- Astrophysics - do star systems with near-orbiting gas giants have hotter\n",
    "stars?\n",
    "- Economics - demography, surveys, etc.\n",
    "- Medicine - BMI vs. Hypertension, etc.\n",
    "- Business - which ad is more effective given engagement?"
   ]
  },
  {
   "cell_type": "markdown",
   "metadata": {},
   "source": [
    "![img1](./img/img1.png)"
   ]
  },
  {
   "cell_type": "markdown",
   "metadata": {},
   "source": [
    "![img2](./img/img2.png)"
   ]
  },
  {
   "cell_type": "markdown",
   "metadata": {},
   "source": [
    "## We should be confident that:\n",
    "1. The sample is independent\n",
    "2. The sample is collected randomly\n",
    "3. The sample is approximately normally distributed\n",
    "4. We have an appropriate sample size, or we choose the correct type of test "
   ]
  },
  {
   "cell_type": "markdown",
   "metadata": {},
   "source": [
    "# Hypothesis Testing Steps"
   ]
  },
  {
   "cell_type": "markdown",
   "metadata": {},
   "source": [
    "1. Set up null and alternative hypotheses\n",
    "\n",
    "2. Choose a significance level\n",
    "\n",
    "3. Calculate the test statistic\n",
    "\n",
    "4. Determine the critical or p-value (find the rejection region)\n",
    "\n",
    "5. Compare test-statistic with critical value to accept or reject the Null hypothesis."
   ]
  },
  {
   "cell_type": "markdown",
   "metadata": {},
   "source": [
    "### Null Hypothesis / Alternative Hypothesis Structure\n",
    "\n",
    "![img3](./img/img3.png)  "
   ]
  },
  {
   "cell_type": "markdown",
   "metadata": {},
   "source": [
    "### The Null Hypothesis\n",
    "\n",
    "![gmonk](https://vignette.wikia.nocookie.net/villains/images/2/2f/Ogmork.jpg/revision/latest?cb=20120217040244) There is NOTHING, **no** difference.\n",
    "![the nothing](https://vignette.wikia.nocookie.net/theneverendingstory/images/a/a0/Bern-foster-the-neverending-story-clouds.jpg/revision/latest?cb=20160608083230)"
   ]
  },
  {
   "cell_type": "markdown",
   "metadata": {},
   "source": [
    "### The Alternative hypothesis\n",
    "\n",
    "![difference](./img/giphy.gif)"
   ]
  },
  {
   "cell_type": "markdown",
   "metadata": {},
   "source": [
    "If we're testing the function of a new drug, then the null hypothesis will say that the drug has _no effect_ on patients, or anyway no effect relative to relief of the malady the drug was designed to combat. "
   ]
  },
  {
   "cell_type": "markdown",
   "metadata": {},
   "source": [
    "If we're testing whether Peeps cause dementia, then the null hypothesis will say that there is _no correlation_ between Peeps consumption and rate of dementia development."
   ]
  },
  {
   "cell_type": "markdown",
   "metadata": {},
   "source": [
    "# One tailed vs two tailed tests"
   ]
  },
  {
   "cell_type": "markdown",
   "metadata": {},
   "source": [
    "![](img/one_tailed.png)"
   ]
  },
  {
   "cell_type": "markdown",
   "metadata": {},
   "source": [
    "![](img/two_tailed.png)"
   ]
  },
  {
   "cell_type": "markdown",
   "metadata": {},
   "source": [
    "## An Example\n",
    "\n",
    "Let's work with the normal distribution, since it's so useful. Suppose we are told that African elephants have weights distributed normally around a mean of 9000 lbs., with a standard deviation of 900 lbs. Pachyderm Adventures has recently measured the weights of 40 African elephants in Gabon and has calculated their average weight at 8637 lbs. They claim that these statistics on the Gabonese elephants are significant. Let's find out!\n",
    "\n",
    "What is our null hypothesis here?"
   ]
  },
  {
   "cell_type": "code",
   "execution_count": null,
   "metadata": {},
   "outputs": [],
   "source": [
    "# your answer here"
   ]
  },
  {
   "cell_type": "markdown",
   "metadata": {},
   "source": [
    "What is our alternative hypothesis here?"
   ]
  },
  {
   "cell_type": "code",
   "execution_count": null,
   "metadata": {},
   "outputs": [],
   "source": [
    "# your answer here"
   ]
  },
  {
   "cell_type": "markdown",
   "metadata": {},
   "source": [
    "## $p$-Values\n",
    "\n",
    "The basic idea of a p-value is to quantify the probability that the results seen are in fact the result of mere random chance. This is connected with the null hypothesis since, if the null hypothesis is true and there is no significant correlation between the population variables X and Y, then of course any correlation between X and Y observed in our sample would have to be the result of mere random chance.\n",
    "\n",
    "### How Unlikely Is Too Unlikely?\n",
    "\n",
    "Suppose we calculate a p-value for some statistic we've measured (more on this below!) and we get a p-value of 20%. This would mean that there is a 20% chance that the results we observed were the result of mere random chance. Probably this is high enough that we ought _not_ to reject the null hypothesis that our variables are uncorrelated.\n",
    "\n",
    "In practice, a p-value _threshold_ of 5% is very often the default value for these tests of statistical significance. Thus, if it is calculated that the chance that the results we observed were actually the result of randomness is less than 1 in 20, then we would _reject_ the null hypothesis and _accept_ the alternative hypothesis.\n"
   ]
  },
  {
   "cell_type": "markdown",
   "metadata": {},
   "source": [
    "We have to determine our $\\alpha$ level, i.e. the threshold for an acceptible p-value, before we conduct our tests. Otherwise, we will be accused of p-hacking."
   ]
  },
  {
   "cell_type": "markdown",
   "metadata": {},
   "source": [
    "## Z-Tests "
   ]
  },
  {
   "cell_type": "markdown",
   "metadata": {},
   "source": [
    "A z-test is used when you know the population mean and standard deviation. \n",
    "A z-test determines the probability a sample mean,"
   ]
  },
  {
   "cell_type": "markdown",
   "metadata": {},
   "source": [
    "Our test statistic is the z-stat."
   ]
  },
  {
   "cell_type": "markdown",
   "metadata": {},
   "source": [
    "For a single point in relation to a distribution of points:\n",
    "\n",
    "$z = \\dfrac{{x} - \\mu}{\\sigma}$\n",
    "\n"
   ]
  },
  {
   "cell_type": "markdown",
   "metadata": {},
   "source": [
    "for a single data point $x$ is equal to a data point, $\\mu$ equals the mean of the standard distribution, and $\\sigma$ is the standard deviation of the standard distribution."
   ]
  },
  {
   "cell_type": "markdown",
   "metadata": {},
   "source": [
    "<br>Our z score tells us how many standard deviations away from the mean our point is.\n",
    "<br>We assume that the sample population is normally destributed, and we are familiar with the empirical rule: <br>66:95:99.7\n",
    "\n",
    "![](img/Empirical_Rule.png)\n"
   ]
  },
  {
   "cell_type": "markdown",
   "metadata": {},
   "source": [
    "Because of this, we can say, with a z-score of approximately 2, our data point is 2 standard deviations from the mean, and therefore has a probability of appearing of 1-.95, or .05. "
   ]
  },
  {
   "cell_type": "markdown",
   "metadata": {},
   "source": [
    "Example: Assume the mean height for women in the use is normally distributed with a mean of 65 inches and a standard deviation of 4 inches. What is the z-score of a woman who is 75 inches tall? \n",
    "    "
   ]
  },
  {
   "cell_type": "code",
   "execution_count": 1,
   "metadata": {},
   "outputs": [],
   "source": [
    "# your answer here"
   ]
  },
  {
   "cell_type": "markdown",
   "metadata": {},
   "source": [
    "When we are working with a sampling distribution, the z score is equal to $z = \\dfrac{{\\bar{x}} - \\mu_{0}}{\\dfrac{\\sigma}{\\sqrt{n}}}$"
   ]
  },
  {
   "cell_type": "markdown",
   "metadata": {},
   "source": [
    "Where $\\bar{x}$ equals the sample mean.\n",
    "<br>$\\mu_{0}$ is the mean associated with the null hypothesis.\n",
    "<br>$\\sigma$ is the population standard deviation\n",
    "<br>$\\sqrt{n}$ is the sample size, which reflects that we are dealing with a sample of the population, not the entire population."
   ]
  },
  {
   "cell_type": "markdown",
   "metadata": {},
   "source": [
    "The denominator $\\frac{\\sigma}{\\sqrt{n}}$, is also known as the standard error\n",
    "\n",
    "Standard error is the standard deviation of the sample mean. We will go into that further, below."
   ]
  },
  {
   "cell_type": "markdown",
   "metadata": {},
   "source": [
    "Once we have a z-stat, we can use a [z-table](http://www.z-table.com/) to find the associated p-value."
   ]
  },
  {
   "cell_type": "code",
   "execution_count": 2,
   "metadata": {},
   "outputs": [
    {
     "data": {
      "text/plain": [
       "1.5652475842498512"
      ]
     },
     "execution_count": 2,
     "metadata": {},
     "output_type": "execute_result"
    }
   ],
   "source": [
    "import numpy as np\n",
    "sample_female_heights = [68,65,69,70,67]\n",
    "\n",
    "x_bar = np.mean(sample_female_heights)\n",
    "mu = 65\n",
    "n = 5\n",
    "std = 4\n",
    "\n",
    "z = (x_bar - mu)/(4/np.sqrt(n))\n",
    "z"
   ]
  },
  {
   "cell_type": "code",
   "execution_count": 3,
   "metadata": {},
   "outputs": [
    {
     "data": {
      "text/plain": [
       "0.05876243404831978"
      ]
     },
     "execution_count": 3,
     "metadata": {},
     "output_type": "execute_result"
    }
   ],
   "source": [
    "from scipy import stats\n",
    "# we can use stats to calculate the probability\n",
    "stats.norm.cdf(z)\n",
    "# We can also use the survival function.\n",
    "stats.norm.sf(z) \n",
    "# What does the survival function look like to you?"
   ]
  },
  {
   "cell_type": "markdown",
   "metadata": {},
   "source": [
    "# Let's first work through a computational method of hypothesis testing.\n"
   ]
  },
  {
   "cell_type": "markdown",
   "metadata": {},
   "source": [
    "Let's revisit our elephant example. We are given the mean (9000 lbs) and standard deviation (900 lbs) of the African elephant population.\n",
    "Let's use numpy to simulate an experiment that randomly draws samples of 40 elephants from a normal distribution with the above parameters.\n",
    "\n"
   ]
  },
  {
   "cell_type": "code",
   "execution_count": 4,
   "metadata": {},
   "outputs": [
    {
     "data": {
      "text/plain": [
       "array([ 9231.65993281,  8182.3667105 ,  8659.34720455,  8518.5759611 ,\n",
       "        9772.26601146,  8628.29101592,  9448.36972604, 10809.17932281,\n",
       "       10136.57539007,  8604.70662882,  8688.20589631,  9409.7876936 ,\n",
       "        7498.20356369,  8224.12305449,  9443.61976331,  8888.11794347,\n",
       "       10741.62265866,  8443.40161051,  8057.84491241,  8199.34417021,\n",
       "        9012.63648348,  8855.25328245, 11007.32368395,  8640.79585333,\n",
       "        9049.00010703,  9795.76363368,  8902.81749479,  9500.04628583,\n",
       "        9355.41597236,  9753.48452038,  7732.90964664,  9727.06447227,\n",
       "        8875.54471982,  9168.4607268 ,  8652.00767804, 10493.14385681,\n",
       "        7157.63778202, 10259.38528768,  8388.89359092, 10376.08662114])"
      ]
     },
     "execution_count": 4,
     "metadata": {},
     "output_type": "execute_result"
    }
   ],
   "source": [
    "import numpy as np\n",
    "np.random.seed(43)\n",
    "# So, to computationally simulate a sample, we use numpy's random.normal function.\n",
    "\n",
    "# First, generate the numpy array\n",
    "np.random.normal(9000, 900, 40)"
   ]
  },
  {
   "cell_type": "code",
   "execution_count": 5,
   "metadata": {},
   "outputs": [],
   "source": [
    "# We want to take a bunch of these samples, say 1000. \n",
    "\n",
    "# From the central limit theorom, we know that the distribution of\n",
    "# the means of a random sample will become more normal as the number of samples\n",
    "# taken increases.\n",
    "\n",
    "# So let's take the means of 1000 samples and store them in a list\n",
    "\n",
    "random_means = []\n",
    "\n",
    "for _ in range(1000):\n",
    "    weight_array= np.random.normal(9000, 900, 40)\n",
    "    random_means.append(np.mean(weight_array))"
   ]
  },
  {
   "cell_type": "code",
   "execution_count": 6,
   "metadata": {},
   "outputs": [
    {
     "data": {
      "text/plain": [
       "<Figure size 640x480 with 1 Axes>"
      ]
     },
     "metadata": {},
     "output_type": "display_data"
    }
   ],
   "source": [
    "import matplotlib.pyplot as plt\n",
    "import seaborn as sns\n",
    "# let's create the cumulative distribution function for the random sample\n",
    "\n",
    "rm = sorted(random_means)\n",
    "count = 0\n",
    "cdf_dict = {rm[0]: count}\n",
    "\n",
    "for i in range(1, len(rm)):\n",
    "    if rm[i] > rm[i-1]:\n",
    "        count+=1\n",
    "        cdf_dict[rm[i]] = round(count/len(rm), 2)\n",
    "\n",
    "        \n",
    "plt.plot(list(cdf_dict.keys()), list(cdf_dict.values()))\n",
    "plt.title(\"CDF of mean weights of African Elephants\")\n",
    "plt.xlabel('Weight (lbs)')\n",
    "plt.ylabel('CDF')\n",
    "\n",
    "plt.plot()\n",
    "plt.show()"
   ]
  },
  {
   "cell_type": "code",
   "execution_count": 7,
   "metadata": {},
   "outputs": [],
   "source": [
    "# That looks similar to the cdf of a normal curve."
   ]
  },
  {
   "cell_type": "markdown",
   "metadata": {},
   "source": [
    "Now let's count how many times the means from the sample distribution were less than the mean weight of the Gabonese elephants."
   ]
  },
  {
   "cell_type": "code",
   "execution_count": 8,
   "metadata": {},
   "outputs": [
    {
     "data": {
      "text/plain": [
       "0.005"
      ]
     },
     "execution_count": 8,
     "metadata": {},
     "output_type": "execute_result"
    }
   ],
   "source": [
    "count = 0\n",
    "for mean in random_means:\n",
    "    if mean < 8637:\n",
    "        count += 1\n",
    "        \n",
    "count/1000"
   ]
  },
  {
   "cell_type": "code",
   "execution_count": 9,
   "metadata": {},
   "outputs": [],
   "source": [
    "# That is below our alpha value of .05, so we can reject the null hypothesis!"
   ]
  },
  {
   "cell_type": "code",
   "execution_count": 10,
   "metadata": {},
   "outputs": [
    {
     "name": "stdout",
     "output_type": "stream",
     "text": [
      "8773.313925754846 9245.400305432233\n"
     ]
    }
   ],
   "source": [
    "# now let's calculate and visualize the 90% confidence interval, ie the range from the 5th to the 95th percentiles.\n",
    "# this tells us how much the mean would vary if we ran the experiment again.\n",
    "\n",
    "left_tail = list(cdf_dict.keys())[list(cdf_dict.values()).index(.05)]\n",
    "right_tail = list(cdf_dict.keys())[list(cdf_dict.values()).index(.95)]\n",
    "print(left_tail, right_tail)"
   ]
  },
  {
   "cell_type": "markdown",
   "metadata": {},
   "source": [
    "### analytically, the confidence interval is the \n",
    "$\\mu \\pm z * StandardError$\n"
   ]
  },
  {
   "cell_type": "code",
   "execution_count": 11,
   "metadata": {},
   "outputs": [
    {
     "data": {
      "text/plain": [
       "8765.200883732497"
      ]
     },
     "execution_count": 11,
     "metadata": {},
     "output_type": "execute_result"
    }
   ],
   "source": [
    "\n",
    "9000 + 1.65 * 900/np.sqrt(40)\n",
    "9000 -1.65 * 900/np.sqrt(40)"
   ]
  },
  {
   "cell_type": "code",
   "execution_count": 12,
   "metadata": {},
   "outputs": [
    {
     "data": {
      "text/plain": [
       "Text(0.5, 1.0, '90% Confidence Interval')"
      ]
     },
     "execution_count": 12,
     "metadata": {},
     "output_type": "execute_result"
    },
    {
     "data": {
      "image/png": "[encoded data removed]",
      "text/plain": [
       "<Figure size 432x288 with 1 Axes>"
      ]
     },
     "metadata": {
      "needs_background": "light"
     },
     "output_type": "display_data"
    }
   ],
   "source": [
    "sorted_means = sorted(random_means)\n",
    "cdf_dict = {}\n",
    "\n",
    "for i, mean in enumerate(sorted_means):\n",
    "\n",
    "    if mean > sorted_means[i-1]:\n",
    "        cdf_dict[mean] = (i+1)/len(sorted_means)\n",
    "\n",
    "\n",
    "ax = sns.lineplot(list(cdf_dict.keys()), list(cdf_dict.values()))\n",
    "ax.axvline(left_tail)\n",
    "ax.axvline(right_tail)\n",
    "plt.title(\"CDF of mean weights of African Elephants\")\n",
    "plt.xlabel('Weight (lbs)')\n",
    "plt.ylabel('CDF')\n",
    "plt.title('90% Confidence Interval')"
   ]
  },
  {
   "cell_type": "markdown",
   "metadata": {},
   "source": [
    "If we pulled 100 samples and constructed confidence intervals in the same manner, we would expect that 95 of the intervals would contain the true mean of population age."
   ]
  },
  {
   "cell_type": "code",
   "execution_count": 13,
   "metadata": {},
   "outputs": [
    {
     "data": {
      "text/plain": [
       "<matplotlib.collections.PolyCollection at 0x1a1d58afd0>"
      ]
     },
     "execution_count": 13,
     "metadata": {},
     "output_type": "execute_result"
    },
    {
     "data": {
      "image/png": "[encoded data removed]",
      "text/plain": [
       "<Figure size 432x288 with 1 Axes>"
      ]
     },
     "metadata": {
      "needs_background": "light"
     },
     "output_type": "display_data"
    }
   ],
   "source": [
    "ax = sns.distplot(random_means)\n",
    "plt.axvline(8637)\n",
    "plt.text(8575, .0015, 'Gabonese', rotation = 90)\n",
    "\n",
    "kde_x, kde_y = ax.lines[0].get_data()\n",
    "\n",
    "ax.fill_between(kde_x, kde_y, where=(kde_x<8637), \n",
    "                interpolate=True, color='red')"
   ]
  },
  {
   "cell_type": "code",
   "execution_count": 14,
   "metadata": {},
   "outputs": [
    {
     "data": {
      "text/plain": [
       "'We expect the estimate to be off by  142.36 lbs on average.'"
      ]
     },
     "execution_count": 14,
     "metadata": {},
     "output_type": "execute_result"
    }
   ],
   "source": [
    "# Let's calculate the standard error, which is how far we expect our estimate to be off on average. (111)\n",
    "\n",
    "def mse(sample, mean):\n",
    "    sq_errors = []\n",
    "\n",
    "    for sample_mean in sample:\n",
    "        sq_errors.append((sample_mean - mean)**2)\n",
    "\n",
    "    return sum(sq_errors)/len(sample)\n",
    "\n",
    "rmse = np.sqrt(mse(random_means, 9000))\n",
    "f\"We expect the estimate to be off by {rmse: .2f} lbs on average.\"\n"
   ]
  },
  {
   "cell_type": "markdown",
   "metadata": {},
   "source": [
    "Remember we gave the formula for standard error before as $\\frac{\\sigma}{\\sqrt{n}}$\n",
    "<br> Let's calculate that with our elephant numbers."
   ]
  },
  {
   "cell_type": "code",
   "execution_count": 15,
   "metadata": {},
   "outputs": [
    {
     "data": {
      "text/plain": [
       "142.30249470757707"
      ]
     },
     "execution_count": 15,
     "metadata": {},
     "output_type": "execute_result"
    }
   ],
   "source": [
    "se = 900/np.sqrt(40)\n",
    "se\n",
    "# pretty close"
   ]
  },
  {
   "cell_type": "markdown",
   "metadata": {},
   "source": [
    "Now let's calculate the z-score analytically.\n",
    "Remember the formula for z-score:\n",
    "$z = \\dfrac{{\\bar{x}} - \\mu_{0}}{\\dfrac{\\sigma}{\\sqrt{n}}}$"
   ]
  },
  {
   "cell_type": "code",
   "execution_count": 16,
   "metadata": {},
   "outputs": [
    {
     "data": {
      "text/plain": [
       "-2.5509486999297257"
      ]
     },
     "execution_count": 16,
     "metadata": {},
     "output_type": "execute_result"
    }
   ],
   "source": [
    "x_bar = 8637\n",
    "mu = 9000\n",
    "se = 142.3\n",
    "\n",
    "z = (x_bar - mu)/se\n",
    "z\n",
    "\n"
   ]
  },
  {
   "cell_type": "code",
   "execution_count": 17,
   "metadata": {},
   "outputs": [
    {
     "data": {
      "text/plain": [
       "0.995"
      ]
     },
     "execution_count": 17,
     "metadata": {},
     "output_type": "execute_result"
    }
   ],
   "source": [
    "# Looking it up on the z -table ~ .005 \n",
    "p = 1 - .005\n",
    "p"
   ]
  },
  {
   "cell_type": "code",
   "execution_count": 18,
   "metadata": {},
   "outputs": [
    {
     "data": {
      "text/plain": [
       "0.005371506876180296"
      ]
     },
     "execution_count": 18,
     "metadata": {},
     "output_type": "execute_result"
    }
   ],
   "source": [
    "# or\n",
    "from scipy import stats\n",
    "stats.norm.cdf(z)"
   ]
  },
  {
   "cell_type": "code",
   "execution_count": 19,
   "metadata": {},
   "outputs": [
    {
     "data": {
      "text/plain": [
       "0.9946284931238197"
      ]
     },
     "execution_count": 19,
     "metadata": {},
     "output_type": "execute_result"
    }
   ],
   "source": [
    "# or\n",
    "stats.norm.sf(z)"
   ]
  },
  {
   "cell_type": "markdown",
   "metadata": {},
   "source": [
    "# T-Tests"
   ]
  },
  {
   "cell_type": "markdown",
   "metadata": {},
   "source": [
    "With z-tests, we knew the population standard deviation. What do we do when that is unknown?  That is where T-tests come in.  \n",
    "\n",
    "T-tests substitute the sample's standard deviation for the population standard deviation.   \n",
    "\n",
    "The central limit theorem says that a sampling distribution will be approximately normal if the sample size is large enough.  That is great! But that also implies that sampling distributions of smaller sample sizes may not be normal.  \n",
    "\n"
   ]
  },
  {
   "cell_type": "markdown",
   "metadata": {},
   "source": [
    "### T vs Z\n",
    "\n",
    "A t-test is like a modified z-test:\n",
    "- Penalize for small sample size - “degrees of freedom”\n",
    "- Use sample std. dev. s to estimate population σ\n",
    "\n",
    "![img5](./img/img5.png)"
   ]
  },
  {
   "cell_type": "markdown",
   "metadata": {},
   "source": [
    "### T and Z in detail\n",
    "![img4](./img/img4.png)"
   ]
  },
  {
   "cell_type": "markdown",
   "metadata": {},
   "source": [
    "As the degrees of freedom go up, the t-distribution gets closer to the normal curve."
   ]
  },
  {
   "cell_type": "markdown",
   "metadata": {},
   "source": [
    "With sample sizes below 30, we will use a t-test."
   ]
  },
  {
   "cell_type": "markdown",
   "metadata": {},
   "source": [
    "After calculating our t-stat, we compare it against our t-critical value determined by our preditermined alpha and the degrees of freedom.\n",
    "\n",
    "Degrees of freedom = n - 1\n",
    "### T-value table\n",
    "\n",
    "![img6](./img/img6.png)"
   ]
  },
  {
   "cell_type": "markdown",
   "metadata": {},
   "source": [
    "We can either look it up (http://www.ttable.org/), or calculate it with python:"
   ]
  },
  {
   "cell_type": "code",
   "execution_count": 20,
   "metadata": {},
   "outputs": [
    {
     "name": "stdout",
     "output_type": "stream",
     "text": [
      "Help on function ttest_1samp in module scipy.stats.stats:\n",
      "\n",
      "ttest_1samp(a, popmean, axis=0, nan_policy='propagate')\n",
      "    Calculate the T-test for the mean of ONE group of scores.\n",
      "    \n",
      "    This is a two-sided test for the null hypothesis that the expected value\n",
      "    (mean) of a sample of independent observations `a` is equal to the given\n",
      "    population mean, `popmean`.\n",
      "    \n",
      "    Parameters\n",
      "    ----------\n",
      "    a : array_like\n",
      "        sample observation\n",
      "    popmean : float or array_like\n",
      "        expected value in null hypothesis. If array_like, then it must have the\n",
      "        same shape as `a` excluding the axis dimension\n",
      "    axis : int or None, optional\n",
      "        Axis along which to compute test. If None, compute over the whole\n",
      "        array `a`.\n",
      "    nan_policy : {'propagate', 'raise', 'omit'}, optional\n",
      "        Defines how to handle when input contains nan. 'propagate' returns nan,\n",
      "        'raise' throws an error, 'omit' performs the calculations ignoring nan\n",
      "        values. Default is 'propagate'.\n",
      "    \n",
      "    Returns\n",
      "    -------\n",
      "    statistic : float or array\n",
      "        t-statistic\n",
      "    pvalue : float or array\n",
      "        two-tailed p-value\n",
      "    \n",
      "    Examples\n",
      "    --------\n",
      "    >>> from scipy import stats\n",
      "    \n",
      "    >>> np.random.seed(7654567)  # fix seed to get the same result\n",
      "    >>> rvs = stats.norm.rvs(loc=5, scale=10, size=(50,2))\n",
      "    \n",
      "    Test if mean of random sample is equal to true mean, and different mean.\n",
      "    We reject the null hypothesis in the second case and don't reject it in\n",
      "    the first case.\n",
      "    \n",
      "    >>> stats.ttest_1samp(rvs,5.0)\n",
      "    (array([-0.68014479, -0.04323899]), array([ 0.49961383,  0.96568674]))\n",
      "    >>> stats.ttest_1samp(rvs,0.0)\n",
      "    (array([ 2.77025808,  4.11038784]), array([ 0.00789095,  0.00014999]))\n",
      "    \n",
      "    Examples using axis and non-scalar dimension for population mean.\n",
      "    \n",
      "    >>> stats.ttest_1samp(rvs,[5.0,0.0])\n",
      "    (array([-0.68014479,  4.11038784]), array([  4.99613833e-01,   1.49986458e-04]))\n",
      "    >>> stats.ttest_1samp(rvs.T,[5.0,0.0],axis=1)\n",
      "    (array([-0.68014479,  4.11038784]), array([  4.99613833e-01,   1.49986458e-04]))\n",
      "    >>> stats.ttest_1samp(rvs,[[5.0],[0.0]])\n",
      "    (array([[-0.68014479, -0.04323899],\n",
      "           [ 2.77025808,  4.11038784]]), array([[  4.99613833e-01,   9.65686743e-01],\n",
      "           [  7.89094663e-03,   1.49986458e-04]]))\n",
      "\n"
     ]
    }
   ],
   "source": [
    "from scipy.stats import ttest_1samp\n",
    "help(ttest_1samp)"
   ]
  },
  {
   "cell_type": "markdown",
   "metadata": {},
   "source": [
    "Let's go back to our Gabonese elephants, but let's reduce the sample size to 20, and assume we don't know the standard deviation of the population, but know the sample standard deviation to be ~355 lbs.\n",
    "\n",
    "Here is the new scenario: suppose we are told that African elephants have weights distributed normally around a mean of 9000 lbs. Pachyderm Adventures has recently measured the weights of 20 African elephants in Gabon and has calculated their average weight at 8637 lbs. They claim that these statistics on the Gabonese elephants are significant. Let's find out!\n",
    "\n",
    "Because the sample size is smaller, we will use a one sample t-test."
   ]
  },
  {
   "cell_type": "code",
   "execution_count": 21,
   "metadata": {},
   "outputs": [
    {
     "name": "stdout",
     "output_type": "stream",
     "text": [
      "355.2156950361287\n",
      "8636.9\n"
     ]
    }
   ],
   "source": [
    "# here is the array of our weights\n",
    "gab = [8000, 8500, 8787, 9005, 8101, \n",
    "8891, 7999, 9005, 8302, 8505, \n",
    "8787, 8383, 9090, 8440, 9200, \n",
    "8890, 8765, 9005, 8674, 8409]\n",
    "print(np.std(gab))\n",
    "print(np.mean(gab))\n"
   ]
  },
  {
   "cell_type": "code",
   "execution_count": 22,
   "metadata": {},
   "outputs": [
    {
     "data": {
      "text/plain": [
       "-4.57291648356295"
      ]
     },
     "execution_count": 22,
     "metadata": {},
     "output_type": "execute_result"
    }
   ],
   "source": [
    "# Let's continue to assume our alpha is .05\n",
    "x_bar = 8637\n",
    "mu = 9000\n",
    "sample_std = 355\n",
    "n = 20\n",
    "\n",
    "t_stat = (x_bar - mu)/(sample_std/np.sqrt(n))\n",
    "t_stat"
   ]
  },
  {
   "cell_type": "code",
   "execution_count": 23,
   "metadata": {},
   "outputs": [
    {
     "data": {
      "text/plain": [
       "-1.729132811521367"
      ]
     },
     "execution_count": 23,
     "metadata": {},
     "output_type": "execute_result"
    }
   ],
   "source": [
    "stats.t.ppf(1-.95, 19)"
   ]
  },
  {
   "cell_type": "markdown",
   "metadata": {},
   "source": [
    "Now, let's use the t-table to find our critical t-value.\n",
    "t-critical = -1.729\n"
   ]
  },
  {
   "cell_type": "code",
   "execution_count": 24,
   "metadata": {},
   "outputs": [
    {
     "data": {
      "text/plain": [
       "Ttest_1sampResult(statistic=-4.455648296279936, pvalue=0.0002711592272563807)"
      ]
     },
     "execution_count": 24,
     "metadata": {},
     "output_type": "execute_result"
    }
   ],
   "source": [
    "# Using Python:\n",
    "ttest_1samp(gab, 9000)"
   ]
  },
  {
   "cell_type": "markdown",
   "metadata": {},
   "source": [
    "So, yes, we can very confidently reject our null.\n"
   ]
  },
  {
   "cell_type": "markdown",
   "metadata": {},
   "source": [
    "# Two sample t-test"
   ]
  },
  {
   "cell_type": "markdown",
   "metadata": {},
   "source": [
    "Now let's say we want to compare our Gabonese elephants to a sample of elephants from Kenya. "
   ]
  },
  {
   "cell_type": "code",
   "execution_count": 27,
   "metadata": {},
   "outputs": [
    {
     "name": "stdout",
     "output_type": "stream",
     "text": [
      "8797.45\n",
      "407.0733932597413\n"
     ]
    }
   ],
   "source": [
    "ken = [9101, 8510, 8787, 9005, 8101, \n",
    "9100, 7900, 9005, 8302, 8505, \n",
    "9200, 8383, 9090, 8440, 9110, \n",
    "9300, 9200, 8901, 8701, 9308]\n",
    "print(np.mean(ken))\n",
    "print(np.std(ken))"
   ]
  },
  {
   "cell_type": "markdown",
   "metadata": {},
   "source": [
    "In order to test whether these samples are actually from different populations, we use a two-sample t-test.  The test-statistic here is calculated a bit differently\n",
    "\n",
    "When comparing the difference between groups, we can calculate the two-sample t-statistic like so:\n",
    "\n",
    "$$\\large t = \\frac{\\bar{x}_{1} - \\bar{x}_{2}}{\\sqrt{s^{2}_{p} (\\frac{1}{n_{1}} + \\frac{1}{n_{2}}) }    }  $$\n",
    "\n",
    "$s^{2}_{p}$ is the pooled sample variance, calculated as:\n",
    "\n",
    "$$\\large s^{2}_{p}  = \\frac{(n_{1} -1)s^{2}_{1} +  (n_{2} -1)s^{2}_{2}}{n_{1} + n_{2} - 2}  $$\n",
    "\n",
    "$s^{2}_{1}$ and $s^{2}_{2}$ are the variances for each sample given by the formula \n",
    "$$ \\large s^{2} = \\frac{\\sum_{i=1}^{n}(x_{i} - \\bar{x})^{2}}{n-1} $$"
   ]
  },
  {
   "cell_type": "code",
   "execution_count": 28,
   "metadata": {},
   "outputs": [
    {
     "data": {
      "text/plain": [
       "-1.295328080596772"
      ]
     },
     "execution_count": 28,
     "metadata": {},
     "output_type": "execute_result"
    }
   ],
   "source": [
    "# so\n",
    "\n",
    "x_1 = np.mean(gab)\n",
    "x_2 = np.mean(ken)\n",
    "s_1_2 = np.var(gab, ddof = 1)\n",
    "s_2_2 = np.var(ken, ddof = 1)\n",
    "n_1 = len(gab)\n",
    "n_2 = len(ken)\n",
    "s_p_2 = ((n_1 - 1)*s_1_2 + (n_2 - 1 )* s_2_2)/(n_1 + n_2 -2)\n",
    "\n",
    "t = (x_1 - x_2)/np.sqrt(s_p_2*(1/n_1 + 1/n_2))\n",
    "t"
   ]
  },
  {
   "cell_type": "code",
   "execution_count": 29,
   "metadata": {},
   "outputs": [
    {
     "data": {
      "text/plain": [
       "Ttest_indResult(statistic=-1.295328080596772, pvalue=0.20316363512390417)"
      ]
     },
     "execution_count": 29,
     "metadata": {},
     "output_type": "execute_result"
    }
   ],
   "source": [
    "from scipy.stats import ttest_ind\n",
    "ttest_ind(gab, ken, equal_var = False)"
   ]
  }
 ],
 "metadata": {
  "kernelspec": {
   "display_name": "Python 3",
   "language": "python",
   "name": "python3"
  },
  "language_info": {
   "codemirror_mode": {
    "name": "ipython",
    "version": 3
   },
   "file_extension": ".py",
   "mimetype": "text/x-python",
   "name": "python",
   "nbconvert_exporter": "python",
   "pygments_lexer": "ipython3",
   "version": "3.7.3"
  }
 },
 "nbformat": 4,
 "nbformat_minor": 4
}
